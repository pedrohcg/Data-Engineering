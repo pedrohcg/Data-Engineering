{
 "cells": [
  {
   "cell_type": "code",
   "execution_count": 0,
   "metadata": {
    "application/vnd.databricks.v1+cell": {
     "cellMetadata": {
      "byteLimit": 2048000,
      "rowLimit": 10000
     },
     "inputWidgets": {},
     "nuid": "f00d7e12-028b-487e-bd16-7cf04d45ea31",
     "showTitle": false,
     "title": ""
    }
   },
   "outputs": [
    {
     "output_type": "display_data",
     "data": {
      "text/html": [
       "<style scoped>\n",
       "  .table-result-container {\n",
       "    max-height: 300px;\n",
       "    overflow: auto;\n",
       "  }\n",
       "  table, th, td {\n",
       "    border: 1px solid black;\n",
       "    border-collapse: collapse;\n",
       "  }\n",
       "  th, td {\n",
       "    padding: 5px;\n",
       "  }\n",
       "  th {\n",
       "    text-align: left;\n",
       "  }\n",
       "</style><div class='table-result-container'><table class='table-result'><thead style='background-color: white'><tr></tr></thead><tbody></tbody></table></div>"
      ]
     },
     "metadata": {
      "application/vnd.databricks.v1+output": {
       "addedWidgets": {},
       "aggData": [],
       "aggError": "",
       "aggOverflow": false,
       "aggSchema": [],
       "aggSeriesLimitReached": false,
       "aggType": "",
       "arguments": {},
       "columnCustomDisplayInfos": {},
       "data": [],
       "datasetInfos": [],
       "dbfsResultPath": null,
       "isJsonSchema": true,
       "metadata": {
        "isDbfsCommandResult": false
       },
       "overflow": false,
       "plotOptions": {
        "customPlotOptions": {},
        "displayType": "table",
        "pivotAggregation": null,
        "pivotColumns": null,
        "xColumns": null,
        "yColumns": null
       },
       "removedWidgets": [],
       "schema": [],
       "type": "table"
      }
     },
     "output_type": "display_data"
    }
   ],
   "source": [
    "%sql\n",
    "use banana"
   ]
  },
  {
   "cell_type": "code",
   "execution_count": 0,
   "metadata": {
    "application/vnd.databricks.v1+cell": {
     "cellMetadata": {
      "byteLimit": 2048000,
      "rowLimit": 10000
     },
     "inputWidgets": {},
     "nuid": "cf55aa9c-2c0b-4399-8cb3-803475521a19",
     "showTitle": false,
     "title": ""
    }
   },
   "outputs": [
    {
     "output_type": "display_data",
     "data": {
      "text/html": [
       "<style scoped>\n",
       "  .table-result-container {\n",
       "    max-height: 300px;\n",
       "    overflow: auto;\n",
       "  }\n",
       "  table, th, td {\n",
       "    border: 1px solid black;\n",
       "    border-collapse: collapse;\n",
       "  }\n",
       "  th, td {\n",
       "    padding: 5px;\n",
       "  }\n",
       "  th {\n",
       "    text-align: left;\n",
       "  }\n",
       "</style><div class='table-result-container'><table class='table-result'><thead style='background-color: white'><tr><th>path</th><th>name</th><th>size</th><th>modificationTime</th></tr></thead><tbody><tr><td>dbfs:/public/retail_db/README.md</td><td>README.md</td><td>806</td><td>1695484802091</td></tr><tr><td>dbfs:/public/retail_db/categories/</td><td>categories/</td><td>0</td><td>1695484787983</td></tr><tr><td>dbfs:/public/retail_db/create_db.sql</td><td>create_db.sql</td><td>10303297</td><td>1695484791659</td></tr><tr><td>dbfs:/public/retail_db/create_db_tables_pg.sql</td><td>create_db_tables_pg.sql</td><td>1748</td><td>1695484792227</td></tr><tr><td>dbfs:/public/retail_db/customers/</td><td>customers/</td><td>0</td><td>1695484792610</td></tr><tr><td>dbfs:/public/retail_db/departments/</td><td>departments/</td><td>0</td><td>1695484793900</td></tr><tr><td>dbfs:/public/retail_db/load_db_tables_pg.sql</td><td>load_db_tables_pg.sql</td><td>10297372</td><td>1695484796882</td></tr><tr><td>dbfs:/public/retail_db/order_items/</td><td>order_items/</td><td>0</td><td>1695484798843</td></tr><tr><td>dbfs:/public/retail_db/orders/</td><td>orders/</td><td>0</td><td>1695484797238</td></tr><tr><td>dbfs:/public/retail_db/products/</td><td>products/</td><td>0</td><td>1695484800954</td></tr><tr><td>dbfs:/public/retail_db/schemas.json</td><td>schemas.json</td><td>4255</td><td>1695484802677</td></tr></tbody></table></div>"
      ]
     },
     "metadata": {
      "application/vnd.databricks.v1+output": {
       "addedWidgets": {},
       "aggData": [],
       "aggError": "",
       "aggOverflow": false,
       "aggSchema": [],
       "aggSeriesLimitReached": false,
       "aggType": "",
       "arguments": {},
       "columnCustomDisplayInfos": {},
       "data": [
        [
         "dbfs:/public/retail_db/README.md",
         "README.md",
         806,
         1695484802091
        ],
        [
         "dbfs:/public/retail_db/categories/",
         "categories/",
         0,
         1695484787983
        ],
        [
         "dbfs:/public/retail_db/create_db.sql",
         "create_db.sql",
         10303297,
         1695484791659
        ],
        [
         "dbfs:/public/retail_db/create_db_tables_pg.sql",
         "create_db_tables_pg.sql",
         1748,
         1695484792227
        ],
        [
         "dbfs:/public/retail_db/customers/",
         "customers/",
         0,
         1695484792610
        ],
        [
         "dbfs:/public/retail_db/departments/",
         "departments/",
         0,
         1695484793900
        ],
        [
         "dbfs:/public/retail_db/load_db_tables_pg.sql",
         "load_db_tables_pg.sql",
         10297372,
         1695484796882
        ],
        [
         "dbfs:/public/retail_db/order_items/",
         "order_items/",
         0,
         1695484798843
        ],
        [
         "dbfs:/public/retail_db/orders/",
         "orders/",
         0,
         1695484797238
        ],
        [
         "dbfs:/public/retail_db/products/",
         "products/",
         0,
         1695484800954
        ],
        [
         "dbfs:/public/retail_db/schemas.json",
         "schemas.json",
         4255,
         1695484802677
        ]
       ],
       "datasetInfos": [],
       "dbfsResultPath": null,
       "isJsonSchema": true,
       "metadata": {
        "isDbfsCommandResult": false
       },
       "overflow": false,
       "plotOptions": {
        "customPlotOptions": {},
        "displayType": "table",
        "pivotAggregation": null,
        "pivotColumns": null,
        "xColumns": null,
        "yColumns": null
       },
       "removedWidgets": [],
       "schema": [
        {
         "metadata": "{}",
         "name": "path",
         "type": "\"string\""
        },
        {
         "metadata": "{}",
         "name": "name",
         "type": "\"string\""
        },
        {
         "metadata": "{}",
         "name": "size",
         "type": "\"long\""
        },
        {
         "metadata": "{}",
         "name": "modificationTime",
         "type": "\"long\""
        }
       ],
       "type": "table"
      }
     },
     "output_type": "display_data"
    }
   ],
   "source": [
    "%fs ls dbfs:/public/retail_db"
   ]
  },
  {
   "cell_type": "code",
   "execution_count": 0,
   "metadata": {
    "application/vnd.databricks.v1+cell": {
     "cellMetadata": {
      "byteLimit": 2048000,
      "rowLimit": 10000
     },
     "inputWidgets": {},
     "nuid": "ad9aef63-7aa2-4e95-9629-8fec30ed09b8",
     "showTitle": false,
     "title": ""
    }
   },
   "outputs": [],
   "source": [
    "orders = spark.read.csv('dbfs:/public/retail_db/orders/part-00000', schema='order_id int, order_date date, order_customer_id int, order_status string')"
   ]
  },
  {
   "cell_type": "code",
   "execution_count": 0,
   "metadata": {
    "application/vnd.databricks.v1+cell": {
     "cellMetadata": {
      "byteLimit": 2048000,
      "rowLimit": 10000
     },
     "inputWidgets": {},
     "nuid": "10cb64a0-43a5-40dc-99ac-1754ac1e929d",
     "showTitle": false,
     "title": ""
    }
   },
   "outputs": [],
   "source": [
    "orders.createOrReplaceTempView('orders_v')"
   ]
  },
  {
   "cell_type": "code",
   "execution_count": 0,
   "metadata": {
    "application/vnd.databricks.v1+cell": {
     "cellMetadata": {
      "byteLimit": 2048000,
      "implicitDf": true,
      "rowLimit": 10000
     },
     "inputWidgets": {},
     "nuid": "ca479c6b-0549-4976-a343-6d2b42e99dac",
     "showTitle": false,
     "title": ""
    }
   },
   "outputs": [
    {
     "output_type": "display_data",
     "data": {
      "text/html": [
       "<style scoped>\n",
       "  .table-result-container {\n",
       "    max-height: 300px;\n",
       "    overflow: auto;\n",
       "  }\n",
       "  table, th, td {\n",
       "    border: 1px solid black;\n",
       "    border-collapse: collapse;\n",
       "  }\n",
       "  th, td {\n",
       "    padding: 5px;\n",
       "  }\n",
       "  th {\n",
       "    text-align: left;\n",
       "  }\n",
       "</style><div class='table-result-container'><table class='table-result'><thead style='background-color: white'><tr><th>order_id</th><th>order_date</th><th>order_customer_id</th><th>order_status</th></tr></thead><tbody><tr><td>1</td><td>2013-07-25</td><td>11599</td><td>CLOSED</td></tr><tr><td>2</td><td>2013-07-25</td><td>256</td><td>PENDING_PAYMENT</td></tr><tr><td>3</td><td>2013-07-25</td><td>12111</td><td>COMPLETE</td></tr><tr><td>4</td><td>2013-07-25</td><td>8827</td><td>CLOSED</td></tr><tr><td>5</td><td>2013-07-25</td><td>11318</td><td>COMPLETE</td></tr><tr><td>6</td><td>2013-07-25</td><td>7130</td><td>COMPLETE</td></tr><tr><td>7</td><td>2013-07-25</td><td>4530</td><td>COMPLETE</td></tr><tr><td>8</td><td>2013-07-25</td><td>2911</td><td>PROCESSING</td></tr><tr><td>9</td><td>2013-07-25</td><td>5657</td><td>PENDING_PAYMENT</td></tr><tr><td>10</td><td>2013-07-25</td><td>5648</td><td>PENDING_PAYMENT</td></tr></tbody></table></div>"
      ]
     },
     "metadata": {
      "application/vnd.databricks.v1+output": {
       "addedWidgets": {},
       "aggData": [],
       "aggError": "",
       "aggOverflow": false,
       "aggSchema": [],
       "aggSeriesLimitReached": false,
       "aggType": "",
       "arguments": {},
       "columnCustomDisplayInfos": {},
       "data": [
        [
         1,
         "2013-07-25",
         11599,
         "CLOSED"
        ],
        [
         2,
         "2013-07-25",
         256,
         "PENDING_PAYMENT"
        ],
        [
         3,
         "2013-07-25",
         12111,
         "COMPLETE"
        ],
        [
         4,
         "2013-07-25",
         8827,
         "CLOSED"
        ],
        [
         5,
         "2013-07-25",
         11318,
         "COMPLETE"
        ],
        [
         6,
         "2013-07-25",
         7130,
         "COMPLETE"
        ],
        [
         7,
         "2013-07-25",
         4530,
         "COMPLETE"
        ],
        [
         8,
         "2013-07-25",
         2911,
         "PROCESSING"
        ],
        [
         9,
         "2013-07-25",
         5657,
         "PENDING_PAYMENT"
        ],
        [
         10,
         "2013-07-25",
         5648,
         "PENDING_PAYMENT"
        ]
       ],
       "datasetInfos": [],
       "dbfsResultPath": null,
       "isJsonSchema": true,
       "metadata": {
        "dataframeName": "_sqldf",
        "executionCount": 4
       },
       "overflow": false,
       "plotOptions": {
        "customPlotOptions": {},
        "displayType": "table",
        "pivotAggregation": null,
        "pivotColumns": null,
        "xColumns": null,
        "yColumns": null
       },
       "removedWidgets": [],
       "schema": [
        {
         "metadata": "{}",
         "name": "order_id",
         "type": "\"integer\""
        },
        {
         "metadata": "{}",
         "name": "order_date",
         "type": "\"date\""
        },
        {
         "metadata": "{}",
         "name": "order_customer_id",
         "type": "\"integer\""
        },
        {
         "metadata": "{}",
         "name": "order_status",
         "type": "\"string\""
        }
       ],
       "type": "table"
      }
     },
     "output_type": "display_data"
    }
   ],
   "source": [
    "%sql\n",
    "\n",
    "select * from orders_v limit 10"
   ]
  },
  {
   "cell_type": "code",
   "execution_count": 0,
   "metadata": {
    "application/vnd.databricks.v1+cell": {
     "cellMetadata": {
      "byteLimit": 2048000,
      "rowLimit": 10000
     },
     "inputWidgets": {},
     "nuid": "9d3cc5ea-95d8-4140-b17a-864f20ddc24b",
     "showTitle": false,
     "title": ""
    }
   },
   "outputs": [
    {
     "output_type": "display_data",
     "data": {
      "text/html": [
       "<style scoped>\n",
       "  .table-result-container {\n",
       "    max-height: 300px;\n",
       "    overflow: auto;\n",
       "  }\n",
       "  table, th, td {\n",
       "    border: 1px solid black;\n",
       "    border-collapse: collapse;\n",
       "  }\n",
       "  th, td {\n",
       "    padding: 5px;\n",
       "  }\n",
       "  th {\n",
       "    text-align: left;\n",
       "  }\n",
       "</style><div class='table-result-container'><table class='table-result'><thead style='background-color: white'><tr><th>order_status</th><th>order_count</th></tr></thead><tbody><tr><td>COMPLETE</td><td>22899</td></tr><tr><td>PENDING_PAYMENT</td><td>15030</td></tr><tr><td>PROCESSING</td><td>8275</td></tr><tr><td>PENDING</td><td>7610</td></tr><tr><td>CLOSED</td><td>7556</td></tr><tr><td>ON_HOLD</td><td>3798</td></tr><tr><td>SUSPECTED_FRAUD</td><td>1558</td></tr><tr><td>CANCELED</td><td>1428</td></tr><tr><td>PAYMENT_REVIEW</td><td>729</td></tr></tbody></table></div>"
      ]
     },
     "metadata": {
      "application/vnd.databricks.v1+output": {
       "addedWidgets": {},
       "aggData": [],
       "aggError": "",
       "aggOverflow": false,
       "aggSchema": [],
       "aggSeriesLimitReached": false,
       "aggType": "",
       "arguments": {},
       "columnCustomDisplayInfos": {},
       "data": [
        [
         "COMPLETE",
         22899
        ],
        [
         "PENDING_PAYMENT",
         15030
        ],
        [
         "PROCESSING",
         8275
        ],
        [
         "PENDING",
         7610
        ],
        [
         "CLOSED",
         7556
        ],
        [
         "ON_HOLD",
         3798
        ],
        [
         "SUSPECTED_FRAUD",
         1558
        ],
        [
         "CANCELED",
         1428
        ],
        [
         "PAYMENT_REVIEW",
         729
        ]
       ],
       "datasetInfos": [],
       "dbfsResultPath": null,
       "isJsonSchema": true,
       "metadata": {},
       "overflow": false,
       "plotOptions": {
        "customPlotOptions": {},
        "displayType": "table",
        "pivotAggregation": null,
        "pivotColumns": null,
        "xColumns": null,
        "yColumns": null
       },
       "removedWidgets": [],
       "schema": [
        {
         "metadata": "{}",
         "name": "order_status",
         "type": "\"string\""
        },
        {
         "metadata": "{}",
         "name": "order_count",
         "type": "\"long\""
        }
       ],
       "type": "table"
      }
     },
     "output_type": "display_data"
    }
   ],
   "source": [
    "display(\n",
    "    spark.sql('''\n",
    "          select order_status,\n",
    "          count(1) order_count\n",
    "          from orders_v\n",
    "          group by order_status\n",
    "          order by 2 desc\n",
    "    ''')\n",
    ")"
   ]
  },
  {
   "cell_type": "code",
   "execution_count": 0,
   "metadata": {
    "application/vnd.databricks.v1+cell": {
     "cellMetadata": {
      "byteLimit": 2048000,
      "rowLimit": 10000
     },
     "inputWidgets": {},
     "nuid": "287d01dd-3d3a-4d62-a710-c18c58b10b91",
     "showTitle": false,
     "title": ""
    }
   },
   "outputs": [],
   "source": [
    "from pyspark.sql.functions import count, lit, col, round, sum"
   ]
  },
  {
   "cell_type": "code",
   "execution_count": 0,
   "metadata": {
    "application/vnd.databricks.v1+cell": {
     "cellMetadata": {
      "byteLimit": 2048000,
      "rowLimit": 10000
     },
     "inputWidgets": {},
     "nuid": "1cbab430-cff1-4184-9942-08babb17e94d",
     "showTitle": false,
     "title": ""
    }
   },
   "outputs": [
    {
     "output_type": "display_data",
     "data": {
      "text/html": [
       "<style scoped>\n",
       "  .table-result-container {\n",
       "    max-height: 300px;\n",
       "    overflow: auto;\n",
       "  }\n",
       "  table, th, td {\n",
       "    border: 1px solid black;\n",
       "    border-collapse: collapse;\n",
       "  }\n",
       "  th, td {\n",
       "    padding: 5px;\n",
       "  }\n",
       "  th {\n",
       "    text-align: left;\n",
       "  }\n",
       "</style><div class='table-result-container'><table class='table-result'><thead style='background-color: white'><tr><th>order_status</th><th>order_count</th></tr></thead><tbody><tr><td>PENDING_PAYMENT</td><td>15030</td></tr><tr><td>COMPLETE</td><td>22899</td></tr><tr><td>ON_HOLD</td><td>3798</td></tr><tr><td>PAYMENT_REVIEW</td><td>729</td></tr><tr><td>PROCESSING</td><td>8275</td></tr><tr><td>CLOSED</td><td>7556</td></tr><tr><td>SUSPECTED_FRAUD</td><td>1558</td></tr><tr><td>PENDING</td><td>7610</td></tr><tr><td>CANCELED</td><td>1428</td></tr></tbody></table></div>"
      ]
     },
     "metadata": {
      "application/vnd.databricks.v1+output": {
       "addedWidgets": {},
       "aggData": [],
       "aggError": "",
       "aggOverflow": false,
       "aggSchema": [],
       "aggSeriesLimitReached": false,
       "aggType": "",
       "arguments": {},
       "columnCustomDisplayInfos": {},
       "data": [
        [
         "PENDING_PAYMENT",
         15030
        ],
        [
         "COMPLETE",
         22899
        ],
        [
         "ON_HOLD",
         3798
        ],
        [
         "PAYMENT_REVIEW",
         729
        ],
        [
         "PROCESSING",
         8275
        ],
        [
         "CLOSED",
         7556
        ],
        [
         "SUSPECTED_FRAUD",
         1558
        ],
        [
         "PENDING",
         7610
        ],
        [
         "CANCELED",
         1428
        ]
       ],
       "datasetInfos": [],
       "dbfsResultPath": null,
       "isJsonSchema": true,
       "metadata": {},
       "overflow": false,
       "plotOptions": {
        "customPlotOptions": {},
        "displayType": "table",
        "pivotAggregation": null,
        "pivotColumns": null,
        "xColumns": null,
        "yColumns": null
       },
       "removedWidgets": [],
       "schema": [
        {
         "metadata": "{}",
         "name": "order_status",
         "type": "\"string\""
        },
        {
         "metadata": "{}",
         "name": "order_count",
         "type": "\"long\""
        }
       ],
       "type": "table"
      }
     },
     "output_type": "display_data"
    }
   ],
   "source": [
    "display(\n",
    "    orders.groupBy('order_status'). \\\n",
    "    agg(count(lit(1)).alias('order_count'))\n",
    ")"
   ]
  },
  {
   "cell_type": "code",
   "execution_count": 0,
   "metadata": {
    "application/vnd.databricks.v1+cell": {
     "cellMetadata": {
      "byteLimit": 2048000,
      "rowLimit": 10000
     },
     "inputWidgets": {},
     "nuid": "64ac5bb2-d85d-4e5c-9078-905d025d58f8",
     "showTitle": false,
     "title": ""
    }
   },
   "outputs": [],
   "source": [
    "order_count_by_status = orders.groupBy('order_status'). \\\n",
    "    agg(count(lit(1)).alias('order_count'))"
   ]
  },
  {
   "cell_type": "code",
   "execution_count": 0,
   "metadata": {
    "application/vnd.databricks.v1+cell": {
     "cellMetadata": {
      "byteLimit": 2048000,
      "rowLimit": 10000
     },
     "inputWidgets": {},
     "nuid": "ecde2e54-20df-49bc-9539-6fb5370c8287",
     "showTitle": false,
     "title": ""
    }
   },
   "outputs": [],
   "source": [
    "order_count_by_status.write.saveAsTable('banana.order_count_by_status')"
   ]
  },
  {
   "cell_type": "code",
   "execution_count": 0,
   "metadata": {
    "application/vnd.databricks.v1+cell": {
     "cellMetadata": {},
     "inputWidgets": {},
     "nuid": "83f6a490-bab5-477b-93de-fd9d2843db67",
     "showTitle": false,
     "title": ""
    }
   },
   "outputs": [],
   "source": [
    "order_count_by_status.write.saveAsTable('banana.order_count_by_status', format='parquet/delta', mode='append/overwrite/etc')"
   ]
  },
  {
   "cell_type": "code",
   "execution_count": 0,
   "metadata": {
    "application/vnd.databricks.v1+cell": {
     "cellMetadata": {
      "byteLimit": 2048000,
      "implicitDf": true,
      "rowLimit": 10000
     },
     "inputWidgets": {},
     "nuid": "9cbd32f1-d361-4379-948e-d4c5a68fe24f",
     "showTitle": false,
     "title": ""
    }
   },
   "outputs": [
    {
     "output_type": "display_data",
     "data": {
      "text/html": [
       "<style scoped>\n",
       "  .table-result-container {\n",
       "    max-height: 300px;\n",
       "    overflow: auto;\n",
       "  }\n",
       "  table, th, td {\n",
       "    border: 1px solid black;\n",
       "    border-collapse: collapse;\n",
       "  }\n",
       "  th, td {\n",
       "    padding: 5px;\n",
       "  }\n",
       "  th {\n",
       "    text-align: left;\n",
       "  }\n",
       "</style><div class='table-result-container'><table class='table-result'><thead style='background-color: white'><tr></tr></thead><tbody></tbody></table></div>"
      ]
     },
     "metadata": {
      "application/vnd.databricks.v1+output": {
       "addedWidgets": {},
       "aggData": [],
       "aggError": "",
       "aggOverflow": false,
       "aggSchema": [],
       "aggSeriesLimitReached": false,
       "aggType": "",
       "arguments": {},
       "columnCustomDisplayInfos": {},
       "data": [],
       "datasetInfos": [],
       "dbfsResultPath": null,
       "isJsonSchema": true,
       "metadata": {
        "dataframeName": null
       },
       "overflow": false,
       "plotOptions": {
        "customPlotOptions": {},
        "displayType": "table",
        "pivotAggregation": null,
        "pivotColumns": null,
        "xColumns": null,
        "yColumns": null
       },
       "removedWidgets": [],
       "schema": [],
       "type": "table"
      }
     },
     "output_type": "display_data"
    }
   ],
   "source": [
    "%sql\n",
    "\n",
    "use banana"
   ]
  },
  {
   "cell_type": "code",
   "execution_count": 0,
   "metadata": {
    "application/vnd.databricks.v1+cell": {
     "cellMetadata": {
      "byteLimit": 2048000,
      "implicitDf": true,
      "rowLimit": 10000
     },
     "inputWidgets": {},
     "nuid": "abd80c3a-937c-4993-84a0-47f660225b9b",
     "showTitle": false,
     "title": ""
    }
   },
   "outputs": [
    {
     "output_type": "display_data",
     "data": {
      "text/html": [
       "<style scoped>\n",
       "  .table-result-container {\n",
       "    max-height: 300px;\n",
       "    overflow: auto;\n",
       "  }\n",
       "  table, th, td {\n",
       "    border: 1px solid black;\n",
       "    border-collapse: collapse;\n",
       "  }\n",
       "  th, td {\n",
       "    padding: 5px;\n",
       "  }\n",
       "  th {\n",
       "    text-align: left;\n",
       "  }\n",
       "</style><div class='table-result-container'><table class='table-result'><thead style='background-color: white'><tr><th>order_status</th><th>order_count</th></tr></thead><tbody><tr><td>PENDING_PAYMENT</td><td>15030</td></tr><tr><td>COMPLETE</td><td>22899</td></tr><tr><td>ON_HOLD</td><td>3798</td></tr><tr><td>PAYMENT_REVIEW</td><td>729</td></tr><tr><td>PROCESSING</td><td>8275</td></tr><tr><td>CLOSED</td><td>7556</td></tr><tr><td>SUSPECTED_FRAUD</td><td>1558</td></tr><tr><td>PENDING</td><td>7610</td></tr><tr><td>CANCELED</td><td>1428</td></tr></tbody></table></div>"
      ]
     },
     "metadata": {
      "application/vnd.databricks.v1+output": {
       "addedWidgets": {},
       "aggData": [],
       "aggError": "",
       "aggOverflow": false,
       "aggSchema": [],
       "aggSeriesLimitReached": false,
       "aggType": "",
       "arguments": {},
       "columnCustomDisplayInfos": {},
       "data": [
        [
         "PENDING_PAYMENT",
         15030
        ],
        [
         "COMPLETE",
         22899
        ],
        [
         "ON_HOLD",
         3798
        ],
        [
         "PAYMENT_REVIEW",
         729
        ],
        [
         "PROCESSING",
         8275
        ],
        [
         "CLOSED",
         7556
        ],
        [
         "SUSPECTED_FRAUD",
         1558
        ],
        [
         "PENDING",
         7610
        ],
        [
         "CANCELED",
         1428
        ]
       ],
       "datasetInfos": [],
       "dbfsResultPath": null,
       "isJsonSchema": true,
       "metadata": {
        "dataframeName": "_sqldf",
        "executionCount": 18
       },
       "overflow": false,
       "plotOptions": {
        "customPlotOptions": {},
        "displayType": "table",
        "pivotAggregation": null,
        "pivotColumns": null,
        "xColumns": null,
        "yColumns": null
       },
       "removedWidgets": [],
       "schema": [
        {
         "metadata": "{}",
         "name": "order_status",
         "type": "\"string\""
        },
        {
         "metadata": "{}",
         "name": "order_count",
         "type": "\"long\""
        }
       ],
       "type": "table"
      }
     },
     "output_type": "display_data"
    }
   ],
   "source": [
    "%sql\n",
    "\n",
    "select * from order_count_by_status limit 10"
   ]
  },
  {
   "cell_type": "code",
   "execution_count": 0,
   "metadata": {
    "application/vnd.databricks.v1+cell": {
     "cellMetadata": {
      "byteLimit": 2048000,
      "rowLimit": 10000
     },
     "inputWidgets": {},
     "nuid": "77b193eb-7a49-41a4-a9ca-ddfb0f5a91f0",
     "showTitle": false,
     "title": ""
    }
   },
   "outputs": [],
   "source": [
    "order_count_by_status.write.saveAsTable('banana.order_count_by_status', mode='append')"
   ]
  },
  {
   "cell_type": "code",
   "execution_count": 0,
   "metadata": {
    "application/vnd.databricks.v1+cell": {
     "cellMetadata": {
      "byteLimit": 2048000,
      "implicitDf": true,
      "rowLimit": 10000
     },
     "inputWidgets": {},
     "nuid": "86af6bc8-3b89-48f7-8540-a34301e97688",
     "showTitle": false,
     "title": ""
    }
   },
   "outputs": [
    {
     "output_type": "display_data",
     "data": {
      "text/html": [
       "<style scoped>\n",
       "  .table-result-container {\n",
       "    max-height: 300px;\n",
       "    overflow: auto;\n",
       "  }\n",
       "  table, th, td {\n",
       "    border: 1px solid black;\n",
       "    border-collapse: collapse;\n",
       "  }\n",
       "  th, td {\n",
       "    padding: 5px;\n",
       "  }\n",
       "  th {\n",
       "    text-align: left;\n",
       "  }\n",
       "</style><div class='table-result-container'><table class='table-result'><thead style='background-color: white'><tr><th>order_status</th><th>order_count</th></tr></thead><tbody><tr><td>PENDING_PAYMENT</td><td>15030</td></tr><tr><td>COMPLETE</td><td>22899</td></tr><tr><td>ON_HOLD</td><td>3798</td></tr><tr><td>PAYMENT_REVIEW</td><td>729</td></tr><tr><td>PROCESSING</td><td>8275</td></tr><tr><td>CLOSED</td><td>7556</td></tr><tr><td>SUSPECTED_FRAUD</td><td>1558</td></tr><tr><td>PENDING</td><td>7610</td></tr><tr><td>CANCELED</td><td>1428</td></tr><tr><td>PENDING_PAYMENT</td><td>15030</td></tr><tr><td>COMPLETE</td><td>22899</td></tr><tr><td>ON_HOLD</td><td>3798</td></tr><tr><td>PAYMENT_REVIEW</td><td>729</td></tr><tr><td>PROCESSING</td><td>8275</td></tr><tr><td>CLOSED</td><td>7556</td></tr><tr><td>SUSPECTED_FRAUD</td><td>1558</td></tr><tr><td>PENDING</td><td>7610</td></tr><tr><td>CANCELED</td><td>1428</td></tr></tbody></table></div>"
      ]
     },
     "metadata": {
      "application/vnd.databricks.v1+output": {
       "addedWidgets": {},
       "aggData": [],
       "aggError": "",
       "aggOverflow": false,
       "aggSchema": [],
       "aggSeriesLimitReached": false,
       "aggType": "",
       "arguments": {},
       "columnCustomDisplayInfos": {},
       "data": [
        [
         "PENDING_PAYMENT",
         15030
        ],
        [
         "COMPLETE",
         22899
        ],
        [
         "ON_HOLD",
         3798
        ],
        [
         "PAYMENT_REVIEW",
         729
        ],
        [
         "PROCESSING",
         8275
        ],
        [
         "CLOSED",
         7556
        ],
        [
         "SUSPECTED_FRAUD",
         1558
        ],
        [
         "PENDING",
         7610
        ],
        [
         "CANCELED",
         1428
        ],
        [
         "PENDING_PAYMENT",
         15030
        ],
        [
         "COMPLETE",
         22899
        ],
        [
         "ON_HOLD",
         3798
        ],
        [
         "PAYMENT_REVIEW",
         729
        ],
        [
         "PROCESSING",
         8275
        ],
        [
         "CLOSED",
         7556
        ],
        [
         "SUSPECTED_FRAUD",
         1558
        ],
        [
         "PENDING",
         7610
        ],
        [
         "CANCELED",
         1428
        ]
       ],
       "datasetInfos": [],
       "dbfsResultPath": null,
       "isJsonSchema": true,
       "metadata": {
        "dataframeName": "_sqldf",
        "executionCount": 23
       },
       "overflow": false,
       "plotOptions": {
        "customPlotOptions": {},
        "displayType": "table",
        "pivotAggregation": null,
        "pivotColumns": null,
        "xColumns": null,
        "yColumns": null
       },
       "removedWidgets": [],
       "schema": [
        {
         "metadata": "{}",
         "name": "order_status",
         "type": "\"string\""
        },
        {
         "metadata": "{}",
         "name": "order_count",
         "type": "\"long\""
        }
       ],
       "type": "table"
      }
     },
     "output_type": "display_data"
    }
   ],
   "source": [
    "%sql\n",
    "\n",
    "select * from order_count_by_status "
   ]
  },
  {
   "cell_type": "code",
   "execution_count": 0,
   "metadata": {
    "application/vnd.databricks.v1+cell": {
     "cellMetadata": {
      "byteLimit": 2048000,
      "rowLimit": 10000
     },
     "inputWidgets": {},
     "nuid": "0ddf3c4f-6917-4a71-b498-b7c8e8d1f299",
     "showTitle": false,
     "title": ""
    }
   },
   "outputs": [],
   "source": [
    "order_count_by_status.write.saveAsTable('banana.order_count_by_status', mode='overwrite')"
   ]
  },
  {
   "cell_type": "code",
   "execution_count": 0,
   "metadata": {
    "application/vnd.databricks.v1+cell": {
     "cellMetadata": {
      "byteLimit": 2048000,
      "implicitDf": true,
      "rowLimit": 10000
     },
     "inputWidgets": {},
     "nuid": "dc357385-67a6-4d2b-8fb2-56de02cb8bad",
     "showTitle": false,
     "title": ""
    }
   },
   "outputs": [
    {
     "output_type": "display_data",
     "data": {
      "text/html": [
       "<style scoped>\n",
       "  .table-result-container {\n",
       "    max-height: 300px;\n",
       "    overflow: auto;\n",
       "  }\n",
       "  table, th, td {\n",
       "    border: 1px solid black;\n",
       "    border-collapse: collapse;\n",
       "  }\n",
       "  th, td {\n",
       "    padding: 5px;\n",
       "  }\n",
       "  th {\n",
       "    text-align: left;\n",
       "  }\n",
       "</style><div class='table-result-container'><table class='table-result'><thead style='background-color: white'><tr><th>order_status</th><th>order_count</th></tr></thead><tbody><tr><td>PENDING_PAYMENT</td><td>15030</td></tr><tr><td>COMPLETE</td><td>22899</td></tr><tr><td>ON_HOLD</td><td>3798</td></tr><tr><td>PAYMENT_REVIEW</td><td>729</td></tr><tr><td>PROCESSING</td><td>8275</td></tr><tr><td>CLOSED</td><td>7556</td></tr><tr><td>SUSPECTED_FRAUD</td><td>1558</td></tr><tr><td>PENDING</td><td>7610</td></tr><tr><td>CANCELED</td><td>1428</td></tr></tbody></table></div>"
      ]
     },
     "metadata": {
      "application/vnd.databricks.v1+output": {
       "addedWidgets": {},
       "aggData": [],
       "aggError": "",
       "aggOverflow": false,
       "aggSchema": [],
       "aggSeriesLimitReached": false,
       "aggType": "",
       "arguments": {},
       "columnCustomDisplayInfos": {},
       "data": [
        [
         "PENDING_PAYMENT",
         15030
        ],
        [
         "COMPLETE",
         22899
        ],
        [
         "ON_HOLD",
         3798
        ],
        [
         "PAYMENT_REVIEW",
         729
        ],
        [
         "PROCESSING",
         8275
        ],
        [
         "CLOSED",
         7556
        ],
        [
         "SUSPECTED_FRAUD",
         1558
        ],
        [
         "PENDING",
         7610
        ],
        [
         "CANCELED",
         1428
        ]
       ],
       "datasetInfos": [],
       "dbfsResultPath": null,
       "isJsonSchema": true,
       "metadata": {
        "dataframeName": "_sqldf",
        "executionCount": 25
       },
       "overflow": false,
       "plotOptions": {
        "customPlotOptions": {},
        "displayType": "table",
        "pivotAggregation": null,
        "pivotColumns": null,
        "xColumns": null,
        "yColumns": null
       },
       "removedWidgets": [],
       "schema": [
        {
         "metadata": "{}",
         "name": "order_status",
         "type": "\"string\""
        },
        {
         "metadata": "{}",
         "name": "order_count",
         "type": "\"long\""
        }
       ],
       "type": "table"
      }
     },
     "output_type": "display_data"
    }
   ],
   "source": [
    "%sql\n",
    "\n",
    "select * from order_count_by_status limit 10"
   ]
  },
  {
   "cell_type": "code",
   "execution_count": 0,
   "metadata": {
    "application/vnd.databricks.v1+cell": {
     "cellMetadata": {
      "byteLimit": 2048000,
      "implicitDf": true,
      "rowLimit": 10000
     },
     "inputWidgets": {},
     "nuid": "0cd2db49-fa14-4d3c-8e7b-96b3bdff699c",
     "showTitle": false,
     "title": ""
    }
   },
   "outputs": [
    {
     "output_type": "display_data",
     "data": {
      "text/html": [
       "<style scoped>\n",
       "  .table-result-container {\n",
       "    max-height: 300px;\n",
       "    overflow: auto;\n",
       "  }\n",
       "  table, th, td {\n",
       "    border: 1px solid black;\n",
       "    border-collapse: collapse;\n",
       "  }\n",
       "  th, td {\n",
       "    padding: 5px;\n",
       "  }\n",
       "  th {\n",
       "    text-align: left;\n",
       "  }\n",
       "</style><div class='table-result-container'><table class='table-result'><thead style='background-color: white'><tr></tr></thead><tbody></tbody></table></div>"
      ]
     },
     "metadata": {
      "application/vnd.databricks.v1+output": {
       "addedWidgets": {},
       "aggData": [],
       "aggError": "",
       "aggOverflow": false,
       "aggSchema": [],
       "aggSeriesLimitReached": false,
       "aggType": "",
       "arguments": {},
       "columnCustomDisplayInfos": {},
       "data": [],
       "datasetInfos": [],
       "dbfsResultPath": null,
       "isJsonSchema": true,
       "metadata": {
        "dataframeName": null
       },
       "overflow": false,
       "plotOptions": {
        "customPlotOptions": {},
        "displayType": "table",
        "pivotAggregation": null,
        "pivotColumns": null,
        "xColumns": null,
        "yColumns": null
       },
       "removedWidgets": [],
       "schema": [],
       "type": "table"
      }
     },
     "output_type": "display_data"
    }
   ],
   "source": [
    "%sql\n",
    "\n",
    "drop table order_count_by_status"
   ]
  },
  {
   "cell_type": "code",
   "execution_count": 0,
   "metadata": {
    "application/vnd.databricks.v1+cell": {
     "cellMetadata": {
      "byteLimit": 2048000,
      "implicitDf": true,
      "rowLimit": 10000
     },
     "inputWidgets": {},
     "nuid": "be18dfb2-7a30-484f-9a27-e97c7c4c2ff5",
     "showTitle": false,
     "title": ""
    }
   },
   "outputs": [
    {
     "output_type": "display_data",
     "data": {
      "text/html": [
       "<style scoped>\n",
       "  .table-result-container {\n",
       "    max-height: 300px;\n",
       "    overflow: auto;\n",
       "  }\n",
       "  table, th, td {\n",
       "    border: 1px solid black;\n",
       "    border-collapse: collapse;\n",
       "  }\n",
       "  th, td {\n",
       "    padding: 5px;\n",
       "  }\n",
       "  th {\n",
       "    text-align: left;\n",
       "  }\n",
       "</style><div class='table-result-container'><table class='table-result'><thead style='background-color: white'><tr></tr></thead><tbody></tbody></table></div>"
      ]
     },
     "metadata": {
      "application/vnd.databricks.v1+output": {
       "addedWidgets": {},
       "aggData": [],
       "aggError": "",
       "aggOverflow": false,
       "aggSchema": [],
       "aggSeriesLimitReached": false,
       "aggType": "",
       "arguments": {},
       "columnCustomDisplayInfos": {},
       "data": [],
       "datasetInfos": [],
       "dbfsResultPath": null,
       "isJsonSchema": true,
       "metadata": {
        "dataframeName": null
       },
       "overflow": false,
       "plotOptions": {
        "customPlotOptions": {},
        "displayType": "table",
        "pivotAggregation": null,
        "pivotColumns": null,
        "xColumns": null,
        "yColumns": null
       },
       "removedWidgets": [],
       "schema": [],
       "type": "table"
      }
     },
     "output_type": "display_data"
    }
   ],
   "source": [
    "%sql\n",
    "\n",
    "create table order_count_by_status (\n",
    "  order_status string,\n",
    "  order_count int\n",
    ")"
   ]
  },
  {
   "cell_type": "code",
   "execution_count": 0,
   "metadata": {
    "application/vnd.databricks.v1+cell": {
     "cellMetadata": {
      "byteLimit": 2048000,
      "rowLimit": 10000
     },
     "inputWidgets": {},
     "nuid": "6d7e9b1c-fda8-4bda-b68c-88f4c0fcc02a",
     "showTitle": false,
     "title": ""
    }
   },
   "outputs": [],
   "source": [
    "order_count_by_status.write.insertInto('banana.order_count_by_status')"
   ]
  },
  {
   "cell_type": "code",
   "execution_count": 0,
   "metadata": {
    "application/vnd.databricks.v1+cell": {
     "cellMetadata": {
      "byteLimit": 2048000,
      "implicitDf": true,
      "rowLimit": 10000
     },
     "inputWidgets": {},
     "nuid": "c3547a51-a1ca-4d3a-84da-5c68d26effb5",
     "showTitle": false,
     "title": ""
    }
   },
   "outputs": [
    {
     "output_type": "display_data",
     "data": {
      "text/html": [
       "<style scoped>\n",
       "  .table-result-container {\n",
       "    max-height: 300px;\n",
       "    overflow: auto;\n",
       "  }\n",
       "  table, th, td {\n",
       "    border: 1px solid black;\n",
       "    border-collapse: collapse;\n",
       "  }\n",
       "  th, td {\n",
       "    padding: 5px;\n",
       "  }\n",
       "  th {\n",
       "    text-align: left;\n",
       "  }\n",
       "</style><div class='table-result-container'><table class='table-result'><thead style='background-color: white'><tr><th>order_status</th><th>order_count</th></tr></thead><tbody><tr><td>PENDING_PAYMENT</td><td>15030</td></tr><tr><td>COMPLETE</td><td>22899</td></tr><tr><td>ON_HOLD</td><td>3798</td></tr><tr><td>PAYMENT_REVIEW</td><td>729</td></tr><tr><td>PROCESSING</td><td>8275</td></tr><tr><td>CLOSED</td><td>7556</td></tr><tr><td>SUSPECTED_FRAUD</td><td>1558</td></tr><tr><td>PENDING</td><td>7610</td></tr><tr><td>CANCELED</td><td>1428</td></tr></tbody></table></div>"
      ]
     },
     "metadata": {
      "application/vnd.databricks.v1+output": {
       "addedWidgets": {},
       "aggData": [],
       "aggError": "",
       "aggOverflow": false,
       "aggSchema": [],
       "aggSeriesLimitReached": false,
       "aggType": "",
       "arguments": {},
       "columnCustomDisplayInfos": {},
       "data": [
        [
         "PENDING_PAYMENT",
         15030
        ],
        [
         "COMPLETE",
         22899
        ],
        [
         "ON_HOLD",
         3798
        ],
        [
         "PAYMENT_REVIEW",
         729
        ],
        [
         "PROCESSING",
         8275
        ],
        [
         "CLOSED",
         7556
        ],
        [
         "SUSPECTED_FRAUD",
         1558
        ],
        [
         "PENDING",
         7610
        ],
        [
         "CANCELED",
         1428
        ]
       ],
       "datasetInfos": [],
       "dbfsResultPath": null,
       "isJsonSchema": true,
       "metadata": {
        "dataframeName": "_sqldf",
        "executionCount": 27
       },
       "overflow": false,
       "plotOptions": {
        "customPlotOptions": {},
        "displayType": "table",
        "pivotAggregation": null,
        "pivotColumns": null,
        "xColumns": null,
        "yColumns": null
       },
       "removedWidgets": [],
       "schema": [
        {
         "metadata": "{}",
         "name": "order_status",
         "type": "\"string\""
        },
        {
         "metadata": "{}",
         "name": "order_count",
         "type": "\"integer\""
        }
       ],
       "type": "table"
      }
     },
     "output_type": "display_data"
    }
   ],
   "source": [
    "%sql\n",
    "\n",
    "select * from order_count_by_status limit 10"
   ]
  },
  {
   "cell_type": "code",
   "execution_count": 0,
   "metadata": {
    "application/vnd.databricks.v1+cell": {
     "cellMetadata": {
      "byteLimit": 2048000,
      "rowLimit": 10000
     },
     "inputWidgets": {},
     "nuid": "50145595-b3e8-4ac9-a9ef-f9dbfdba6803",
     "showTitle": false,
     "title": ""
    }
   },
   "outputs": [],
   "source": [
    "order_count_by_status.write.insertInto('banana.order_count_by_status', overwrite=True)"
   ]
  },
  {
   "cell_type": "code",
   "execution_count": 0,
   "metadata": {
    "application/vnd.databricks.v1+cell": {
     "cellMetadata": {
      "byteLimit": 2048000,
      "implicitDf": true,
      "rowLimit": 10000
     },
     "inputWidgets": {},
     "nuid": "8a9a5033-49c9-4ab3-837f-7b9304c02d67",
     "showTitle": false,
     "title": ""
    }
   },
   "outputs": [
    {
     "output_type": "display_data",
     "data": {
      "text/html": [
       "<style scoped>\n",
       "  .table-result-container {\n",
       "    max-height: 300px;\n",
       "    overflow: auto;\n",
       "  }\n",
       "  table, th, td {\n",
       "    border: 1px solid black;\n",
       "    border-collapse: collapse;\n",
       "  }\n",
       "  th, td {\n",
       "    padding: 5px;\n",
       "  }\n",
       "  th {\n",
       "    text-align: left;\n",
       "  }\n",
       "</style><div class='table-result-container'><table class='table-result'><thead style='background-color: white'><tr><th>order_status</th><th>order_count</th></tr></thead><tbody><tr><td>PENDING_PAYMENT</td><td>15030</td></tr><tr><td>COMPLETE</td><td>22899</td></tr><tr><td>ON_HOLD</td><td>3798</td></tr><tr><td>PAYMENT_REVIEW</td><td>729</td></tr><tr><td>PROCESSING</td><td>8275</td></tr><tr><td>CLOSED</td><td>7556</td></tr><tr><td>SUSPECTED_FRAUD</td><td>1558</td></tr><tr><td>PENDING</td><td>7610</td></tr><tr><td>CANCELED</td><td>1428</td></tr></tbody></table></div>"
      ]
     },
     "metadata": {
      "application/vnd.databricks.v1+output": {
       "addedWidgets": {},
       "aggData": [],
       "aggError": "",
       "aggOverflow": false,
       "aggSchema": [],
       "aggSeriesLimitReached": false,
       "aggType": "",
       "arguments": {},
       "columnCustomDisplayInfos": {},
       "data": [
        [
         "PENDING_PAYMENT",
         15030
        ],
        [
         "COMPLETE",
         22899
        ],
        [
         "ON_HOLD",
         3798
        ],
        [
         "PAYMENT_REVIEW",
         729
        ],
        [
         "PROCESSING",
         8275
        ],
        [
         "CLOSED",
         7556
        ],
        [
         "SUSPECTED_FRAUD",
         1558
        ],
        [
         "PENDING",
         7610
        ],
        [
         "CANCELED",
         1428
        ]
       ],
       "datasetInfos": [],
       "dbfsResultPath": null,
       "isJsonSchema": true,
       "metadata": {
        "dataframeName": "_sqldf",
        "executionCount": 29
       },
       "overflow": false,
       "plotOptions": {
        "customPlotOptions": {},
        "displayType": "table",
        "pivotAggregation": null,
        "pivotColumns": null,
        "xColumns": null,
        "yColumns": null
       },
       "removedWidgets": [],
       "schema": [
        {
         "metadata": "{}",
         "name": "order_status",
         "type": "\"string\""
        },
        {
         "metadata": "{}",
         "name": "order_count",
         "type": "\"integer\""
        }
       ],
       "type": "table"
      }
     },
     "output_type": "display_data"
    }
   ],
   "source": [
    "%sql\n",
    "\n",
    "select * from order_count_by_status limit 10"
   ]
  },
  {
   "cell_type": "code",
   "execution_count": 0,
   "metadata": {
    "application/vnd.databricks.v1+cell": {
     "cellMetadata": {
      "byteLimit": 2048000,
      "rowLimit": 10000
     },
     "inputWidgets": {},
     "nuid": "87a4415b-1965-4388-a404-95c4ca7c1587",
     "showTitle": false,
     "title": ""
    }
   },
   "outputs": [],
   "source": [
    "orders = spark.read.table('orders')"
   ]
  },
  {
   "cell_type": "code",
   "execution_count": 0,
   "metadata": {
    "application/vnd.databricks.v1+cell": {
     "cellMetadata": {
      "byteLimit": 2048000,
      "rowLimit": 10000
     },
     "inputWidgets": {},
     "nuid": "1951af8c-f5b6-4bfc-9f51-eb232246ea82",
     "showTitle": false,
     "title": ""
    }
   },
   "outputs": [],
   "source": [
    "order_items = spark.read.table('order_items')"
   ]
  },
  {
   "cell_type": "code",
   "execution_count": 0,
   "metadata": {
    "application/vnd.databricks.v1+cell": {
     "cellMetadata": {
      "byteLimit": 2048000,
      "rowLimit": 10000
     },
     "inputWidgets": {},
     "nuid": "84f70558-f055-4602-b5eb-67bb31367e0f",
     "showTitle": false,
     "title": ""
    }
   },
   "outputs": [
    {
     "output_type": "display_data",
     "data": {
      "text/html": [
       "<style scoped>\n",
       "  .table-result-container {\n",
       "    max-height: 300px;\n",
       "    overflow: auto;\n",
       "  }\n",
       "  table, th, td {\n",
       "    border: 1px solid black;\n",
       "    border-collapse: collapse;\n",
       "  }\n",
       "  th, td {\n",
       "    padding: 5px;\n",
       "  }\n",
       "  th {\n",
       "    text-align: left;\n",
       "  }\n",
       "</style><div class='table-result-container'><table class='table-result'><thead style='background-color: white'><tr><th>order_id</th><th>order_date</th><th>order_customer_id</th><th>order_status</th></tr></thead><tbody><tr><td>1</td><td>2013-07-25 00:00:00.0</td><td>11599</td><td>CLOSED</td></tr><tr><td>2</td><td>2013-07-25 00:00:00.0</td><td>256</td><td>PENDING_PAYMENT</td></tr><tr><td>3</td><td>2013-07-25 00:00:00.0</td><td>12111</td><td>COMPLETE</td></tr><tr><td>4</td><td>2013-07-25 00:00:00.0</td><td>8827</td><td>CLOSED</td></tr><tr><td>5</td><td>2013-07-25 00:00:00.0</td><td>11318</td><td>COMPLETE</td></tr><tr><td>6</td><td>2013-07-25 00:00:00.0</td><td>7130</td><td>COMPLETE</td></tr><tr><td>7</td><td>2013-07-25 00:00:00.0</td><td>4530</td><td>COMPLETE</td></tr><tr><td>8</td><td>2013-07-25 00:00:00.0</td><td>2911</td><td>PROCESSING</td></tr><tr><td>9</td><td>2013-07-25 00:00:00.0</td><td>5657</td><td>PENDING_PAYMENT</td></tr><tr><td>10</td><td>2013-07-25 00:00:00.0</td><td>5648</td><td>PENDING_PAYMENT</td></tr></tbody></table></div>"
      ]
     },
     "metadata": {
      "application/vnd.databricks.v1+output": {
       "addedWidgets": {},
       "aggData": [],
       "aggError": "",
       "aggOverflow": false,
       "aggSchema": [],
       "aggSeriesLimitReached": false,
       "aggType": "",
       "arguments": {},
       "columnCustomDisplayInfos": {},
       "data": [
        [
         1,
         "2013-07-25 00:00:00.0",
         11599,
         "CLOSED"
        ],
        [
         2,
         "2013-07-25 00:00:00.0",
         256,
         "PENDING_PAYMENT"
        ],
        [
         3,
         "2013-07-25 00:00:00.0",
         12111,
         "COMPLETE"
        ],
        [
         4,
         "2013-07-25 00:00:00.0",
         8827,
         "CLOSED"
        ],
        [
         5,
         "2013-07-25 00:00:00.0",
         11318,
         "COMPLETE"
        ],
        [
         6,
         "2013-07-25 00:00:00.0",
         7130,
         "COMPLETE"
        ],
        [
         7,
         "2013-07-25 00:00:00.0",
         4530,
         "COMPLETE"
        ],
        [
         8,
         "2013-07-25 00:00:00.0",
         2911,
         "PROCESSING"
        ],
        [
         9,
         "2013-07-25 00:00:00.0",
         5657,
         "PENDING_PAYMENT"
        ],
        [
         10,
         "2013-07-25 00:00:00.0",
         5648,
         "PENDING_PAYMENT"
        ]
       ],
       "datasetInfos": [],
       "dbfsResultPath": null,
       "isJsonSchema": true,
       "metadata": {},
       "overflow": false,
       "plotOptions": {
        "customPlotOptions": {},
        "displayType": "table",
        "pivotAggregation": null,
        "pivotColumns": null,
        "xColumns": null,
        "yColumns": null
       },
       "removedWidgets": [],
       "schema": [
        {
         "metadata": "{}",
         "name": "order_id",
         "type": "\"long\""
        },
        {
         "metadata": "{}",
         "name": "order_date",
         "type": "\"string\""
        },
        {
         "metadata": "{}",
         "name": "order_customer_id",
         "type": "\"long\""
        },
        {
         "metadata": "{}",
         "name": "order_status",
         "type": "\"string\""
        }
       ],
       "type": "table"
      }
     },
     "output_type": "display_data"
    }
   ],
   "source": [
    "display(orders.limit(10))"
   ]
  },
  {
   "cell_type": "code",
   "execution_count": 0,
   "metadata": {
    "application/vnd.databricks.v1+cell": {
     "cellMetadata": {
      "byteLimit": 2048000,
      "rowLimit": 10000
     },
     "inputWidgets": {},
     "nuid": "d2ec0d8e-3086-419f-99fb-a64d27826f7c",
     "showTitle": false,
     "title": ""
    }
   },
   "outputs": [
    {
     "output_type": "display_data",
     "data": {
      "text/html": [
       "<style scoped>\n",
       "  .table-result-container {\n",
       "    max-height: 300px;\n",
       "    overflow: auto;\n",
       "  }\n",
       "  table, th, td {\n",
       "    border: 1px solid black;\n",
       "    border-collapse: collapse;\n",
       "  }\n",
       "  th, td {\n",
       "    padding: 5px;\n",
       "  }\n",
       "  th {\n",
       "    text-align: left;\n",
       "  }\n",
       "</style><div class='table-result-container'><table class='table-result'><thead style='background-color: white'><tr><th>order_date</th><th>order_item_product_id</th><th>revenue</th></tr></thead><tbody><tr><td>2013-07-25 00:00:00.0</td><td>1004</td><td>5599.72</td></tr><tr><td>2013-07-25 00:00:00.0</td><td>191</td><td>5099.49</td></tr><tr><td>2013-07-25 00:00:00.0</td><td>957</td><td>4499.7</td></tr><tr><td>2013-07-25 00:00:00.0</td><td>365</td><td>3359.44</td></tr><tr><td>2013-07-25 00:00:00.0</td><td>1073</td><td>2999.85</td></tr><tr><td>2013-07-25 00:00:00.0</td><td>1014</td><td>2798.88</td></tr><tr><td>2013-07-25 00:00:00.0</td><td>403</td><td>1949.85</td></tr><tr><td>2013-07-25 00:00:00.0</td><td>502</td><td>1650.0</td></tr><tr><td>2013-07-25 00:00:00.0</td><td>627</td><td>1079.73</td></tr><tr><td>2013-07-25 00:00:00.0</td><td>226</td><td>599.99</td></tr></tbody></table></div>"
      ]
     },
     "metadata": {
      "application/vnd.databricks.v1+output": {
       "addedWidgets": {},
       "aggData": [],
       "aggError": "",
       "aggOverflow": false,
       "aggSchema": [],
       "aggSeriesLimitReached": false,
       "aggType": "",
       "arguments": {},
       "columnCustomDisplayInfos": {},
       "data": [
        [
         "2013-07-25 00:00:00.0",
         1004,
         5599.72
        ],
        [
         "2013-07-25 00:00:00.0",
         191,
         5099.49
        ],
        [
         "2013-07-25 00:00:00.0",
         957,
         4499.7
        ],
        [
         "2013-07-25 00:00:00.0",
         365,
         3359.44
        ],
        [
         "2013-07-25 00:00:00.0",
         1073,
         2999.85
        ],
        [
         "2013-07-25 00:00:00.0",
         1014,
         2798.88
        ],
        [
         "2013-07-25 00:00:00.0",
         403,
         1949.85
        ],
        [
         "2013-07-25 00:00:00.0",
         502,
         1650.0
        ],
        [
         "2013-07-25 00:00:00.0",
         627,
         1079.73
        ],
        [
         "2013-07-25 00:00:00.0",
         226,
         599.99
        ]
       ],
       "datasetInfos": [],
       "dbfsResultPath": null,
       "isJsonSchema": true,
       "metadata": {},
       "overflow": false,
       "plotOptions": {
        "customPlotOptions": {},
        "displayType": "table",
        "pivotAggregation": null,
        "pivotColumns": null,
        "xColumns": null,
        "yColumns": null
       },
       "removedWidgets": [],
       "schema": [
        {
         "metadata": "{}",
         "name": "order_date",
         "type": "\"string\""
        },
        {
         "metadata": "{}",
         "name": "order_item_product_id",
         "type": "\"long\""
        },
        {
         "metadata": "{}",
         "name": "revenue",
         "type": "\"double\""
        }
       ],
       "type": "table"
      }
     },
     "output_type": "display_data"
    }
   ],
   "source": [
    "display (orders.filter(\"order_status in ('COMPLETE', 'CLOSED')\"). \\\n",
    "    join(order_items, orders['order_id'] == order_items['order_item_order_id']). \\\n",
    "    groupBy('order_date', 'order_item_product_id').agg(round(sum('order_item_subtotal'), 2).alias('revenue')). \\\n",
    "    orderBy('order_date', col('revenue').desc()). \\\n",
    "    limit(10))"
   ]
  },
  {
   "cell_type": "code",
   "execution_count": 0,
   "metadata": {
    "application/vnd.databricks.v1+cell": {
     "cellMetadata": {
      "byteLimit": 2048000,
      "rowLimit": 10000
     },
     "inputWidgets": {},
     "nuid": "c7418c79-e520-4df7-8a51-bb4601b8c823",
     "showTitle": false,
     "title": ""
    }
   },
   "outputs": [
    {
     "output_type": "execute_result",
     "data": {
      "text/plain": [
       "[Table(name='crud_demo', catalog='spark_catalog', namespace=['banana'], description=None, tableType='MANAGED', isTemporary=False),\n",
       " Table(name='crud_demo_stg', catalog='spark_catalog', namespace=['banana'], description=None, tableType='MANAGED', isTemporary=False),\n",
       " Table(name='daily_product_revenue', catalog='spark_catalog', namespace=['banana'], description=None, tableType='MANAGED', isTemporary=False),\n",
       " Table(name='daily_revenue', catalog='spark_catalog', namespace=['banana'], description=None, tableType='MANAGED', isTemporary=False),\n",
       " Table(name='daily_revenue_stg', catalog='spark_catalog', namespace=['banana'], description=None, tableType='MANAGED', isTemporary=False),\n",
       " Table(name='departments', catalog='spark_catalog', namespace=['banana'], description=None, tableType='EXTERNAL', isTemporary=False),\n",
       " Table(name='order_count_by_status', catalog='spark_catalog', namespace=['banana'], description=None, tableType='MANAGED', isTemporary=False),\n",
       " Table(name='order_items', catalog='spark_catalog', namespace=['banana'], description=None, tableType='MANAGED', isTemporary=False),\n",
       " Table(name='orders', catalog='spark_catalog', namespace=['banana'], description=None, tableType='MANAGED', isTemporary=False),\n",
       " Table(name='orders_single_columns', catalog='spark_catalog', namespace=['banana'], description=None, tableType='EXTERNAL', isTemporary=False),\n",
       " Table(name='sales', catalog='spark_catalog', namespace=['banana'], description=None, tableType='MANAGED', isTemporary=False),\n",
       " Table(name='sales_fact', catalog='spark_catalog', namespace=['banana'], description=None, tableType='MANAGED', isTemporary=False),\n",
       " Table(name='teste', catalog='spark_catalog', namespace=['banana'], description=None, tableType='EXTERNAL', isTemporary=False),\n",
       " Table(name='users', catalog='spark_catalog', namespace=['banana'], description=None, tableType='MANAGED', isTemporary=False),\n",
       " Table(name='orders_v', catalog=None, namespace=[], description=None, tableType='TEMPORARY', isTemporary=True)]"
      ]
     },
     "execution_count": 51,
     "metadata": {},
     "output_type": "execute_result"
    }
   ],
   "source": [
    "spark.catalog.listTables('banana')"
   ]
  },
  {
   "cell_type": "code",
   "execution_count": 0,
   "metadata": {
    "application/vnd.databricks.v1+cell": {
     "cellMetadata": {
      "byteLimit": 2048000,
      "rowLimit": 10000
     },
     "inputWidgets": {},
     "nuid": "73fe29c1-e69e-4b79-b5d3-68c665fb550d",
     "showTitle": false,
     "title": ""
    }
   },
   "outputs": [
    {
     "output_type": "stream",
     "name": "stdout",
     "output_type": "stream",
     "text": [
      "crud_demo\ncrud_demo_stg\ndaily_product_revenue\ndaily_revenue\ndaily_revenue_stg\ndepartments\norder_count_by_status\norder_items\norders\norders_single_columns\nsales\nsales_fact\nteste\nusers\norders_v\n"
     ]
    }
   ],
   "source": [
    "for table in spark.catalog.listTables('banana'):\n",
    "    print(table.name)"
   ]
  },
  {
   "cell_type": "code",
   "execution_count": 0,
   "metadata": {
    "application/vnd.databricks.v1+cell": {
     "cellMetadata": {
      "byteLimit": 2048000,
      "rowLimit": 10000
     },
     "inputWidgets": {},
     "nuid": "86465605-8d84-4763-bb91-331fcf8ef2c1",
     "showTitle": false,
     "title": ""
    }
   },
   "outputs": [
    {
     "output_type": "stream",
     "name": "stdout",
     "output_type": "stream",
     "text": [
      "orders_v\n"
     ]
    }
   ],
   "source": [
    "for table in spark.catalog.listTables('banana'):\n",
    "    if table.tableType == 'TEMPORARY':\n",
    "        print(table.name)"
   ]
  },
  {
   "cell_type": "code",
   "execution_count": 0,
   "metadata": {
    "application/vnd.databricks.v1+cell": {
     "cellMetadata": {
      "byteLimit": 2048000,
      "rowLimit": 10000
     },
     "inputWidgets": {},
     "nuid": "fb0e0180-18f8-495b-b4a2-e6d908647d2b",
     "showTitle": false,
     "title": ""
    }
   },
   "outputs": [
    {
     "output_type": "stream",
     "name": "stdout",
     "output_type": "stream",
     "text": [
      "orders_v\n"
     ]
    }
   ],
   "source": [
    "for table in spark.catalog.listTables('banana'):\n",
    "    if table.tableType == 'TEMPORARY':\n",
    "        print(table.name)\n",
    "        spark.catalog.dropTempView(table.name)"
   ]
  },
  {
   "cell_type": "code",
   "execution_count": 0,
   "metadata": {
    "application/vnd.databricks.v1+cell": {
     "cellMetadata": {
      "byteLimit": 2048000,
      "rowLimit": 10000
     },
     "inputWidgets": {},
     "nuid": "c0e92ddd-9243-44de-9509-fc050f33f0ba",
     "showTitle": false,
     "title": ""
    }
   },
   "outputs": [],
   "source": [
    "for table in spark.catalog.listTables('banana'):\n",
    "    if table.tableType == 'TEMPORARY':\n",
    "        print(table.name)"
   ]
  },
  {
   "cell_type": "code",
   "execution_count": 0,
   "metadata": {
    "application/vnd.databricks.v1+cell": {
     "cellMetadata": {},
     "inputWidgets": {},
     "nuid": "41e5965f-4faf-4742-a08c-35de4afcac85",
     "showTitle": false,
     "title": ""
    }
   },
   "outputs": [],
   "source": []
  }
 ],
 "metadata": {
  "application/vnd.databricks.v1+notebook": {
   "dashboards": [],
   "language": "python",
   "notebookMetadata": {
    "mostRecentlyExecutedCommandWithImplicitDF": {
     "commandId": 231339015560875,
     "dataframes": [
      "_sqldf"
     ]
    },
    "pythonIndentUnit": 4
   },
   "notebookName": "SPARK SQL WITH PYSPARK",
   "widgets": {}
  }
 },
 "nbformat": 4,
 "nbformat_minor": 0
}
