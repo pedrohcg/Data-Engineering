{
 "cells": [
  {
   "cell_type": "code",
   "execution_count": 0,
   "metadata": {
    "application/vnd.databricks.v1+cell": {
     "cellMetadata": {
      "byteLimit": 2048000,
      "rowLimit": 10000
     },
     "inputWidgets": {},
     "nuid": "c18025cc-8e3a-4acc-9820-5605abca79d5",
     "showTitle": false,
     "title": ""
    }
   },
   "outputs": [
    {
     "output_type": "execute_result",
     "data": {
      "text/plain": [
       "[{'user_id': 1, 'user_fname': 'Scott', 'user_lname': 'Tiger'},\n",
       " {'user_id': 2, 'user_fname': 'Donald', 'user_lname': 'Duck'},\n",
       " {'user_id': 3, 'user_fname': 'Mickey', 'user_lname': 'Mouse'}]"
      ]
     },
     "execution_count": 1,
     "metadata": {},
     "output_type": "execute_result"
    }
   ],
   "source": [
    "[\n",
    "    {'user_id': 1, 'user_fname': 'Scott', 'user_lname': 'Tiger'},\n",
    "    {'user_id': 2, 'user_fname': 'Donald', 'user_lname': 'Duck'},\n",
    "    {'user_id': 3, 'user_fname': 'Mickey', 'user_lname': 'Mouse'}\n",
    "]"
   ]
  },
  {
   "cell_type": "code",
   "execution_count": 0,
   "metadata": {
    "application/vnd.databricks.v1+cell": {
     "cellMetadata": {
      "byteLimit": 2048000,
      "rowLimit": 10000
     },
     "inputWidgets": {},
     "nuid": "2ace99eb-e039-4e99-a595-d3a2eb69b09e",
     "showTitle": false,
     "title": ""
    }
   },
   "outputs": [],
   "source": [
    "orders_df = spark.read.csv('dbfs:/public/retail_db/orders/part-00000', schema='order_id INT, order_date date, order_customer_id int, order_status string')"
   ]
  },
  {
   "cell_type": "code",
   "execution_count": 0,
   "metadata": {
    "application/vnd.databricks.v1+cell": {
     "cellMetadata": {
      "byteLimit": 2048000,
      "rowLimit": 10000
     },
     "inputWidgets": {},
     "nuid": "db457b2a-f1f8-48ff-ac74-408e74bd6def",
     "showTitle": false,
     "title": ""
    }
   },
   "outputs": [
    {
     "output_type": "display_data",
     "data": {
      "text/html": [
       "<style scoped>\n",
       "  .table-result-container {\n",
       "    max-height: 300px;\n",
       "    overflow: auto;\n",
       "  }\n",
       "  table, th, td {\n",
       "    border: 1px solid black;\n",
       "    border-collapse: collapse;\n",
       "  }\n",
       "  th, td {\n",
       "    padding: 5px;\n",
       "  }\n",
       "  th {\n",
       "    text-align: left;\n",
       "  }\n",
       "</style><div class='table-result-container'><table class='table-result'><thead style='background-color: white'><tr><th>order_id</th><th>order_date</th><th>order_customer_id</th><th>order_status</th></tr></thead><tbody><tr><td>1</td><td>2013-07-25</td><td>11599</td><td>CLOSED</td></tr><tr><td>2</td><td>2013-07-25</td><td>256</td><td>PENDING_PAYMENT</td></tr><tr><td>3</td><td>2013-07-25</td><td>12111</td><td>COMPLETE</td></tr><tr><td>4</td><td>2013-07-25</td><td>8827</td><td>CLOSED</td></tr><tr><td>5</td><td>2013-07-25</td><td>11318</td><td>COMPLETE</td></tr><tr><td>6</td><td>2013-07-25</td><td>7130</td><td>COMPLETE</td></tr><tr><td>7</td><td>2013-07-25</td><td>4530</td><td>COMPLETE</td></tr><tr><td>8</td><td>2013-07-25</td><td>2911</td><td>PROCESSING</td></tr><tr><td>9</td><td>2013-07-25</td><td>5657</td><td>PENDING_PAYMENT</td></tr><tr><td>10</td><td>2013-07-25</td><td>5648</td><td>PENDING_PAYMENT</td></tr></tbody></table></div>"
      ]
     },
     "metadata": {
      "application/vnd.databricks.v1+output": {
       "addedWidgets": {},
       "aggData": [],
       "aggError": "",
       "aggOverflow": false,
       "aggSchema": [],
       "aggSeriesLimitReached": false,
       "aggType": "",
       "arguments": {},
       "columnCustomDisplayInfos": {},
       "data": [
        [
         1,
         "2013-07-25",
         11599,
         "CLOSED"
        ],
        [
         2,
         "2013-07-25",
         256,
         "PENDING_PAYMENT"
        ],
        [
         3,
         "2013-07-25",
         12111,
         "COMPLETE"
        ],
        [
         4,
         "2013-07-25",
         8827,
         "CLOSED"
        ],
        [
         5,
         "2013-07-25",
         11318,
         "COMPLETE"
        ],
        [
         6,
         "2013-07-25",
         7130,
         "COMPLETE"
        ],
        [
         7,
         "2013-07-25",
         4530,
         "COMPLETE"
        ],
        [
         8,
         "2013-07-25",
         2911,
         "PROCESSING"
        ],
        [
         9,
         "2013-07-25",
         5657,
         "PENDING_PAYMENT"
        ],
        [
         10,
         "2013-07-25",
         5648,
         "PENDING_PAYMENT"
        ]
       ],
       "datasetInfos": [],
       "dbfsResultPath": null,
       "isJsonSchema": true,
       "metadata": {},
       "overflow": false,
       "plotOptions": {
        "customPlotOptions": {},
        "displayType": "table",
        "pivotAggregation": null,
        "pivotColumns": null,
        "xColumns": null,
        "yColumns": null
       },
       "removedWidgets": [],
       "schema": [
        {
         "metadata": "{}",
         "name": "order_id",
         "type": "\"integer\""
        },
        {
         "metadata": "{}",
         "name": "order_date",
         "type": "\"date\""
        },
        {
         "metadata": "{}",
         "name": "order_customer_id",
         "type": "\"integer\""
        },
        {
         "metadata": "{}",
         "name": "order_status",
         "type": "\"string\""
        }
       ],
       "type": "table"
      }
     },
     "output_type": "display_data"
    }
   ],
   "source": [
    "display(orders_df.limit(10))"
   ]
  },
  {
   "cell_type": "code",
   "execution_count": 0,
   "metadata": {
    "application/vnd.databricks.v1+cell": {
     "cellMetadata": {
      "byteLimit": 2048000,
      "rowLimit": 10000
     },
     "inputWidgets": {},
     "nuid": "0c65fa10-a434-4ec1-970c-b331a90b29c4",
     "showTitle": false,
     "title": ""
    }
   },
   "outputs": [],
   "source": [
    "from pyspark.sql.functions import date_format, cast"
   ]
  },
  {
   "cell_type": "code",
   "execution_count": 0,
   "metadata": {
    "application/vnd.databricks.v1+cell": {
     "cellMetadata": {
      "byteLimit": 2048000,
      "rowLimit": 10000
     },
     "inputWidgets": {},
     "nuid": "0d5442e0-17a6-4050-bfbc-fd6d748965fc",
     "showTitle": false,
     "title": ""
    }
   },
   "outputs": [
    {
     "output_type": "display_data",
     "data": {
      "text/html": [
       "<style scoped>\n",
       "  .table-result-container {\n",
       "    max-height: 300px;\n",
       "    overflow: auto;\n",
       "  }\n",
       "  table, th, td {\n",
       "    border: 1px solid black;\n",
       "    border-collapse: collapse;\n",
       "  }\n",
       "  th, td {\n",
       "    padding: 5px;\n",
       "  }\n",
       "  th {\n",
       "    text-align: left;\n",
       "  }\n",
       "</style><div class='table-result-container'><table class='table-result'><thead style='background-color: white'><tr><th>order_id</th><th>order_date</th><th>order_customer_id</th><th>order_status</th><th>order_month</th></tr></thead><tbody><tr><td>1</td><td>2013-07-25</td><td>11599</td><td>CLOSED</td><td>201307</td></tr><tr><td>2</td><td>2013-07-25</td><td>256</td><td>PENDING_PAYMENT</td><td>201307</td></tr><tr><td>3</td><td>2013-07-25</td><td>12111</td><td>COMPLETE</td><td>201307</td></tr><tr><td>4</td><td>2013-07-25</td><td>8827</td><td>CLOSED</td><td>201307</td></tr><tr><td>5</td><td>2013-07-25</td><td>11318</td><td>COMPLETE</td><td>201307</td></tr><tr><td>6</td><td>2013-07-25</td><td>7130</td><td>COMPLETE</td><td>201307</td></tr><tr><td>7</td><td>2013-07-25</td><td>4530</td><td>COMPLETE</td><td>201307</td></tr><tr><td>8</td><td>2013-07-25</td><td>2911</td><td>PROCESSING</td><td>201307</td></tr><tr><td>9</td><td>2013-07-25</td><td>5657</td><td>PENDING_PAYMENT</td><td>201307</td></tr><tr><td>10</td><td>2013-07-25</td><td>5648</td><td>PENDING_PAYMENT</td><td>201307</td></tr></tbody></table></div>"
      ]
     },
     "metadata": {
      "application/vnd.databricks.v1+output": {
       "addedWidgets": {},
       "aggData": [],
       "aggError": "",
       "aggOverflow": false,
       "aggSchema": [],
       "aggSeriesLimitReached": false,
       "aggType": "",
       "arguments": {},
       "columnCustomDisplayInfos": {},
       "data": [
        [
         1,
         "2013-07-25",
         11599,
         "CLOSED",
         "201307"
        ],
        [
         2,
         "2013-07-25",
         256,
         "PENDING_PAYMENT",
         "201307"
        ],
        [
         3,
         "2013-07-25",
         12111,
         "COMPLETE",
         "201307"
        ],
        [
         4,
         "2013-07-25",
         8827,
         "CLOSED",
         "201307"
        ],
        [
         5,
         "2013-07-25",
         11318,
         "COMPLETE",
         "201307"
        ],
        [
         6,
         "2013-07-25",
         7130,
         "COMPLETE",
         "201307"
        ],
        [
         7,
         "2013-07-25",
         4530,
         "COMPLETE",
         "201307"
        ],
        [
         8,
         "2013-07-25",
         2911,
         "PROCESSING",
         "201307"
        ],
        [
         9,
         "2013-07-25",
         5657,
         "PENDING_PAYMENT",
         "201307"
        ],
        [
         10,
         "2013-07-25",
         5648,
         "PENDING_PAYMENT",
         "201307"
        ]
       ],
       "datasetInfos": [],
       "dbfsResultPath": null,
       "isJsonSchema": true,
       "metadata": {},
       "overflow": false,
       "plotOptions": {
        "customPlotOptions": {},
        "displayType": "table",
        "pivotAggregation": null,
        "pivotColumns": null,
        "xColumns": null,
        "yColumns": null
       },
       "removedWidgets": [],
       "schema": [
        {
         "metadata": "{}",
         "name": "order_id",
         "type": "\"integer\""
        },
        {
         "metadata": "{}",
         "name": "order_date",
         "type": "\"date\""
        },
        {
         "metadata": "{}",
         "name": "order_customer_id",
         "type": "\"integer\""
        },
        {
         "metadata": "{}",
         "name": "order_status",
         "type": "\"string\""
        },
        {
         "metadata": "{}",
         "name": "order_month",
         "type": "\"string\""
        }
       ],
       "type": "table"
      }
     },
     "output_type": "display_data"
    }
   ],
   "source": [
    "display(orders_df.withColumn('order_month', cast('int', date_format('order_date', 'yyyyMM'))).limit(10))"
   ]
  },
  {
   "cell_type": "code",
   "execution_count": 0,
   "metadata": {
    "application/vnd.databricks.v1+cell": {
     "cellMetadata": {
      "byteLimit": 2048000,
      "rowLimit": 10000
     },
     "inputWidgets": {},
     "nuid": "1bcd2c47-7539-4bb5-8ab4-41c6c97e4076",
     "showTitle": false,
     "title": ""
    }
   },
   "outputs": [
    {
     "output_type": "stream",
     "name": "stdout",
     "output_type": "stream",
     "text": [
      "root\n |-- order_id: integer (nullable = true)\n |-- order_date: date (nullable = true)\n |-- order_customer_id: integer (nullable = true)\n |-- order_status: string (nullable = true)\n |-- order_month: integer (nullable = true)\n\n"
     ]
    }
   ],
   "source": [
    "orders_df.withColumn('order_month', date_format('order_date', 'yyyyMM').cast('int')).printSchema()"
   ]
  },
  {
   "cell_type": "code",
   "execution_count": 0,
   "metadata": {
    "application/vnd.databricks.v1+cell": {
     "cellMetadata": {
      "byteLimit": 2048000,
      "rowLimit": 10000
     },
     "inputWidgets": {},
     "nuid": "c96d6874-b5dd-4369-b7ac-4f4e17ee6270",
     "showTitle": false,
     "title": ""
    }
   },
   "outputs": [
    {
     "output_type": "display_data",
     "data": {
      "text/html": [
       "<style scoped>\n",
       "  .table-result-container {\n",
       "    max-height: 300px;\n",
       "    overflow: auto;\n",
       "  }\n",
       "  table, th, td {\n",
       "    border: 1px solid black;\n",
       "    border-collapse: collapse;\n",
       "  }\n",
       "  th, td {\n",
       "    padding: 5px;\n",
       "  }\n",
       "  th {\n",
       "    text-align: left;\n",
       "  }\n",
       "</style><div class='table-result-container'><table class='table-result'><thead style='background-color: white'><tr><th>order_id</th><th>order_date</th><th>order_customer_id</th><th>order_status</th></tr></thead><tbody><tr><td>3</td><td>2013-07-25</td><td>12111</td><td>COMPLETE</td></tr><tr><td>5</td><td>2013-07-25</td><td>11318</td><td>COMPLETE</td></tr><tr><td>6</td><td>2013-07-25</td><td>7130</td><td>COMPLETE</td></tr><tr><td>7</td><td>2013-07-25</td><td>4530</td><td>COMPLETE</td></tr><tr><td>15</td><td>2013-07-25</td><td>2568</td><td>COMPLETE</td></tr><tr><td>17</td><td>2013-07-25</td><td>2667</td><td>COMPLETE</td></tr><tr><td>22</td><td>2013-07-25</td><td>333</td><td>COMPLETE</td></tr><tr><td>26</td><td>2013-07-25</td><td>7562</td><td>COMPLETE</td></tr><tr><td>28</td><td>2013-07-25</td><td>656</td><td>COMPLETE</td></tr><tr><td>32</td><td>2013-07-25</td><td>3960</td><td>COMPLETE</td></tr></tbody></table></div>"
      ]
     },
     "metadata": {
      "application/vnd.databricks.v1+output": {
       "addedWidgets": {},
       "aggData": [],
       "aggError": "",
       "aggOverflow": false,
       "aggSchema": [],
       "aggSeriesLimitReached": false,
       "aggType": "",
       "arguments": {},
       "columnCustomDisplayInfos": {},
       "data": [
        [
         3,
         "2013-07-25",
         12111,
         "COMPLETE"
        ],
        [
         5,
         "2013-07-25",
         11318,
         "COMPLETE"
        ],
        [
         6,
         "2013-07-25",
         7130,
         "COMPLETE"
        ],
        [
         7,
         "2013-07-25",
         4530,
         "COMPLETE"
        ],
        [
         15,
         "2013-07-25",
         2568,
         "COMPLETE"
        ],
        [
         17,
         "2013-07-25",
         2667,
         "COMPLETE"
        ],
        [
         22,
         "2013-07-25",
         333,
         "COMPLETE"
        ],
        [
         26,
         "2013-07-25",
         7562,
         "COMPLETE"
        ],
        [
         28,
         "2013-07-25",
         656,
         "COMPLETE"
        ],
        [
         32,
         "2013-07-25",
         3960,
         "COMPLETE"
        ]
       ],
       "datasetInfos": [],
       "dbfsResultPath": null,
       "isJsonSchema": true,
       "metadata": {},
       "overflow": false,
       "plotOptions": {
        "customPlotOptions": {},
        "displayType": "table",
        "pivotAggregation": null,
        "pivotColumns": null,
        "xColumns": null,
        "yColumns": null
       },
       "removedWidgets": [],
       "schema": [
        {
         "metadata": "{}",
         "name": "order_id",
         "type": "\"integer\""
        },
        {
         "metadata": "{}",
         "name": "order_date",
         "type": "\"date\""
        },
        {
         "metadata": "{}",
         "name": "order_customer_id",
         "type": "\"integer\""
        },
        {
         "metadata": "{}",
         "name": "order_status",
         "type": "\"string\""
        }
       ],
       "type": "table"
      }
     },
     "output_type": "display_data"
    }
   ],
   "source": [
    "display(orders_df.filter(\"order_status = 'COMPLETE'\").limit(10))"
   ]
  },
  {
   "cell_type": "code",
   "execution_count": 0,
   "metadata": {
    "application/vnd.databricks.v1+cell": {
     "cellMetadata": {
      "byteLimit": 2048000,
      "rowLimit": 10000
     },
     "inputWidgets": {},
     "nuid": "029aa95e-6aff-4ada-95ec-20d8eba25c9e",
     "showTitle": false,
     "title": ""
    }
   },
   "outputs": [
    {
     "output_type": "execute_result",
     "data": {
      "text/plain": [
       "22899"
      ]
     },
     "execution_count": 25,
     "metadata": {},
     "output_type": "execute_result"
    }
   ],
   "source": [
    "orders_df.filter(\"order_status = 'COMPLETE'\").count()"
   ]
  },
  {
   "cell_type": "markdown",
   "metadata": {
    "application/vnd.databricks.v1+cell": {
     "cellMetadata": {},
     "inputWidgets": {},
     "nuid": "448982b1-3bf3-4241-b5d1-0d2b1ab1bc98",
     "showTitle": false,
     "title": ""
    }
   },
   "source": [
    "get all the COMPLETE or CLOSED orders which are palced in the month of January of 2014"
   ]
  },
  {
   "cell_type": "code",
   "execution_count": 0,
   "metadata": {
    "application/vnd.databricks.v1+cell": {
     "cellMetadata": {
      "byteLimit": 2048000,
      "rowLimit": 10000
     },
     "inputWidgets": {},
     "nuid": "4751c75e-8335-4e31-98e9-d6345f916873",
     "showTitle": false,
     "title": ""
    }
   },
   "outputs": [
    {
     "output_type": "display_data",
     "data": {
      "text/html": [
       "<style scoped>\n",
       "  .table-result-container {\n",
       "    max-height: 300px;\n",
       "    overflow: auto;\n",
       "  }\n",
       "  table, th, td {\n",
       "    border: 1px solid black;\n",
       "    border-collapse: collapse;\n",
       "  }\n",
       "  th, td {\n",
       "    padding: 5px;\n",
       "  }\n",
       "  th {\n",
       "    text-align: left;\n",
       "  }\n",
       "</style><div class='table-result-container'><table class='table-result'><thead style='background-color: white'><tr><th>order_id</th><th>order_date</th><th>order_customer_id</th><th>order_status</th></tr></thead><tbody><tr><td>25882</td><td>2014-01-01</td><td>4598</td><td>COMPLETE</td></tr><tr><td>25888</td><td>2014-01-01</td><td>6735</td><td>COMPLETE</td></tr><tr><td>25889</td><td>2014-01-01</td><td>10045</td><td>COMPLETE</td></tr><tr><td>25891</td><td>2014-01-01</td><td>3037</td><td>CLOSED</td></tr><tr><td>25895</td><td>2014-01-01</td><td>1044</td><td>COMPLETE</td></tr><tr><td>25897</td><td>2014-01-01</td><td>6405</td><td>COMPLETE</td></tr><tr><td>25898</td><td>2014-01-01</td><td>3950</td><td>COMPLETE</td></tr><tr><td>25899</td><td>2014-01-01</td><td>8068</td><td>CLOSED</td></tr><tr><td>25900</td><td>2014-01-01</td><td>2382</td><td>CLOSED</td></tr><tr><td>25901</td><td>2014-01-01</td><td>3099</td><td>COMPLETE</td></tr></tbody></table></div>"
      ]
     },
     "metadata": {
      "application/vnd.databricks.v1+output": {
       "addedWidgets": {},
       "aggData": [],
       "aggError": "",
       "aggOverflow": false,
       "aggSchema": [],
       "aggSeriesLimitReached": false,
       "aggType": "",
       "arguments": {},
       "columnCustomDisplayInfos": {},
       "data": [
        [
         25882,
         "2014-01-01",
         4598,
         "COMPLETE"
        ],
        [
         25888,
         "2014-01-01",
         6735,
         "COMPLETE"
        ],
        [
         25889,
         "2014-01-01",
         10045,
         "COMPLETE"
        ],
        [
         25891,
         "2014-01-01",
         3037,
         "CLOSED"
        ],
        [
         25895,
         "2014-01-01",
         1044,
         "COMPLETE"
        ],
        [
         25897,
         "2014-01-01",
         6405,
         "COMPLETE"
        ],
        [
         25898,
         "2014-01-01",
         3950,
         "COMPLETE"
        ],
        [
         25899,
         "2014-01-01",
         8068,
         "CLOSED"
        ],
        [
         25900,
         "2014-01-01",
         2382,
         "CLOSED"
        ],
        [
         25901,
         "2014-01-01",
         3099,
         "COMPLETE"
        ]
       ],
       "datasetInfos": [],
       "dbfsResultPath": null,
       "isJsonSchema": true,
       "metadata": {},
       "overflow": false,
       "plotOptions": {
        "customPlotOptions": {},
        "displayType": "table",
        "pivotAggregation": null,
        "pivotColumns": null,
        "xColumns": null,
        "yColumns": null
       },
       "removedWidgets": [],
       "schema": [
        {
         "metadata": "{}",
         "name": "order_id",
         "type": "\"integer\""
        },
        {
         "metadata": "{}",
         "name": "order_date",
         "type": "\"date\""
        },
        {
         "metadata": "{}",
         "name": "order_customer_id",
         "type": "\"integer\""
        },
        {
         "metadata": "{}",
         "name": "order_status",
         "type": "\"string\""
        }
       ],
       "type": "table"
      }
     },
     "output_type": "display_data"
    }
   ],
   "source": [
    "display(orders_df.filter(\"order_status in ('COMPLETE', 'CLOSED')  and year(order_date) = 2014 and month(order_date) = 1\").limit(10))"
   ]
  },
  {
   "cell_type": "code",
   "execution_count": 0,
   "metadata": {
    "application/vnd.databricks.v1+cell": {
     "cellMetadata": {
      "byteLimit": 2048000,
      "rowLimit": 10000
     },
     "inputWidgets": {},
     "nuid": "63ce2c7b-ed60-4549-9591-712a262d8fc9",
     "showTitle": false,
     "title": ""
    }
   },
   "outputs": [],
   "source": [
    "from pyspark.sql.functions import count, col"
   ]
  },
  {
   "cell_type": "code",
   "execution_count": 0,
   "metadata": {
    "application/vnd.databricks.v1+cell": {
     "cellMetadata": {
      "byteLimit": 2048000,
      "rowLimit": 10000
     },
     "inputWidgets": {},
     "nuid": "e90089a0-dda2-485f-86ba-bad5a939fc78",
     "showTitle": false,
     "title": ""
    }
   },
   "outputs": [
    {
     "output_type": "display_data",
     "data": {
      "text/html": [
       "<style scoped>\n",
       "  .table-result-container {\n",
       "    max-height: 300px;\n",
       "    overflow: auto;\n",
       "  }\n",
       "  table, th, td {\n",
       "    border: 1px solid black;\n",
       "    border-collapse: collapse;\n",
       "  }\n",
       "  th, td {\n",
       "    padding: 5px;\n",
       "  }\n",
       "  th {\n",
       "    text-align: left;\n",
       "  }\n",
       "</style><div class='table-result-container'><table class='table-result'><thead style='background-color: white'><tr><th>order_status</th><th>order_count</th></tr></thead><tbody><tr><td>COMPLETE</td><td>22899</td></tr><tr><td>PENDING_PAYMENT</td><td>15030</td></tr><tr><td>PROCESSING</td><td>8275</td></tr><tr><td>PENDING</td><td>7610</td></tr><tr><td>CLOSED</td><td>7556</td></tr><tr><td>ON_HOLD</td><td>3798</td></tr><tr><td>SUSPECTED_FRAUD</td><td>1558</td></tr><tr><td>CANCELED</td><td>1428</td></tr><tr><td>PAYMENT_REVIEW</td><td>729</td></tr></tbody></table></div>"
      ]
     },
     "metadata": {
      "application/vnd.databricks.v1+output": {
       "addedWidgets": {},
       "aggData": [],
       "aggError": "",
       "aggOverflow": false,
       "aggSchema": [],
       "aggSeriesLimitReached": false,
       "aggType": "",
       "arguments": {},
       "columnCustomDisplayInfos": {},
       "data": [
        [
         "COMPLETE",
         22899
        ],
        [
         "PENDING_PAYMENT",
         15030
        ],
        [
         "PROCESSING",
         8275
        ],
        [
         "PENDING",
         7610
        ],
        [
         "CLOSED",
         7556
        ],
        [
         "ON_HOLD",
         3798
        ],
        [
         "SUSPECTED_FRAUD",
         1558
        ],
        [
         "CANCELED",
         1428
        ],
        [
         "PAYMENT_REVIEW",
         729
        ]
       ],
       "datasetInfos": [],
       "dbfsResultPath": null,
       "isJsonSchema": true,
       "metadata": {},
       "overflow": false,
       "plotOptions": {
        "customPlotOptions": {},
        "displayType": "table",
        "pivotAggregation": null,
        "pivotColumns": null,
        "xColumns": null,
        "yColumns": null
       },
       "removedWidgets": [],
       "schema": [
        {
         "metadata": "{}",
         "name": "order_status",
         "type": "\"string\""
        },
        {
         "metadata": "{}",
         "name": "order_count",
         "type": "\"long\""
        }
       ],
       "type": "table"
      }
     },
     "output_type": "display_data"
    }
   ],
   "source": [
    "display(orders_df. \\\n",
    "    groupBy('order_status'). \\\n",
    "    agg(count('order_id').alias('order_count')). \\\n",
    "    orderBy(col('order_count').desc()))"
   ]
  },
  {
   "cell_type": "code",
   "execution_count": 0,
   "metadata": {
    "application/vnd.databricks.v1+cell": {
     "cellMetadata": {
      "byteLimit": 2048000,
      "rowLimit": 10000
     },
     "inputWidgets": {},
     "nuid": "6a0c2789-1163-47d3-b491-1bc5f86dbc4c",
     "showTitle": false,
     "title": ""
    }
   },
   "outputs": [],
   "source": [
    "order_items_df = spark.read.csv('dbfs:/public/retail_db/order_items/part-00000', schema='order_id int, order_item_order_id int, order_item_product_id int, order_item_quantity int, order_item_subtotal float, order_item_product_price float')"
   ]
  },
  {
   "cell_type": "code",
   "execution_count": 0,
   "metadata": {
    "application/vnd.databricks.v1+cell": {
     "cellMetadata": {
      "byteLimit": 2048000,
      "rowLimit": 10000
     },
     "inputWidgets": {},
     "nuid": "a301e15f-421b-4a42-ac4c-1c6c9ce207c2",
     "showTitle": false,
     "title": ""
    }
   },
   "outputs": [
    {
     "output_type": "display_data",
     "data": {
      "text/html": [
       "<style scoped>\n",
       "  .table-result-container {\n",
       "    max-height: 300px;\n",
       "    overflow: auto;\n",
       "  }\n",
       "  table, th, td {\n",
       "    border: 1px solid black;\n",
       "    border-collapse: collapse;\n",
       "  }\n",
       "  th, td {\n",
       "    padding: 5px;\n",
       "  }\n",
       "  th {\n",
       "    text-align: left;\n",
       "  }\n",
       "</style><div class='table-result-container'><table class='table-result'><thead style='background-color: white'><tr><th>order_id</th><th>order_item_order_id</th><th>order_item_product_id</th><th>order_item_quantity</th><th>order_item_subtotal</th><th>order_item_product_price</th></tr></thead><tbody><tr><td>1</td><td>1</td><td>957</td><td>1</td><td>299.98</td><td>299.98</td></tr><tr><td>2</td><td>2</td><td>1073</td><td>1</td><td>199.99</td><td>199.99</td></tr><tr><td>3</td><td>2</td><td>502</td><td>5</td><td>250.0</td><td>50.0</td></tr><tr><td>4</td><td>2</td><td>403</td><td>1</td><td>129.99</td><td>129.99</td></tr><tr><td>5</td><td>4</td><td>897</td><td>2</td><td>49.98</td><td>24.99</td></tr><tr><td>6</td><td>4</td><td>365</td><td>5</td><td>299.95</td><td>59.99</td></tr><tr><td>7</td><td>4</td><td>502</td><td>3</td><td>150.0</td><td>50.0</td></tr><tr><td>8</td><td>4</td><td>1014</td><td>4</td><td>199.92</td><td>49.98</td></tr><tr><td>9</td><td>5</td><td>957</td><td>1</td><td>299.98</td><td>299.98</td></tr><tr><td>10</td><td>5</td><td>365</td><td>5</td><td>299.95</td><td>59.99</td></tr></tbody></table></div>"
      ]
     },
     "metadata": {
      "application/vnd.databricks.v1+output": {
       "addedWidgets": {},
       "aggData": [],
       "aggError": "",
       "aggOverflow": false,
       "aggSchema": [],
       "aggSeriesLimitReached": false,
       "aggType": "",
       "arguments": {},
       "columnCustomDisplayInfos": {},
       "data": [
        [
         1,
         1,
         957,
         1,
         299.98,
         299.98
        ],
        [
         2,
         2,
         1073,
         1,
         199.99,
         199.99
        ],
        [
         3,
         2,
         502,
         5,
         250.0,
         50.0
        ],
        [
         4,
         2,
         403,
         1,
         129.99,
         129.99
        ],
        [
         5,
         4,
         897,
         2,
         49.98,
         24.99
        ],
        [
         6,
         4,
         365,
         5,
         299.95,
         59.99
        ],
        [
         7,
         4,
         502,
         3,
         150.0,
         50.0
        ],
        [
         8,
         4,
         1014,
         4,
         199.92,
         49.98
        ],
        [
         9,
         5,
         957,
         1,
         299.98,
         299.98
        ],
        [
         10,
         5,
         365,
         5,
         299.95,
         59.99
        ]
       ],
       "datasetInfos": [],
       "dbfsResultPath": null,
       "isJsonSchema": true,
       "metadata": {},
       "overflow": false,
       "plotOptions": {
        "customPlotOptions": {},
        "displayType": "table",
        "pivotAggregation": null,
        "pivotColumns": null,
        "xColumns": null,
        "yColumns": null
       },
       "removedWidgets": [],
       "schema": [
        {
         "metadata": "{}",
         "name": "order_id",
         "type": "\"integer\""
        },
        {
         "metadata": "{}",
         "name": "order_item_order_id",
         "type": "\"integer\""
        },
        {
         "metadata": "{}",
         "name": "order_item_product_id",
         "type": "\"integer\""
        },
        {
         "metadata": "{}",
         "name": "order_item_quantity",
         "type": "\"integer\""
        },
        {
         "metadata": "{}",
         "name": "order_item_subtotal",
         "type": "\"float\""
        },
        {
         "metadata": "{}",
         "name": "order_item_product_price",
         "type": "\"float\""
        }
       ],
       "type": "table"
      }
     },
     "output_type": "display_data"
    }
   ],
   "source": [
    "display(order_items_df.limit(10))"
   ]
  },
  {
   "cell_type": "code",
   "execution_count": 0,
   "metadata": {
    "application/vnd.databricks.v1+cell": {
     "cellMetadata": {
      "byteLimit": 2048000,
      "rowLimit": 10000
     },
     "inputWidgets": {},
     "nuid": "da045396-fb97-4674-a60f-885dd44f80c1",
     "showTitle": false,
     "title": ""
    }
   },
   "outputs": [],
   "source": [
    "from pyspark.sql.functions import sum, round"
   ]
  },
  {
   "cell_type": "code",
   "execution_count": 0,
   "metadata": {
    "application/vnd.databricks.v1+cell": {
     "cellMetadata": {
      "byteLimit": 2048000,
      "rowLimit": 10000
     },
     "inputWidgets": {},
     "nuid": "42e4550c-7329-4567-b3ac-6a829223018c",
     "showTitle": false,
     "title": ""
    }
   },
   "outputs": [
    {
     "output_type": "display_data",
     "data": {
      "text/html": [
       "<style scoped>\n",
       "  .table-result-container {\n",
       "    max-height: 300px;\n",
       "    overflow: auto;\n",
       "  }\n",
       "  table, th, td {\n",
       "    border: 1px solid black;\n",
       "    border-collapse: collapse;\n",
       "  }\n",
       "  th, td {\n",
       "    padding: 5px;\n",
       "  }\n",
       "  th {\n",
       "    text-align: left;\n",
       "  }\n",
       "</style><div class='table-result-container'><table class='table-result'><thead style='background-color: white'><tr><th>order_item_order_id</th><th>order_revenue</th></tr></thead><tbody><tr><td>1</td><td>299.98</td></tr><tr><td>2</td><td>579.98</td></tr><tr><td>4</td><td>699.85</td></tr><tr><td>5</td><td>1129.86</td></tr><tr><td>7</td><td>579.92</td></tr><tr><td>8</td><td>729.84</td></tr><tr><td>9</td><td>599.96</td></tr><tr><td>10</td><td>651.92</td></tr><tr><td>11</td><td>919.79</td></tr><tr><td>12</td><td>1299.87</td></tr></tbody></table></div>"
      ]
     },
     "metadata": {
      "application/vnd.databricks.v1+output": {
       "addedWidgets": {},
       "aggData": [],
       "aggError": "",
       "aggOverflow": false,
       "aggSchema": [],
       "aggSeriesLimitReached": false,
       "aggType": "",
       "arguments": {},
       "columnCustomDisplayInfos": {},
       "data": [
        [
         1,
         299.98
        ],
        [
         2,
         579.98
        ],
        [
         4,
         699.85
        ],
        [
         5,
         1129.86
        ],
        [
         7,
         579.92
        ],
        [
         8,
         729.84
        ],
        [
         9,
         599.96
        ],
        [
         10,
         651.92
        ],
        [
         11,
         919.79
        ],
        [
         12,
         1299.87
        ]
       ],
       "datasetInfos": [],
       "dbfsResultPath": null,
       "isJsonSchema": true,
       "metadata": {},
       "overflow": false,
       "plotOptions": {
        "customPlotOptions": {},
        "displayType": "table",
        "pivotAggregation": null,
        "pivotColumns": null,
        "xColumns": null,
        "yColumns": null
       },
       "removedWidgets": [],
       "schema": [
        {
         "metadata": "{}",
         "name": "order_item_order_id",
         "type": "\"integer\""
        },
        {
         "metadata": "{}",
         "name": "order_revenue",
         "type": "\"double\""
        }
       ],
       "type": "table"
      }
     },
     "output_type": "display_data"
    }
   ],
   "source": [
    "display(order_items_df.groupBy('order_item_order_id'). \\\n",
    "    agg(round(sum('order_item_subtotal'), 2).alias('order_revenue')). \\\n",
    "    orderBy('order_item_order_id').limit(10)\n",
    ")"
   ]
  },
  {
   "cell_type": "markdown",
   "metadata": {
    "application/vnd.databricks.v1+cell": {
     "cellMetadata": {},
     "inputWidgets": {},
     "nuid": "46bd3355-4907-4a95-bfae-ceaaa56ccec1",
     "showTitle": false,
     "title": ""
    }
   },
   "source": [
    "get the count of orders per month"
   ]
  },
  {
   "cell_type": "code",
   "execution_count": 0,
   "metadata": {
    "application/vnd.databricks.v1+cell": {
     "cellMetadata": {
      "byteLimit": 2048000,
      "rowLimit": 10000
     },
     "inputWidgets": {},
     "nuid": "c4a226f5-fccc-4067-8d65-ec782079b728",
     "showTitle": false,
     "title": ""
    }
   },
   "outputs": [],
   "source": [
    "from pyspark.sql.functions import year, month"
   ]
  },
  {
   "cell_type": "code",
   "execution_count": 0,
   "metadata": {
    "application/vnd.databricks.v1+cell": {
     "cellMetadata": {
      "byteLimit": 2048000,
      "rowLimit": 10000
     },
     "inputWidgets": {},
     "nuid": "33de4b17-676b-4518-8907-5fcb02ca4117",
     "showTitle": false,
     "title": ""
    }
   },
   "outputs": [
    {
     "output_type": "display_data",
     "data": {
      "text/html": [
       "<style scoped>\n",
       "  .table-result-container {\n",
       "    max-height: 300px;\n",
       "    overflow: auto;\n",
       "  }\n",
       "  table, th, td {\n",
       "    border: 1px solid black;\n",
       "    border-collapse: collapse;\n",
       "  }\n",
       "  th, td {\n",
       "    padding: 5px;\n",
       "  }\n",
       "  th {\n",
       "    text-align: left;\n",
       "  }\n",
       "</style><div class='table-result-container'><table class='table-result'><thead style='background-color: white'><tr><th>year</th><th>month</th><th>count(order_id)</th></tr></thead><tbody><tr><td>2013</td><td>7</td><td>1533</td></tr><tr><td>2013</td><td>8</td><td>5680</td></tr><tr><td>2013</td><td>9</td><td>5841</td></tr><tr><td>2013</td><td>10</td><td>5335</td></tr><tr><td>2013</td><td>11</td><td>6381</td></tr><tr><td>2013</td><td>12</td><td>5892</td></tr><tr><td>2014</td><td>1</td><td>5908</td></tr><tr><td>2014</td><td>2</td><td>5635</td></tr><tr><td>2014</td><td>3</td><td>5778</td></tr><tr><td>2014</td><td>4</td><td>5657</td></tr><tr><td>2014</td><td>5</td><td>5467</td></tr><tr><td>2014</td><td>6</td><td>5308</td></tr><tr><td>2014</td><td>7</td><td>4468</td></tr></tbody></table></div>"
      ]
     },
     "metadata": {
      "application/vnd.databricks.v1+output": {
       "addedWidgets": {},
       "aggData": [],
       "aggError": "",
       "aggOverflow": false,
       "aggSchema": [],
       "aggSeriesLimitReached": false,
       "aggType": "",
       "arguments": {},
       "columnCustomDisplayInfos": {},
       "data": [
        [
         2013,
         7,
         1533
        ],
        [
         2013,
         8,
         5680
        ],
        [
         2013,
         9,
         5841
        ],
        [
         2013,
         10,
         5335
        ],
        [
         2013,
         11,
         6381
        ],
        [
         2013,
         12,
         5892
        ],
        [
         2014,
         1,
         5908
        ],
        [
         2014,
         2,
         5635
        ],
        [
         2014,
         3,
         5778
        ],
        [
         2014,
         4,
         5657
        ],
        [
         2014,
         5,
         5467
        ],
        [
         2014,
         6,
         5308
        ],
        [
         2014,
         7,
         4468
        ]
       ],
       "datasetInfos": [],
       "dbfsResultPath": null,
       "isJsonSchema": true,
       "metadata": {},
       "overflow": false,
       "plotOptions": {
        "customPlotOptions": {},
        "displayType": "table",
        "pivotAggregation": null,
        "pivotColumns": null,
        "xColumns": null,
        "yColumns": null
       },
       "removedWidgets": [],
       "schema": [
        {
         "metadata": "{}",
         "name": "year",
         "type": "\"integer\""
        },
        {
         "metadata": "{}",
         "name": "month",
         "type": "\"integer\""
        },
        {
         "metadata": "{}",
         "name": "count(order_id)",
         "type": "\"long\""
        }
       ],
       "type": "table"
      }
     },
     "output_type": "display_data"
    }
   ],
   "source": [
    "display(orders_df.groupBy(year('order_date').alias('year'), month('order_date').alias('month')). \\\n",
    "    agg(count('order_id')).alias('order_count'). \\\n",
    "    orderBy('year', 'month'))"
   ]
  },
  {
   "cell_type": "code",
   "execution_count": 0,
   "metadata": {
    "application/vnd.databricks.v1+cell": {
     "cellMetadata": {
      "byteLimit": 2048000,
      "rowLimit": 10000
     },
     "inputWidgets": {},
     "nuid": "1625b501-3dc0-4a7e-93f0-728c8438d6d7",
     "showTitle": false,
     "title": ""
    }
   },
   "outputs": [
    {
     "output_type": "display_data",
     "data": {
      "text/html": [
       "<style scoped>\n",
       "  .table-result-container {\n",
       "    max-height: 300px;\n",
       "    overflow: auto;\n",
       "  }\n",
       "  table, th, td {\n",
       "    border: 1px solid black;\n",
       "    border-collapse: collapse;\n",
       "  }\n",
       "  th, td {\n",
       "    padding: 5px;\n",
       "  }\n",
       "  th {\n",
       "    text-align: left;\n",
       "  }\n",
       "</style><div class='table-result-container'><table class='table-result'><thead style='background-color: white'><tr><th>order_id</th><th>order_date</th><th>order_customer_id</th><th>order_status</th></tr></thead><tbody><tr><td>22945</td><td>2013-12-13</td><td>1</td><td>COMPLETE</td></tr><tr><td>15192</td><td>2013-10-29</td><td>2</td><td>PENDING_PAYMENT</td></tr><tr><td>33865</td><td>2014-02-18</td><td>2</td><td>COMPLETE</td></tr><tr><td>57963</td><td>2013-08-02</td><td>2</td><td>ON_HOLD</td></tr><tr><td>67863</td><td>2013-11-30</td><td>2</td><td>COMPLETE</td></tr><tr><td>35158</td><td>2014-02-26</td><td>3</td><td>COMPLETE</td></tr><tr><td>22646</td><td>2013-12-11</td><td>3</td><td>COMPLETE</td></tr><tr><td>23662</td><td>2013-12-19</td><td>3</td><td>COMPLETE</td></tr><tr><td>46399</td><td>2014-05-09</td><td>3</td><td>PROCESSING</td></tr><tr><td>56178</td><td>2014-07-15</td><td>3</td><td>PENDING</td></tr></tbody></table></div>"
      ]
     },
     "metadata": {
      "application/vnd.databricks.v1+output": {
       "addedWidgets": {},
       "aggData": [],
       "aggError": "",
       "aggOverflow": false,
       "aggSchema": [],
       "aggSeriesLimitReached": false,
       "aggType": "",
       "arguments": {},
       "columnCustomDisplayInfos": {},
       "data": [
        [
         22945,
         "2013-12-13",
         1,
         "COMPLETE"
        ],
        [
         15192,
         "2013-10-29",
         2,
         "PENDING_PAYMENT"
        ],
        [
         33865,
         "2014-02-18",
         2,
         "COMPLETE"
        ],
        [
         57963,
         "2013-08-02",
         2,
         "ON_HOLD"
        ],
        [
         67863,
         "2013-11-30",
         2,
         "COMPLETE"
        ],
        [
         35158,
         "2014-02-26",
         3,
         "COMPLETE"
        ],
        [
         22646,
         "2013-12-11",
         3,
         "COMPLETE"
        ],
        [
         23662,
         "2013-12-19",
         3,
         "COMPLETE"
        ],
        [
         46399,
         "2014-05-09",
         3,
         "PROCESSING"
        ],
        [
         56178,
         "2014-07-15",
         3,
         "PENDING"
        ]
       ],
       "datasetInfos": [],
       "dbfsResultPath": null,
       "isJsonSchema": true,
       "metadata": {},
       "overflow": false,
       "plotOptions": {
        "customPlotOptions": {},
        "displayType": "table",
        "pivotAggregation": null,
        "pivotColumns": null,
        "xColumns": null,
        "yColumns": null
       },
       "removedWidgets": [],
       "schema": [
        {
         "metadata": "{}",
         "name": "order_id",
         "type": "\"integer\""
        },
        {
         "metadata": "{}",
         "name": "order_date",
         "type": "\"date\""
        },
        {
         "metadata": "{}",
         "name": "order_customer_id",
         "type": "\"integer\""
        },
        {
         "metadata": "{}",
         "name": "order_status",
         "type": "\"string\""
        }
       ],
       "type": "table"
      }
     },
     "output_type": "display_data"
    }
   ],
   "source": [
    "display(orders_df.orderBy('order_customer_id').limit(10))"
   ]
  },
  {
   "cell_type": "code",
   "execution_count": 0,
   "metadata": {
    "application/vnd.databricks.v1+cell": {
     "cellMetadata": {
      "byteLimit": 2048000,
      "rowLimit": 10000
     },
     "inputWidgets": {},
     "nuid": "f767905e-0d7a-4785-8516-c9165d6b5149",
     "showTitle": false,
     "title": ""
    }
   },
   "outputs": [
    {
     "output_type": "display_data",
     "data": {
      "text/html": [
       "<style scoped>\n",
       "  .table-result-container {\n",
       "    max-height: 300px;\n",
       "    overflow: auto;\n",
       "  }\n",
       "  table, th, td {\n",
       "    border: 1px solid black;\n",
       "    border-collapse: collapse;\n",
       "  }\n",
       "  th, td {\n",
       "    padding: 5px;\n",
       "  }\n",
       "  th {\n",
       "    text-align: left;\n",
       "  }\n",
       "</style><div class='table-result-container'><table class='table-result'><thead style='background-color: white'><tr><th>order_id</th><th>order_date</th><th>order_customer_id</th><th>order_status</th></tr></thead><tbody><tr><td>41643</td><td>2014-04-08</td><td>12435</td><td>PENDING</td></tr><tr><td>61629</td><td>2013-12-21</td><td>12435</td><td>CANCELED</td></tr><tr><td>1868</td><td>2013-08-03</td><td>12434</td><td>CLOSED</td></tr><tr><td>4799</td><td>2013-08-23</td><td>12434</td><td>PENDING_PAYMENT</td></tr><tr><td>5303</td><td>2013-08-26</td><td>12434</td><td>PENDING</td></tr><tr><td>6160</td><td>2013-09-02</td><td>12434</td><td>COMPLETE</td></tr><tr><td>13544</td><td>2013-10-16</td><td>12434</td><td>PENDING</td></tr><tr><td>42915</td><td>2014-04-16</td><td>12434</td><td>COMPLETE</td></tr><tr><td>51800</td><td>2014-06-14</td><td>12434</td><td>ON_HOLD</td></tr><tr><td>61777</td><td>2013-12-26</td><td>12434</td><td>COMPLETE</td></tr></tbody></table></div>"
      ]
     },
     "metadata": {
      "application/vnd.databricks.v1+output": {
       "addedWidgets": {},
       "aggData": [],
       "aggError": "",
       "aggOverflow": false,
       "aggSchema": [],
       "aggSeriesLimitReached": false,
       "aggType": "",
       "arguments": {},
       "columnCustomDisplayInfos": {},
       "data": [
        [
         41643,
         "2014-04-08",
         12435,
         "PENDING"
        ],
        [
         61629,
         "2013-12-21",
         12435,
         "CANCELED"
        ],
        [
         1868,
         "2013-08-03",
         12434,
         "CLOSED"
        ],
        [
         4799,
         "2013-08-23",
         12434,
         "PENDING_PAYMENT"
        ],
        [
         5303,
         "2013-08-26",
         12434,
         "PENDING"
        ],
        [
         6160,
         "2013-09-02",
         12434,
         "COMPLETE"
        ],
        [
         13544,
         "2013-10-16",
         12434,
         "PENDING"
        ],
        [
         42915,
         "2014-04-16",
         12434,
         "COMPLETE"
        ],
        [
         51800,
         "2014-06-14",
         12434,
         "ON_HOLD"
        ],
        [
         61777,
         "2013-12-26",
         12434,
         "COMPLETE"
        ]
       ],
       "datasetInfos": [],
       "dbfsResultPath": null,
       "isJsonSchema": true,
       "metadata": {},
       "overflow": false,
       "plotOptions": {
        "customPlotOptions": {},
        "displayType": "table",
        "pivotAggregation": null,
        "pivotColumns": null,
        "xColumns": null,
        "yColumns": null
       },
       "removedWidgets": [],
       "schema": [
        {
         "metadata": "{}",
         "name": "order_id",
         "type": "\"integer\""
        },
        {
         "metadata": "{}",
         "name": "order_date",
         "type": "\"date\""
        },
        {
         "metadata": "{}",
         "name": "order_customer_id",
         "type": "\"integer\""
        },
        {
         "metadata": "{}",
         "name": "order_status",
         "type": "\"string\""
        }
       ],
       "type": "table"
      }
     },
     "output_type": "display_data"
    }
   ],
   "source": [
    "display(orders_df.orderBy(col('order_customer_id').desc()).limit(10))"
   ]
  },
  {
   "cell_type": "markdown",
   "metadata": {
    "application/vnd.databricks.v1+cell": {
     "cellMetadata": {},
     "inputWidgets": {},
     "nuid": "3b89a80d-7721-4b32-9d51-09c03db0abd9",
     "showTitle": false,
     "title": ""
    }
   },
   "source": [
    "sort the data in ascending order by customer_id and order_date"
   ]
  },
  {
   "cell_type": "code",
   "execution_count": 0,
   "metadata": {
    "application/vnd.databricks.v1+cell": {
     "cellMetadata": {
      "byteLimit": 2048000,
      "rowLimit": 10000
     },
     "inputWidgets": {},
     "nuid": "4b0fd0d2-65ec-409f-bc6b-cf810de02485",
     "showTitle": false,
     "title": ""
    }
   },
   "outputs": [
    {
     "output_type": "display_data",
     "data": {
      "text/html": [
       "<style scoped>\n",
       "  .table-result-container {\n",
       "    max-height: 300px;\n",
       "    overflow: auto;\n",
       "  }\n",
       "  table, th, td {\n",
       "    border: 1px solid black;\n",
       "    border-collapse: collapse;\n",
       "  }\n",
       "  th, td {\n",
       "    padding: 5px;\n",
       "  }\n",
       "  th {\n",
       "    text-align: left;\n",
       "  }\n",
       "</style><div class='table-result-container'><table class='table-result'><thead style='background-color: white'><tr><th>order_id</th><th>order_date</th><th>order_customer_id</th><th>order_status</th></tr></thead><tbody><tr><td>22945</td><td>2013-12-13</td><td>1</td><td>COMPLETE</td></tr><tr><td>57963</td><td>2013-08-02</td><td>2</td><td>ON_HOLD</td></tr><tr><td>15192</td><td>2013-10-29</td><td>2</td><td>PENDING_PAYMENT</td></tr><tr><td>67863</td><td>2013-11-30</td><td>2</td><td>COMPLETE</td></tr><tr><td>33865</td><td>2014-02-18</td><td>2</td><td>COMPLETE</td></tr><tr><td>22646</td><td>2013-12-11</td><td>3</td><td>COMPLETE</td></tr><tr><td>61453</td><td>2013-12-14</td><td>3</td><td>COMPLETE</td></tr><tr><td>23662</td><td>2013-12-19</td><td>3</td><td>COMPLETE</td></tr><tr><td>35158</td><td>2014-02-26</td><td>3</td><td>COMPLETE</td></tr><tr><td>46399</td><td>2014-05-09</td><td>3</td><td>PROCESSING</td></tr></tbody></table></div>"
      ]
     },
     "metadata": {
      "application/vnd.databricks.v1+output": {
       "addedWidgets": {},
       "aggData": [],
       "aggError": "",
       "aggOverflow": false,
       "aggSchema": [],
       "aggSeriesLimitReached": false,
       "aggType": "",
       "arguments": {},
       "columnCustomDisplayInfos": {},
       "data": [
        [
         22945,
         "2013-12-13",
         1,
         "COMPLETE"
        ],
        [
         57963,
         "2013-08-02",
         2,
         "ON_HOLD"
        ],
        [
         15192,
         "2013-10-29",
         2,
         "PENDING_PAYMENT"
        ],
        [
         67863,
         "2013-11-30",
         2,
         "COMPLETE"
        ],
        [
         33865,
         "2014-02-18",
         2,
         "COMPLETE"
        ],
        [
         22646,
         "2013-12-11",
         3,
         "COMPLETE"
        ],
        [
         61453,
         "2013-12-14",
         3,
         "COMPLETE"
        ],
        [
         23662,
         "2013-12-19",
         3,
         "COMPLETE"
        ],
        [
         35158,
         "2014-02-26",
         3,
         "COMPLETE"
        ],
        [
         46399,
         "2014-05-09",
         3,
         "PROCESSING"
        ]
       ],
       "datasetInfos": [],
       "dbfsResultPath": null,
       "isJsonSchema": true,
       "metadata": {},
       "overflow": false,
       "plotOptions": {
        "customPlotOptions": {},
        "displayType": "table",
        "pivotAggregation": null,
        "pivotColumns": null,
        "xColumns": null,
        "yColumns": null
       },
       "removedWidgets": [],
       "schema": [
        {
         "metadata": "{}",
         "name": "order_id",
         "type": "\"integer\""
        },
        {
         "metadata": "{}",
         "name": "order_date",
         "type": "\"date\""
        },
        {
         "metadata": "{}",
         "name": "order_customer_id",
         "type": "\"integer\""
        },
        {
         "metadata": "{}",
         "name": "order_status",
         "type": "\"string\""
        }
       ],
       "type": "table"
      }
     },
     "output_type": "display_data"
    }
   ],
   "source": [
    "display(orders_df.orderBy(col('order_customer_id'), col('order_date')).limit(10))"
   ]
  },
  {
   "cell_type": "code",
   "execution_count": 0,
   "metadata": {
    "application/vnd.databricks.v1+cell": {
     "cellMetadata": {
      "byteLimit": 2048000,
      "rowLimit": 10000
     },
     "inputWidgets": {},
     "nuid": "d3790895-54ff-4761-9bdf-d2681047dc9f",
     "showTitle": false,
     "title": ""
    }
   },
   "outputs": [
    {
     "output_type": "display_data",
     "data": {
      "text/html": [
       "<style scoped>\n",
       "  .table-result-container {\n",
       "    max-height: 300px;\n",
       "    overflow: auto;\n",
       "  }\n",
       "  table, th, td {\n",
       "    border: 1px solid black;\n",
       "    border-collapse: collapse;\n",
       "  }\n",
       "  th, td {\n",
       "    padding: 5px;\n",
       "  }\n",
       "  th {\n",
       "    text-align: left;\n",
       "  }\n",
       "</style><div class='table-result-container'><table class='table-result'><thead style='background-color: white'><tr><th>order_id</th><th>order_item_order_id</th><th>order_item_product_id</th><th>order_item_quantity</th><th>order_item_subtotal</th><th>order_item_product_price</th></tr></thead><tbody><tr><td>1</td><td>1</td><td>957</td><td>1</td><td>299.98</td><td>299.98</td></tr><tr><td>3</td><td>2</td><td>502</td><td>5</td><td>250.0</td><td>50.0</td></tr><tr><td>2</td><td>2</td><td>1073</td><td>1</td><td>199.99</td><td>199.99</td></tr><tr><td>4</td><td>2</td><td>403</td><td>1</td><td>129.99</td><td>129.99</td></tr><tr><td>6</td><td>4</td><td>365</td><td>5</td><td>299.95</td><td>59.99</td></tr><tr><td>8</td><td>4</td><td>1014</td><td>4</td><td>199.92</td><td>49.98</td></tr><tr><td>7</td><td>4</td><td>502</td><td>3</td><td>150.0</td><td>50.0</td></tr><tr><td>5</td><td>4</td><td>897</td><td>2</td><td>49.98</td><td>24.99</td></tr><tr><td>9</td><td>5</td><td>957</td><td>1</td><td>299.98</td><td>299.98</td></tr><tr><td>12</td><td>5</td><td>957</td><td>1</td><td>299.98</td><td>299.98</td></tr></tbody></table></div>"
      ]
     },
     "metadata": {
      "application/vnd.databricks.v1+output": {
       "addedWidgets": {},
       "aggData": [],
       "aggError": "",
       "aggOverflow": false,
       "aggSchema": [],
       "aggSeriesLimitReached": false,
       "aggType": "",
       "arguments": {},
       "columnCustomDisplayInfos": {},
       "data": [
        [
         1,
         1,
         957,
         1,
         299.98,
         299.98
        ],
        [
         3,
         2,
         502,
         5,
         250.0,
         50.0
        ],
        [
         2,
         2,
         1073,
         1,
         199.99,
         199.99
        ],
        [
         4,
         2,
         403,
         1,
         129.99,
         129.99
        ],
        [
         6,
         4,
         365,
         5,
         299.95,
         59.99
        ],
        [
         8,
         4,
         1014,
         4,
         199.92,
         49.98
        ],
        [
         7,
         4,
         502,
         3,
         150.0,
         50.0
        ],
        [
         5,
         4,
         897,
         2,
         49.98,
         24.99
        ],
        [
         9,
         5,
         957,
         1,
         299.98,
         299.98
        ],
        [
         12,
         5,
         957,
         1,
         299.98,
         299.98
        ]
       ],
       "datasetInfos": [],
       "dbfsResultPath": null,
       "isJsonSchema": true,
       "metadata": {},
       "overflow": false,
       "plotOptions": {
        "customPlotOptions": {},
        "displayType": "table",
        "pivotAggregation": null,
        "pivotColumns": null,
        "xColumns": null,
        "yColumns": null
       },
       "removedWidgets": [],
       "schema": [
        {
         "metadata": "{}",
         "name": "order_id",
         "type": "\"integer\""
        },
        {
         "metadata": "{}",
         "name": "order_item_order_id",
         "type": "\"integer\""
        },
        {
         "metadata": "{}",
         "name": "order_item_product_id",
         "type": "\"integer\""
        },
        {
         "metadata": "{}",
         "name": "order_item_quantity",
         "type": "\"integer\""
        },
        {
         "metadata": "{}",
         "name": "order_item_subtotal",
         "type": "\"float\""
        },
        {
         "metadata": "{}",
         "name": "order_item_product_price",
         "type": "\"float\""
        }
       ],
       "type": "table"
      }
     },
     "output_type": "display_data"
    }
   ],
   "source": [
    "display(order_items_df.orderBy(col('order_item_order_id'), col('order_item_subtotal').desc()).limit(10))"
   ]
  },
  {
   "cell_type": "code",
   "execution_count": 0,
   "metadata": {
    "application/vnd.databricks.v1+cell": {
     "cellMetadata": {
      "byteLimit": 2048000,
      "rowLimit": 10000
     },
     "inputWidgets": {},
     "nuid": "b449a7ed-a517-4ee2-9fb7-0ff903fddde9",
     "showTitle": false,
     "title": ""
    }
   },
   "outputs": [
    {
     "output_type": "display_data",
     "data": {
      "text/html": [
       "<style scoped>\n",
       "  .table-result-container {\n",
       "    max-height: 300px;\n",
       "    overflow: auto;\n",
       "  }\n",
       "  table, th, td {\n",
       "    border: 1px solid black;\n",
       "    border-collapse: collapse;\n",
       "  }\n",
       "  th, td {\n",
       "    padding: 5px;\n",
       "  }\n",
       "  th {\n",
       "    text-align: left;\n",
       "  }\n",
       "</style><div class='table-result-container'><table class='table-result'><thead style='background-color: white'><tr><th>path</th><th>name</th><th>size</th><th>modificationTime</th></tr></thead><tbody><tr><td>dbfs:/databricks-datasets/COVID/</td><td>COVID/</td><td>0</td><td>1696018064038</td></tr><tr><td>dbfs:/databricks-datasets/README.md</td><td>README.md</td><td>976</td><td>1532468253000</td></tr><tr><td>dbfs:/databricks-datasets/Rdatasets/</td><td>Rdatasets/</td><td>0</td><td>1696018064038</td></tr><tr><td>dbfs:/databricks-datasets/SPARK_README.md</td><td>SPARK_README.md</td><td>3359</td><td>1455043490000</td></tr><tr><td>dbfs:/databricks-datasets/adult/</td><td>adult/</td><td>0</td><td>1696018064038</td></tr><tr><td>dbfs:/databricks-datasets/airlines/</td><td>airlines/</td><td>0</td><td>1696018064038</td></tr><tr><td>dbfs:/databricks-datasets/amazon/</td><td>amazon/</td><td>0</td><td>1696018064038</td></tr><tr><td>dbfs:/databricks-datasets/asa/</td><td>asa/</td><td>0</td><td>1696018064038</td></tr><tr><td>dbfs:/databricks-datasets/atlas_higgs/</td><td>atlas_higgs/</td><td>0</td><td>1696018064038</td></tr><tr><td>dbfs:/databricks-datasets/bikeSharing/</td><td>bikeSharing/</td><td>0</td><td>1696018064038</td></tr><tr><td>dbfs:/databricks-datasets/cctvVideos/</td><td>cctvVideos/</td><td>0</td><td>1696018064038</td></tr><tr><td>dbfs:/databricks-datasets/credit-card-fraud/</td><td>credit-card-fraud/</td><td>0</td><td>1696018064038</td></tr><tr><td>dbfs:/databricks-datasets/cs100/</td><td>cs100/</td><td>0</td><td>1696018064038</td></tr><tr><td>dbfs:/databricks-datasets/cs110x/</td><td>cs110x/</td><td>0</td><td>1696018064038</td></tr><tr><td>dbfs:/databricks-datasets/cs190/</td><td>cs190/</td><td>0</td><td>1696018064038</td></tr><tr><td>dbfs:/databricks-datasets/data.gov/</td><td>data.gov/</td><td>0</td><td>1696018064038</td></tr><tr><td>dbfs:/databricks-datasets/definitive-guide/</td><td>definitive-guide/</td><td>0</td><td>1696018064038</td></tr><tr><td>dbfs:/databricks-datasets/delta-sharing/</td><td>delta-sharing/</td><td>0</td><td>1696018064038</td></tr><tr><td>dbfs:/databricks-datasets/flights/</td><td>flights/</td><td>0</td><td>1696018064038</td></tr><tr><td>dbfs:/databricks-datasets/flower_photos/</td><td>flower_photos/</td><td>0</td><td>1696018064038</td></tr><tr><td>dbfs:/databricks-datasets/flowers/</td><td>flowers/</td><td>0</td><td>1696018064038</td></tr><tr><td>dbfs:/databricks-datasets/genomics/</td><td>genomics/</td><td>0</td><td>1696018064038</td></tr><tr><td>dbfs:/databricks-datasets/hail/</td><td>hail/</td><td>0</td><td>1696018064038</td></tr><tr><td>dbfs:/databricks-datasets/identifying-campaign-effectiveness/</td><td>identifying-campaign-effectiveness/</td><td>0</td><td>1696018064038</td></tr><tr><td>dbfs:/databricks-datasets/iot/</td><td>iot/</td><td>0</td><td>1696018064038</td></tr><tr><td>dbfs:/databricks-datasets/iot-stream/</td><td>iot-stream/</td><td>0</td><td>1696018064038</td></tr><tr><td>dbfs:/databricks-datasets/learning-spark/</td><td>learning-spark/</td><td>0</td><td>1696018064039</td></tr><tr><td>dbfs:/databricks-datasets/learning-spark-v2/</td><td>learning-spark-v2/</td><td>0</td><td>1696018064039</td></tr><tr><td>dbfs:/databricks-datasets/lending-club-loan-stats/</td><td>lending-club-loan-stats/</td><td>0</td><td>1696018064039</td></tr><tr><td>dbfs:/databricks-datasets/med-images/</td><td>med-images/</td><td>0</td><td>1696018064039</td></tr><tr><td>dbfs:/databricks-datasets/media/</td><td>media/</td><td>0</td><td>1696018064039</td></tr><tr><td>dbfs:/databricks-datasets/mnist-digits/</td><td>mnist-digits/</td><td>0</td><td>1696018064039</td></tr><tr><td>dbfs:/databricks-datasets/news20.binary/</td><td>news20.binary/</td><td>0</td><td>1696018064039</td></tr><tr><td>dbfs:/databricks-datasets/nyctaxi/</td><td>nyctaxi/</td><td>0</td><td>1696018064039</td></tr><tr><td>dbfs:/databricks-datasets/nyctaxi-with-zipcodes/</td><td>nyctaxi-with-zipcodes/</td><td>0</td><td>1696018064039</td></tr><tr><td>dbfs:/databricks-datasets/online_retail/</td><td>online_retail/</td><td>0</td><td>1696018064039</td></tr><tr><td>dbfs:/databricks-datasets/overlap-join/</td><td>overlap-join/</td><td>0</td><td>1696018064039</td></tr><tr><td>dbfs:/databricks-datasets/power-plant/</td><td>power-plant/</td><td>0</td><td>1696018064039</td></tr><tr><td>dbfs:/databricks-datasets/retail-org/</td><td>retail-org/</td><td>0</td><td>1696018064039</td></tr><tr><td>dbfs:/databricks-datasets/rwe/</td><td>rwe/</td><td>0</td><td>1696018064039</td></tr><tr><td>dbfs:/databricks-datasets/sai-summit-2019-sf/</td><td>sai-summit-2019-sf/</td><td>0</td><td>1696018064039</td></tr><tr><td>dbfs:/databricks-datasets/sample_logs/</td><td>sample_logs/</td><td>0</td><td>1696018064039</td></tr><tr><td>dbfs:/databricks-datasets/samples/</td><td>samples/</td><td>0</td><td>1696018064039</td></tr><tr><td>dbfs:/databricks-datasets/sfo_customer_survey/</td><td>sfo_customer_survey/</td><td>0</td><td>1696018064039</td></tr><tr><td>dbfs:/databricks-datasets/sms_spam_collection/</td><td>sms_spam_collection/</td><td>0</td><td>1696018064039</td></tr><tr><td>dbfs:/databricks-datasets/songs/</td><td>songs/</td><td>0</td><td>1696018064039</td></tr><tr><td>dbfs:/databricks-datasets/structured-streaming/</td><td>structured-streaming/</td><td>0</td><td>1696018064039</td></tr><tr><td>dbfs:/databricks-datasets/timeseries/</td><td>timeseries/</td><td>0</td><td>1696018064039</td></tr><tr><td>dbfs:/databricks-datasets/tpch/</td><td>tpch/</td><td>0</td><td>1696018064039</td></tr><tr><td>dbfs:/databricks-datasets/travel_recommendations_realtime/</td><td>travel_recommendations_realtime/</td><td>0</td><td>1696018064039</td></tr><tr><td>dbfs:/databricks-datasets/warmup/</td><td>warmup/</td><td>0</td><td>1696018064039</td></tr><tr><td>dbfs:/databricks-datasets/weather/</td><td>weather/</td><td>0</td><td>1696018064039</td></tr><tr><td>dbfs:/databricks-datasets/wiki/</td><td>wiki/</td><td>0</td><td>1696018064039</td></tr><tr><td>dbfs:/databricks-datasets/wikipedia-datasets/</td><td>wikipedia-datasets/</td><td>0</td><td>1696018064039</td></tr><tr><td>dbfs:/databricks-datasets/wine-quality/</td><td>wine-quality/</td><td>0</td><td>1696018064039</td></tr></tbody></table></div>"
      ]
     },
     "metadata": {
      "application/vnd.databricks.v1+output": {
       "addedWidgets": {},
       "aggData": [],
       "aggError": "",
       "aggOverflow": false,
       "aggSchema": [],
       "aggSeriesLimitReached": false,
       "aggType": "",
       "arguments": {},
       "columnCustomDisplayInfos": {},
       "data": [
        [
         "dbfs:/databricks-datasets/COVID/",
         "COVID/",
         0,
         1696018064038
        ],
        [
         "dbfs:/databricks-datasets/README.md",
         "README.md",
         976,
         1532468253000
        ],
        [
         "dbfs:/databricks-datasets/Rdatasets/",
         "Rdatasets/",
         0,
         1696018064038
        ],
        [
         "dbfs:/databricks-datasets/SPARK_README.md",
         "SPARK_README.md",
         3359,
         1455043490000
        ],
        [
         "dbfs:/databricks-datasets/adult/",
         "adult/",
         0,
         1696018064038
        ],
        [
         "dbfs:/databricks-datasets/airlines/",
         "airlines/",
         0,
         1696018064038
        ],
        [
         "dbfs:/databricks-datasets/amazon/",
         "amazon/",
         0,
         1696018064038
        ],
        [
         "dbfs:/databricks-datasets/asa/",
         "asa/",
         0,
         1696018064038
        ],
        [
         "dbfs:/databricks-datasets/atlas_higgs/",
         "atlas_higgs/",
         0,
         1696018064038
        ],
        [
         "dbfs:/databricks-datasets/bikeSharing/",
         "bikeSharing/",
         0,
         1696018064038
        ],
        [
         "dbfs:/databricks-datasets/cctvVideos/",
         "cctvVideos/",
         0,
         1696018064038
        ],
        [
         "dbfs:/databricks-datasets/credit-card-fraud/",
         "credit-card-fraud/",
         0,
         1696018064038
        ],
        [
         "dbfs:/databricks-datasets/cs100/",
         "cs100/",
         0,
         1696018064038
        ],
        [
         "dbfs:/databricks-datasets/cs110x/",
         "cs110x/",
         0,
         1696018064038
        ],
        [
         "dbfs:/databricks-datasets/cs190/",
         "cs190/",
         0,
         1696018064038
        ],
        [
         "dbfs:/databricks-datasets/data.gov/",
         "data.gov/",
         0,
         1696018064038
        ],
        [
         "dbfs:/databricks-datasets/definitive-guide/",
         "definitive-guide/",
         0,
         1696018064038
        ],
        [
         "dbfs:/databricks-datasets/delta-sharing/",
         "delta-sharing/",
         0,
         1696018064038
        ],
        [
         "dbfs:/databricks-datasets/flights/",
         "flights/",
         0,
         1696018064038
        ],
        [
         "dbfs:/databricks-datasets/flower_photos/",
         "flower_photos/",
         0,
         1696018064038
        ],
        [
         "dbfs:/databricks-datasets/flowers/",
         "flowers/",
         0,
         1696018064038
        ],
        [
         "dbfs:/databricks-datasets/genomics/",
         "genomics/",
         0,
         1696018064038
        ],
        [
         "dbfs:/databricks-datasets/hail/",
         "hail/",
         0,
         1696018064038
        ],
        [
         "dbfs:/databricks-datasets/identifying-campaign-effectiveness/",
         "identifying-campaign-effectiveness/",
         0,
         1696018064038
        ],
        [
         "dbfs:/databricks-datasets/iot/",
         "iot/",
         0,
         1696018064038
        ],
        [
         "dbfs:/databricks-datasets/iot-stream/",
         "iot-stream/",
         0,
         1696018064038
        ],
        [
         "dbfs:/databricks-datasets/learning-spark/",
         "learning-spark/",
         0,
         1696018064039
        ],
        [
         "dbfs:/databricks-datasets/learning-spark-v2/",
         "learning-spark-v2/",
         0,
         1696018064039
        ],
        [
         "dbfs:/databricks-datasets/lending-club-loan-stats/",
         "lending-club-loan-stats/",
         0,
         1696018064039
        ],
        [
         "dbfs:/databricks-datasets/med-images/",
         "med-images/",
         0,
         1696018064039
        ],
        [
         "dbfs:/databricks-datasets/media/",
         "media/",
         0,
         1696018064039
        ],
        [
         "dbfs:/databricks-datasets/mnist-digits/",
         "mnist-digits/",
         0,
         1696018064039
        ],
        [
         "dbfs:/databricks-datasets/news20.binary/",
         "news20.binary/",
         0,
         1696018064039
        ],
        [
         "dbfs:/databricks-datasets/nyctaxi/",
         "nyctaxi/",
         0,
         1696018064039
        ],
        [
         "dbfs:/databricks-datasets/nyctaxi-with-zipcodes/",
         "nyctaxi-with-zipcodes/",
         0,
         1696018064039
        ],
        [
         "dbfs:/databricks-datasets/online_retail/",
         "online_retail/",
         0,
         1696018064039
        ],
        [
         "dbfs:/databricks-datasets/overlap-join/",
         "overlap-join/",
         0,
         1696018064039
        ],
        [
         "dbfs:/databricks-datasets/power-plant/",
         "power-plant/",
         0,
         1696018064039
        ],
        [
         "dbfs:/databricks-datasets/retail-org/",
         "retail-org/",
         0,
         1696018064039
        ],
        [
         "dbfs:/databricks-datasets/rwe/",
         "rwe/",
         0,
         1696018064039
        ],
        [
         "dbfs:/databricks-datasets/sai-summit-2019-sf/",
         "sai-summit-2019-sf/",
         0,
         1696018064039
        ],
        [
         "dbfs:/databricks-datasets/sample_logs/",
         "sample_logs/",
         0,
         1696018064039
        ],
        [
         "dbfs:/databricks-datasets/samples/",
         "samples/",
         0,
         1696018064039
        ],
        [
         "dbfs:/databricks-datasets/sfo_customer_survey/",
         "sfo_customer_survey/",
         0,
         1696018064039
        ],
        [
         "dbfs:/databricks-datasets/sms_spam_collection/",
         "sms_spam_collection/",
         0,
         1696018064039
        ],
        [
         "dbfs:/databricks-datasets/songs/",
         "songs/",
         0,
         1696018064039
        ],
        [
         "dbfs:/databricks-datasets/structured-streaming/",
         "structured-streaming/",
         0,
         1696018064039
        ],
        [
         "dbfs:/databricks-datasets/timeseries/",
         "timeseries/",
         0,
         1696018064039
        ],
        [
         "dbfs:/databricks-datasets/tpch/",
         "tpch/",
         0,
         1696018064039
        ],
        [
         "dbfs:/databricks-datasets/travel_recommendations_realtime/",
         "travel_recommendations_realtime/",
         0,
         1696018064039
        ],
        [
         "dbfs:/databricks-datasets/warmup/",
         "warmup/",
         0,
         1696018064039
        ],
        [
         "dbfs:/databricks-datasets/weather/",
         "weather/",
         0,
         1696018064039
        ],
        [
         "dbfs:/databricks-datasets/wiki/",
         "wiki/",
         0,
         1696018064039
        ],
        [
         "dbfs:/databricks-datasets/wikipedia-datasets/",
         "wikipedia-datasets/",
         0,
         1696018064039
        ],
        [
         "dbfs:/databricks-datasets/wine-quality/",
         "wine-quality/",
         0,
         1696018064039
        ]
       ],
       "datasetInfos": [],
       "dbfsResultPath": null,
       "isJsonSchema": true,
       "metadata": {
        "isDbfsCommandResult": false
       },
       "overflow": false,
       "plotOptions": {
        "customPlotOptions": {},
        "displayType": "table",
        "pivotAggregation": null,
        "pivotColumns": null,
        "xColumns": null,
        "yColumns": null
       },
       "removedWidgets": [],
       "schema": [
        {
         "metadata": "{}",
         "name": "path",
         "type": "\"string\""
        },
        {
         "metadata": "{}",
         "name": "name",
         "type": "\"string\""
        },
        {
         "metadata": "{}",
         "name": "size",
         "type": "\"long\""
        },
        {
         "metadata": "{}",
         "name": "modificationTime",
         "type": "\"long\""
        }
       ],
       "type": "table"
      }
     },
     "output_type": "display_data"
    }
   ],
   "source": [
    "%fs ls dbfs:/databricks-datasets"
   ]
  },
  {
   "cell_type": "code",
   "execution_count": 0,
   "metadata": {
    "application/vnd.databricks.v1+cell": {
     "cellMetadata": {
      "byteLimit": 2048000,
      "rowLimit": 10000
     },
     "inputWidgets": {},
     "nuid": "edcf23f4-cff3-4363-a229-b718249727d9",
     "showTitle": false,
     "title": ""
    }
   },
   "outputs": [
    {
     "output_type": "display_data",
     "data": {
      "text/html": [
       "<style scoped>\n",
       "  .table-result-container {\n",
       "    max-height: 300px;\n",
       "    overflow: auto;\n",
       "  }\n",
       "  table, th, td {\n",
       "    border: 1px solid black;\n",
       "    border-collapse: collapse;\n",
       "  }\n",
       "  th, td {\n",
       "    padding: 5px;\n",
       "  }\n",
       "  th {\n",
       "    text-align: left;\n",
       "  }\n",
       "</style><div class='table-result-container'><table class='table-result'><thead style='background-color: white'><tr><th>path</th><th>name</th><th>size</th><th>modificationTime</th></tr></thead><tbody><tr><td>dbfs:/databricks-datasets/online_retail/data-001/data.csv</td><td>data.csv</td><td>5357240</td><td>1466107812000</td></tr></tbody></table></div>"
      ]
     },
     "metadata": {
      "application/vnd.databricks.v1+output": {
       "addedWidgets": {},
       "aggData": [],
       "aggError": "",
       "aggOverflow": false,
       "aggSchema": [],
       "aggSeriesLimitReached": false,
       "aggType": "",
       "arguments": {},
       "columnCustomDisplayInfos": {},
       "data": [
        [
         "dbfs:/databricks-datasets/online_retail/data-001/data.csv",
         "data.csv",
         5357240,
         1466107812000
        ]
       ],
       "datasetInfos": [],
       "dbfsResultPath": null,
       "isJsonSchema": true,
       "metadata": {
        "isDbfsCommandResult": false
       },
       "overflow": false,
       "plotOptions": {
        "customPlotOptions": {},
        "displayType": "table",
        "pivotAggregation": null,
        "pivotColumns": null,
        "xColumns": null,
        "yColumns": null
       },
       "removedWidgets": [],
       "schema": [
        {
         "metadata": "{}",
         "name": "path",
         "type": "\"string\""
        },
        {
         "metadata": "{}",
         "name": "name",
         "type": "\"string\""
        },
        {
         "metadata": "{}",
         "name": "size",
         "type": "\"long\""
        },
        {
         "metadata": "{}",
         "name": "modificationTime",
         "type": "\"long\""
        }
       ],
       "type": "table"
      }
     },
     "output_type": "display_data"
    }
   ],
   "source": [
    "%fs ls dbfs:/databricks-datasets/online_retail/data-001/"
   ]
  },
  {
   "cell_type": "code",
   "execution_count": 0,
   "metadata": {
    "application/vnd.databricks.v1+cell": {
     "cellMetadata": {
      "byteLimit": 2048000,
      "rowLimit": 10000
     },
     "inputWidgets": {},
     "nuid": "fe821bb8-fded-45ee-b114-b4c90574c824",
     "showTitle": false,
     "title": ""
    }
   },
   "outputs": [],
   "source": [
    "df = spark.read.csv('dbfs:/databricks-datasets/online_retail/data-001/', header=True, inferSchema=True)"
   ]
  },
  {
   "cell_type": "code",
   "execution_count": 0,
   "metadata": {
    "application/vnd.databricks.v1+cell": {
     "cellMetadata": {
      "byteLimit": 2048000,
      "rowLimit": 10000
     },
     "inputWidgets": {},
     "nuid": "f0ecca6b-e155-42a2-a2a5-32e810c159f8",
     "showTitle": false,
     "title": ""
    }
   },
   "outputs": [
    {
     "output_type": "display_data",
     "data": {
      "text/html": [
       "<style scoped>\n",
       "  .table-result-container {\n",
       "    max-height: 300px;\n",
       "    overflow: auto;\n",
       "  }\n",
       "  table, th, td {\n",
       "    border: 1px solid black;\n",
       "    border-collapse: collapse;\n",
       "  }\n",
       "  th, td {\n",
       "    padding: 5px;\n",
       "  }\n",
       "  th {\n",
       "    text-align: left;\n",
       "  }\n",
       "</style><div class='table-result-container'><table class='table-result'><thead style='background-color: white'><tr><th>InvoiceNo</th><th>StockCode</th><th>Description</th><th>Quantity</th><th>InvoiceDate</th><th>UnitPrice</th><th>CustomerID</th><th>Country</th></tr></thead><tbody><tr><td>536365</td><td>85123A</td><td>WHITE HANGING HEART T-LIGHT HOLDER</td><td>6</td><td>12/1/10 8:26</td><td>2.55</td><td>17850</td><td>United Kingdom</td></tr><tr><td>536365</td><td>71053</td><td>WHITE METAL LANTERN</td><td>6</td><td>12/1/10 8:26</td><td>3.39</td><td>17850</td><td>United Kingdom</td></tr><tr><td>536365</td><td>84406B</td><td>CREAM CUPID HEARTS COAT HANGER</td><td>8</td><td>12/1/10 8:26</td><td>2.75</td><td>17850</td><td>United Kingdom</td></tr><tr><td>536365</td><td>84029G</td><td>KNITTED UNION FLAG HOT WATER BOTTLE</td><td>6</td><td>12/1/10 8:26</td><td>3.39</td><td>17850</td><td>United Kingdom</td></tr><tr><td>536365</td><td>84029E</td><td>RED WOOLLY HOTTIE WHITE HEART.</td><td>6</td><td>12/1/10 8:26</td><td>3.39</td><td>17850</td><td>United Kingdom</td></tr><tr><td>536365</td><td>22752</td><td>SET 7 BABUSHKA NESTING BOXES</td><td>2</td><td>12/1/10 8:26</td><td>7.65</td><td>17850</td><td>United Kingdom</td></tr><tr><td>536365</td><td>21730</td><td>GLASS STAR FROSTED T-LIGHT HOLDER</td><td>6</td><td>12/1/10 8:26</td><td>4.25</td><td>17850</td><td>United Kingdom</td></tr><tr><td>536366</td><td>22633</td><td>HAND WARMER UNION JACK</td><td>6</td><td>12/1/10 8:28</td><td>1.85</td><td>17850</td><td>United Kingdom</td></tr><tr><td>536366</td><td>22632</td><td>HAND WARMER RED POLKA DOT</td><td>6</td><td>12/1/10 8:28</td><td>1.85</td><td>17850</td><td>United Kingdom</td></tr><tr><td>536367</td><td>84879</td><td>ASSORTED COLOUR BIRD ORNAMENT</td><td>32</td><td>12/1/10 8:34</td><td>1.69</td><td>13047</td><td>United Kingdom</td></tr></tbody></table></div>"
      ]
     },
     "metadata": {
      "application/vnd.databricks.v1+output": {
       "addedWidgets": {},
       "aggData": [],
       "aggError": "",
       "aggOverflow": false,
       "aggSchema": [],
       "aggSeriesLimitReached": false,
       "aggType": "",
       "arguments": {},
       "columnCustomDisplayInfos": {},
       "data": [
        [
         "536365",
         "85123A",
         "WHITE HANGING HEART T-LIGHT HOLDER",
         6,
         "12/1/10 8:26",
         2.55,
         17850,
         "United Kingdom"
        ],
        [
         "536365",
         "71053",
         "WHITE METAL LANTERN",
         6,
         "12/1/10 8:26",
         3.39,
         17850,
         "United Kingdom"
        ],
        [
         "536365",
         "84406B",
         "CREAM CUPID HEARTS COAT HANGER",
         8,
         "12/1/10 8:26",
         2.75,
         17850,
         "United Kingdom"
        ],
        [
         "536365",
         "84029G",
         "KNITTED UNION FLAG HOT WATER BOTTLE",
         6,
         "12/1/10 8:26",
         3.39,
         17850,
         "United Kingdom"
        ],
        [
         "536365",
         "84029E",
         "RED WOOLLY HOTTIE WHITE HEART.",
         6,
         "12/1/10 8:26",
         3.39,
         17850,
         "United Kingdom"
        ],
        [
         "536365",
         "22752",
         "SET 7 BABUSHKA NESTING BOXES",
         2,
         "12/1/10 8:26",
         7.65,
         17850,
         "United Kingdom"
        ],
        [
         "536365",
         "21730",
         "GLASS STAR FROSTED T-LIGHT HOLDER",
         6,
         "12/1/10 8:26",
         4.25,
         17850,
         "United Kingdom"
        ],
        [
         "536366",
         "22633",
         "HAND WARMER UNION JACK",
         6,
         "12/1/10 8:28",
         1.85,
         17850,
         "United Kingdom"
        ],
        [
         "536366",
         "22632",
         "HAND WARMER RED POLKA DOT",
         6,
         "12/1/10 8:28",
         1.85,
         17850,
         "United Kingdom"
        ],
        [
         "536367",
         "84879",
         "ASSORTED COLOUR BIRD ORNAMENT",
         32,
         "12/1/10 8:34",
         1.69,
         13047,
         "United Kingdom"
        ]
       ],
       "datasetInfos": [],
       "dbfsResultPath": null,
       "isJsonSchema": true,
       "metadata": {},
       "overflow": false,
       "plotOptions": {
        "customPlotOptions": {},
        "displayType": "table",
        "pivotAggregation": null,
        "pivotColumns": null,
        "xColumns": null,
        "yColumns": null
       },
       "removedWidgets": [],
       "schema": [
        {
         "metadata": "{}",
         "name": "InvoiceNo",
         "type": "\"string\""
        },
        {
         "metadata": "{}",
         "name": "StockCode",
         "type": "\"string\""
        },
        {
         "metadata": "{}",
         "name": "Description",
         "type": "\"string\""
        },
        {
         "metadata": "{}",
         "name": "Quantity",
         "type": "\"integer\""
        },
        {
         "metadata": "{}",
         "name": "InvoiceDate",
         "type": "\"string\""
        },
        {
         "metadata": "{}",
         "name": "UnitPrice",
         "type": "\"double\""
        },
        {
         "metadata": "{}",
         "name": "CustomerID",
         "type": "\"integer\""
        },
        {
         "metadata": "{}",
         "name": "Country",
         "type": "\"string\""
        }
       ],
       "type": "table"
      }
     },
     "output_type": "display_data"
    }
   ],
   "source": [
    "display(df.limit(10))"
   ]
  },
  {
   "cell_type": "code",
   "execution_count": 0,
   "metadata": {
    "application/vnd.databricks.v1+cell": {
     "cellMetadata": {
      "byteLimit": 2048000,
      "rowLimit": 10000
     },
     "inputWidgets": {},
     "nuid": "6ac612ab-8264-48f4-82be-8518fb44df2b",
     "showTitle": false,
     "title": ""
    }
   },
   "outputs": [
    {
     "output_type": "execute_result",
     "data": {
      "text/plain": [
       "65499"
      ]
     },
     "execution_count": 72,
     "metadata": {},
     "output_type": "execute_result"
    }
   ],
   "source": [
    "df.count()"
   ]
  },
  {
   "cell_type": "code",
   "execution_count": 0,
   "metadata": {
    "application/vnd.databricks.v1+cell": {
     "cellMetadata": {
      "byteLimit": 2048000,
      "rowLimit": 10000
     },
     "inputWidgets": {},
     "nuid": "ad2349e7-072b-4fdb-baae-4ac796548e5b",
     "showTitle": false,
     "title": ""
    }
   },
   "outputs": [
    {
     "output_type": "display_data",
     "data": {
      "text/html": [
       "<style scoped>\n",
       "  .table-result-container {\n",
       "    max-height: 300px;\n",
       "    overflow: auto;\n",
       "  }\n",
       "  table, th, td {\n",
       "    border: 1px solid black;\n",
       "    border-collapse: collapse;\n",
       "  }\n",
       "  th, td {\n",
       "    padding: 5px;\n",
       "  }\n",
       "  th {\n",
       "    text-align: left;\n",
       "  }\n",
       "</style><div class='table-result-container'><table class='table-result'><thead style='background-color: white'><tr><th>InvoiceNo</th><th>StockCode</th><th>Description</th><th>Quantity</th><th>InvoiceDate</th><th>UnitPrice</th><th>CustomerID</th><th>Country</th></tr></thead><tbody><tr><td>536414</td><td>22139</td><td>null</td><td>56</td><td>12/1/10 11:52</td><td>0.0</td><td>null</td><td>United Kingdom</td></tr><tr><td>536544</td><td>21773</td><td>DECORATIVE ROSE BATHROOM BOTTLE</td><td>1</td><td>12/1/10 14:32</td><td>2.51</td><td>null</td><td>United Kingdom</td></tr><tr><td>536544</td><td>21774</td><td>DECORATIVE CATS BATHROOM BOTTLE</td><td>2</td><td>12/1/10 14:32</td><td>2.51</td><td>null</td><td>United Kingdom</td></tr><tr><td>536544</td><td>21786</td><td>POLKADOT RAIN HAT </td><td>4</td><td>12/1/10 14:32</td><td>0.85</td><td>null</td><td>United Kingdom</td></tr><tr><td>536544</td><td>21787</td><td>RAIN PONCHO RETROSPOT</td><td>2</td><td>12/1/10 14:32</td><td>1.66</td><td>null</td><td>United Kingdom</td></tr><tr><td>536544</td><td>21790</td><td>VINTAGE SNAP CARDS</td><td>9</td><td>12/1/10 14:32</td><td>1.66</td><td>null</td><td>United Kingdom</td></tr><tr><td>536544</td><td>21791</td><td>VINTAGE HEADS AND TAILS CARD GAME </td><td>2</td><td>12/1/10 14:32</td><td>2.51</td><td>null</td><td>United Kingdom</td></tr><tr><td>536544</td><td>21801</td><td>CHRISTMAS TREE DECORATION WITH BELL</td><td>10</td><td>12/1/10 14:32</td><td>0.43</td><td>null</td><td>United Kingdom</td></tr><tr><td>536544</td><td>21802</td><td>CHRISTMAS TREE HEART DECORATION</td><td>9</td><td>12/1/10 14:32</td><td>0.43</td><td>null</td><td>United Kingdom</td></tr><tr><td>536544</td><td>21803</td><td>CHRISTMAS TREE STAR DECORATION</td><td>11</td><td>12/1/10 14:32</td><td>0.43</td><td>null</td><td>United Kingdom</td></tr></tbody></table></div>"
      ]
     },
     "metadata": {
      "application/vnd.databricks.v1+output": {
       "addedWidgets": {},
       "aggData": [],
       "aggError": "",
       "aggOverflow": false,
       "aggSchema": [],
       "aggSeriesLimitReached": false,
       "aggType": "",
       "arguments": {},
       "columnCustomDisplayInfos": {},
       "data": [
        [
         "536414",
         "22139",
         null,
         56,
         "12/1/10 11:52",
         0.0,
         null,
         "United Kingdom"
        ],
        [
         "536544",
         "21773",
         "DECORATIVE ROSE BATHROOM BOTTLE",
         1,
         "12/1/10 14:32",
         2.51,
         null,
         "United Kingdom"
        ],
        [
         "536544",
         "21774",
         "DECORATIVE CATS BATHROOM BOTTLE",
         2,
         "12/1/10 14:32",
         2.51,
         null,
         "United Kingdom"
        ],
        [
         "536544",
         "21786",
         "POLKADOT RAIN HAT ",
         4,
         "12/1/10 14:32",
         0.85,
         null,
         "United Kingdom"
        ],
        [
         "536544",
         "21787",
         "RAIN PONCHO RETROSPOT",
         2,
         "12/1/10 14:32",
         1.66,
         null,
         "United Kingdom"
        ],
        [
         "536544",
         "21790",
         "VINTAGE SNAP CARDS",
         9,
         "12/1/10 14:32",
         1.66,
         null,
         "United Kingdom"
        ],
        [
         "536544",
         "21791",
         "VINTAGE HEADS AND TAILS CARD GAME ",
         2,
         "12/1/10 14:32",
         2.51,
         null,
         "United Kingdom"
        ],
        [
         "536544",
         "21801",
         "CHRISTMAS TREE DECORATION WITH BELL",
         10,
         "12/1/10 14:32",
         0.43,
         null,
         "United Kingdom"
        ],
        [
         "536544",
         "21802",
         "CHRISTMAS TREE HEART DECORATION",
         9,
         "12/1/10 14:32",
         0.43,
         null,
         "United Kingdom"
        ],
        [
         "536544",
         "21803",
         "CHRISTMAS TREE STAR DECORATION",
         11,
         "12/1/10 14:32",
         0.43,
         null,
         "United Kingdom"
        ]
       ],
       "datasetInfos": [],
       "dbfsResultPath": null,
       "isJsonSchema": true,
       "metadata": {},
       "overflow": false,
       "plotOptions": {
        "customPlotOptions": {},
        "displayType": "table",
        "pivotAggregation": null,
        "pivotColumns": null,
        "xColumns": null,
        "yColumns": null
       },
       "removedWidgets": [],
       "schema": [
        {
         "metadata": "{}",
         "name": "InvoiceNo",
         "type": "\"string\""
        },
        {
         "metadata": "{}",
         "name": "StockCode",
         "type": "\"string\""
        },
        {
         "metadata": "{}",
         "name": "Description",
         "type": "\"string\""
        },
        {
         "metadata": "{}",
         "name": "Quantity",
         "type": "\"integer\""
        },
        {
         "metadata": "{}",
         "name": "InvoiceDate",
         "type": "\"string\""
        },
        {
         "metadata": "{}",
         "name": "UnitPrice",
         "type": "\"double\""
        },
        {
         "metadata": "{}",
         "name": "CustomerID",
         "type": "\"integer\""
        },
        {
         "metadata": "{}",
         "name": "Country",
         "type": "\"string\""
        }
       ],
       "type": "table"
      }
     },
     "output_type": "display_data"
    }
   ],
   "source": [
    "display(df.filter(\"customerid is null\").limit(10))"
   ]
  },
  {
   "cell_type": "code",
   "execution_count": 0,
   "metadata": {
    "application/vnd.databricks.v1+cell": {
     "cellMetadata": {
      "byteLimit": 2048000,
      "rowLimit": 10000
     },
     "inputWidgets": {},
     "nuid": "28235859-9a90-4610-8d5a-93356341cd32",
     "showTitle": false,
     "title": ""
    }
   },
   "outputs": [
    {
     "output_type": "display_data",
     "data": {
      "text/html": [
       "<style scoped>\n",
       "  .table-result-container {\n",
       "    max-height: 300px;\n",
       "    overflow: auto;\n",
       "  }\n",
       "  table, th, td {\n",
       "    border: 1px solid black;\n",
       "    border-collapse: collapse;\n",
       "  }\n",
       "  th, td {\n",
       "    padding: 5px;\n",
       "  }\n",
       "  th {\n",
       "    text-align: left;\n",
       "  }\n",
       "</style><div class='table-result-container'><table class='table-result'><thead style='background-color: white'><tr><th>InvoiceNo</th><th>StockCode</th><th>Description</th><th>Quantity</th><th>InvoiceDate</th><th>UnitPrice</th><th>CustomerID</th><th>Country</th></tr></thead><tbody><tr><td>536365</td><td>71053</td><td>WHITE METAL LANTERN</td><td>6</td><td>12/1/10 8:26</td><td>3.39</td><td>17850</td><td>United Kingdom</td></tr><tr><td>536373</td><td>71053</td><td>WHITE METAL LANTERN</td><td>6</td><td>12/1/10 9:02</td><td>3.39</td><td>17850</td><td>United Kingdom</td></tr><tr><td>536375</td><td>71053</td><td>WHITE METAL LANTERN</td><td>6</td><td>12/1/10 9:32</td><td>3.39</td><td>17850</td><td>United Kingdom</td></tr><tr><td>536396</td><td>71053</td><td>WHITE METAL LANTERN</td><td>6</td><td>12/1/10 10:51</td><td>3.39</td><td>17850</td><td>United Kingdom</td></tr><tr><td>536406</td><td>71053</td><td>WHITE METAL LANTERN</td><td>8</td><td>12/1/10 11:33</td><td>3.39</td><td>17850</td><td>United Kingdom</td></tr><tr><td>536544</td><td>71053</td><td>WHITE METAL LANTERN</td><td>1</td><td>12/1/10 14:32</td><td>8.47</td><td>null</td><td>United Kingdom</td></tr><tr><td>536600</td><td>71053</td><td>WHITE METAL LANTERN</td><td>6</td><td>12/2/10 8:32</td><td>3.39</td><td>17850</td><td>United Kingdom</td></tr><tr><td>536602</td><td>71053</td><td>WHITE METAL LANTERN</td><td>6</td><td>12/2/10 8:34</td><td>3.39</td><td>17850</td><td>United Kingdom</td></tr><tr><td>536609</td><td>71053</td><td>WHITE METAL LANTERN</td><td>6</td><td>12/2/10 9:41</td><td>3.39</td><td>17850</td><td>United Kingdom</td></tr><tr><td>536612</td><td>71053</td><td>WHITE METAL LANTERN</td><td>6</td><td>12/2/10 9:44</td><td>3.39</td><td>17850</td><td>United Kingdom</td></tr></tbody></table></div>"
      ]
     },
     "metadata": {
      "application/vnd.databricks.v1+output": {
       "addedWidgets": {},
       "aggData": [],
       "aggError": "",
       "aggOverflow": false,
       "aggSchema": [],
       "aggSeriesLimitReached": false,
       "aggType": "",
       "arguments": {},
       "columnCustomDisplayInfos": {},
       "data": [
        [
         "536365",
         "71053",
         "WHITE METAL LANTERN",
         6,
         "12/1/10 8:26",
         3.39,
         17850,
         "United Kingdom"
        ],
        [
         "536373",
         "71053",
         "WHITE METAL LANTERN",
         6,
         "12/1/10 9:02",
         3.39,
         17850,
         "United Kingdom"
        ],
        [
         "536375",
         "71053",
         "WHITE METAL LANTERN",
         6,
         "12/1/10 9:32",
         3.39,
         17850,
         "United Kingdom"
        ],
        [
         "536396",
         "71053",
         "WHITE METAL LANTERN",
         6,
         "12/1/10 10:51",
         3.39,
         17850,
         "United Kingdom"
        ],
        [
         "536406",
         "71053",
         "WHITE METAL LANTERN",
         8,
         "12/1/10 11:33",
         3.39,
         17850,
         "United Kingdom"
        ],
        [
         "536544",
         "71053",
         "WHITE METAL LANTERN",
         1,
         "12/1/10 14:32",
         8.47,
         null,
         "United Kingdom"
        ],
        [
         "536600",
         "71053",
         "WHITE METAL LANTERN",
         6,
         "12/2/10 8:32",
         3.39,
         17850,
         "United Kingdom"
        ],
        [
         "536602",
         "71053",
         "WHITE METAL LANTERN",
         6,
         "12/2/10 8:34",
         3.39,
         17850,
         "United Kingdom"
        ],
        [
         "536609",
         "71053",
         "WHITE METAL LANTERN",
         6,
         "12/2/10 9:41",
         3.39,
         17850,
         "United Kingdom"
        ],
        [
         "536612",
         "71053",
         "WHITE METAL LANTERN",
         6,
         "12/2/10 9:44",
         3.39,
         17850,
         "United Kingdom"
        ]
       ],
       "datasetInfos": [],
       "dbfsResultPath": null,
       "isJsonSchema": true,
       "metadata": {},
       "overflow": false,
       "plotOptions": {
        "customPlotOptions": {},
        "displayType": "table",
        "pivotAggregation": null,
        "pivotColumns": null,
        "xColumns": null,
        "yColumns": null
       },
       "removedWidgets": [],
       "schema": [
        {
         "metadata": "{}",
         "name": "InvoiceNo",
         "type": "\"string\""
        },
        {
         "metadata": "{}",
         "name": "StockCode",
         "type": "\"string\""
        },
        {
         "metadata": "{}",
         "name": "Description",
         "type": "\"string\""
        },
        {
         "metadata": "{}",
         "name": "Quantity",
         "type": "\"integer\""
        },
        {
         "metadata": "{}",
         "name": "InvoiceDate",
         "type": "\"string\""
        },
        {
         "metadata": "{}",
         "name": "UnitPrice",
         "type": "\"double\""
        },
        {
         "metadata": "{}",
         "name": "CustomerID",
         "type": "\"integer\""
        },
        {
         "metadata": "{}",
         "name": "Country",
         "type": "\"string\""
        }
       ],
       "type": "table"
      }
     },
     "output_type": "display_data"
    }
   ],
   "source": [
    "display(df.filter(\"stockcode = 71053\").limit(10))"
   ]
  },
  {
   "cell_type": "code",
   "execution_count": 0,
   "metadata": {
    "application/vnd.databricks.v1+cell": {
     "cellMetadata": {
      "byteLimit": 2048000,
      "rowLimit": 10000
     },
     "inputWidgets": {},
     "nuid": "151d5f26-5db2-489b-b9a7-57d0ce464234",
     "showTitle": false,
     "title": ""
    }
   },
   "outputs": [
    {
     "output_type": "display_data",
     "data": {
      "text/html": [
       "<style scoped>\n",
       "  .table-result-container {\n",
       "    max-height: 300px;\n",
       "    overflow: auto;\n",
       "  }\n",
       "  table, th, td {\n",
       "    border: 1px solid black;\n",
       "    border-collapse: collapse;\n",
       "  }\n",
       "  th, td {\n",
       "    padding: 5px;\n",
       "  }\n",
       "  th {\n",
       "    text-align: left;\n",
       "  }\n",
       "</style><div class='table-result-container'><table class='table-result'><thead style='background-color: white'><tr><th>InvoiceNo</th><th>StockCode</th><th>Description</th><th>Quantity</th><th>InvoiceDate</th><th>UnitPrice</th><th>CustomerID</th><th>Country</th></tr></thead><tbody><tr><td>536865</td><td>71053</td><td>WHITE METAL LANTERN</td><td>1</td><td>12/3/10 11:28</td><td>8.47</td><td>null</td><td>United Kingdom</td></tr><tr><td>536544</td><td>71053</td><td>WHITE METAL LANTERN</td><td>1</td><td>12/1/10 14:32</td><td>8.47</td><td>null</td><td>United Kingdom</td></tr><tr><td>537237</td><td>71053</td><td>WHITE METAL LANTERN</td><td>1</td><td>12/6/10 9:58</td><td>8.47</td><td>null</td><td>United Kingdom</td></tr><tr><td>537240</td><td>71053</td><td>WHITE METAL LANTERN</td><td>1</td><td>12/6/10 10:08</td><td>8.47</td><td>null</td><td>United Kingdom</td></tr><tr><td>537434</td><td>71053</td><td>WHITE METAL LANTERN</td><td>2</td><td>12/6/10 16:57</td><td>8.47</td><td>null</td><td>United Kingdom</td></tr><tr><td>537642</td><td>71053</td><td>WHITE METAL LANTERN</td><td>1</td><td>12/7/10 15:33</td><td>8.47</td><td>null</td><td>United Kingdom</td></tr><tr><td>539737</td><td>71053</td><td>WHITE METAL LANTERN</td><td>1</td><td>12/21/10 15:19</td><td>8.47</td><td>null</td><td>United Kingdom</td></tr><tr><td>539437</td><td>71053</td><td>WHITE METAL LANTERN</td><td>1</td><td>12/17/10 14:54</td><td>8.47</td><td>null</td><td>United Kingdom</td></tr><tr><td>539453</td><td>71053</td><td>WHITE METAL LANTERN</td><td>1</td><td>12/17/10 17:08</td><td>8.47</td><td>null</td><td>United Kingdom</td></tr><tr><td>539736</td><td>71053</td><td>WHITE METAL LANTERN</td><td>1</td><td>12/21/10 15:18</td><td>8.47</td><td>null</td><td>United Kingdom</td></tr></tbody></table></div>"
      ]
     },
     "metadata": {
      "application/vnd.databricks.v1+output": {
       "addedWidgets": {},
       "aggData": [],
       "aggError": "",
       "aggOverflow": false,
       "aggSchema": [],
       "aggSeriesLimitReached": false,
       "aggType": "",
       "arguments": {},
       "columnCustomDisplayInfos": {},
       "data": [
        [
         "536865",
         "71053",
         "WHITE METAL LANTERN",
         1,
         "12/3/10 11:28",
         8.47,
         null,
         "United Kingdom"
        ],
        [
         "536544",
         "71053",
         "WHITE METAL LANTERN",
         1,
         "12/1/10 14:32",
         8.47,
         null,
         "United Kingdom"
        ],
        [
         "537237",
         "71053",
         "WHITE METAL LANTERN",
         1,
         "12/6/10 9:58",
         8.47,
         null,
         "United Kingdom"
        ],
        [
         "537240",
         "71053",
         "WHITE METAL LANTERN",
         1,
         "12/6/10 10:08",
         8.47,
         null,
         "United Kingdom"
        ],
        [
         "537434",
         "71053",
         "WHITE METAL LANTERN",
         2,
         "12/6/10 16:57",
         8.47,
         null,
         "United Kingdom"
        ],
        [
         "537642",
         "71053",
         "WHITE METAL LANTERN",
         1,
         "12/7/10 15:33",
         8.47,
         null,
         "United Kingdom"
        ],
        [
         "539737",
         "71053",
         "WHITE METAL LANTERN",
         1,
         "12/21/10 15:19",
         8.47,
         null,
         "United Kingdom"
        ],
        [
         "539437",
         "71053",
         "WHITE METAL LANTERN",
         1,
         "12/17/10 14:54",
         8.47,
         null,
         "United Kingdom"
        ],
        [
         "539453",
         "71053",
         "WHITE METAL LANTERN",
         1,
         "12/17/10 17:08",
         8.47,
         null,
         "United Kingdom"
        ],
        [
         "539736",
         "71053",
         "WHITE METAL LANTERN",
         1,
         "12/21/10 15:18",
         8.47,
         null,
         "United Kingdom"
        ]
       ],
       "datasetInfos": [],
       "dbfsResultPath": null,
       "isJsonSchema": true,
       "metadata": {},
       "overflow": false,
       "plotOptions": {
        "customPlotOptions": {},
        "displayType": "table",
        "pivotAggregation": null,
        "pivotColumns": null,
        "xColumns": null,
        "yColumns": null
       },
       "removedWidgets": [],
       "schema": [
        {
         "metadata": "{}",
         "name": "InvoiceNo",
         "type": "\"string\""
        },
        {
         "metadata": "{}",
         "name": "StockCode",
         "type": "\"string\""
        },
        {
         "metadata": "{}",
         "name": "Description",
         "type": "\"string\""
        },
        {
         "metadata": "{}",
         "name": "Quantity",
         "type": "\"integer\""
        },
        {
         "metadata": "{}",
         "name": "InvoiceDate",
         "type": "\"string\""
        },
        {
         "metadata": "{}",
         "name": "UnitPrice",
         "type": "\"double\""
        },
        {
         "metadata": "{}",
         "name": "CustomerID",
         "type": "\"integer\""
        },
        {
         "metadata": "{}",
         "name": "Country",
         "type": "\"string\""
        }
       ],
       "type": "table"
      }
     },
     "output_type": "display_data"
    }
   ],
   "source": [
    "display(df.filter(\"stockcode = 71053\"). \\\n",
    "    orderBy('customerid'). \\\n",
    "    limit(10)\n",
    ")"
   ]
  },
  {
   "cell_type": "code",
   "execution_count": 0,
   "metadata": {
    "application/vnd.databricks.v1+cell": {
     "cellMetadata": {
      "byteLimit": 2048000,
      "rowLimit": 10000
     },
     "inputWidgets": {},
     "nuid": "67399126-2b86-4362-b9fe-20d1458abbef",
     "showTitle": false,
     "title": ""
    }
   },
   "outputs": [],
   "source": [
    "from pyspark.sql.functions import asc_nulls_last"
   ]
  },
  {
   "cell_type": "code",
   "execution_count": 0,
   "metadata": {
    "application/vnd.databricks.v1+cell": {
     "cellMetadata": {
      "byteLimit": 2048000,
      "rowLimit": 10000
     },
     "inputWidgets": {},
     "nuid": "14ee2b80-a44e-4092-984b-f646a2e50f43",
     "showTitle": false,
     "title": ""
    }
   },
   "outputs": [
    {
     "output_type": "display_data",
     "data": {
      "text/html": [
       "<style scoped>\n",
       "  .table-result-container {\n",
       "    max-height: 300px;\n",
       "    overflow: auto;\n",
       "  }\n",
       "  table, th, td {\n",
       "    border: 1px solid black;\n",
       "    border-collapse: collapse;\n",
       "  }\n",
       "  th, td {\n",
       "    padding: 5px;\n",
       "  }\n",
       "  th {\n",
       "    text-align: left;\n",
       "  }\n",
       "</style><div class='table-result-container'><table class='table-result'><thead style='background-color: white'><tr><th>InvoiceNo</th><th>StockCode</th><th>Description</th><th>Quantity</th><th>InvoiceDate</th><th>UnitPrice</th><th>CustomerID</th><th>Country</th></tr></thead><tbody><tr><td>537759</td><td>71053</td><td>WHITE METAL LANTERN</td><td>4</td><td>12/8/10 11:42</td><td>3.75</td><td>13126</td><td>United Kingdom</td></tr><tr><td>537387</td><td>71053</td><td>WHITE METAL LANTERN</td><td>4</td><td>12/6/10 13:34</td><td>3.75</td><td>13468</td><td>United Kingdom</td></tr><tr><td>537649</td><td>71053</td><td>WHITE METAL LANTERN</td><td>4</td><td>12/7/10 15:48</td><td>3.75</td><td>13807</td><td>United Kingdom</td></tr><tr><td>540464</td><td>71053</td><td>WHITE METAL LANTERN</td><td>8</td><td>1/7/11 13:17</td><td>3.39</td><td>14298</td><td>United Kingdom</td></tr><tr><td>538012</td><td>71053</td><td>WHITE METAL LANTERN</td><td>3</td><td>12/9/10 12:32</td><td>3.75</td><td>14527</td><td>United Kingdom</td></tr><tr><td>539002</td><td>71053</td><td>WHITE METAL LANTERN</td><td>1</td><td>12/15/10 12:30</td><td>3.75</td><td>14527</td><td>United Kingdom</td></tr><tr><td>539326</td><td>71053</td><td>WHITE METAL LANTERN</td><td>4</td><td>12/17/10 9:22</td><td>3.75</td><td>14560</td><td>United Kingdom</td></tr><tr><td>540955</td><td>71053</td><td>WHITE METAL LANTERN</td><td>2</td><td>1/12/11 13:27</td><td>3.75</td><td>14715</td><td>United Kingdom</td></tr><tr><td>540493</td><td>71053</td><td>WHITE METAL LANTERN</td><td>4</td><td>1/7/11 16:34</td><td>3.75</td><td>14867</td><td>United Kingdom</td></tr><tr><td>540184</td><td>71053</td><td>WHITE METAL LANTERN</td><td>4</td><td>1/5/11 13:40</td><td>3.75</td><td>15266</td><td>United Kingdom</td></tr></tbody></table></div>"
      ]
     },
     "metadata": {
      "application/vnd.databricks.v1+output": {
       "addedWidgets": {},
       "aggData": [],
       "aggError": "",
       "aggOverflow": false,
       "aggSchema": [],
       "aggSeriesLimitReached": false,
       "aggType": "",
       "arguments": {},
       "columnCustomDisplayInfos": {},
       "data": [
        [
         "537759",
         "71053",
         "WHITE METAL LANTERN",
         4,
         "12/8/10 11:42",
         3.75,
         13126,
         "United Kingdom"
        ],
        [
         "537387",
         "71053",
         "WHITE METAL LANTERN",
         4,
         "12/6/10 13:34",
         3.75,
         13468,
         "United Kingdom"
        ],
        [
         "537649",
         "71053",
         "WHITE METAL LANTERN",
         4,
         "12/7/10 15:48",
         3.75,
         13807,
         "United Kingdom"
        ],
        [
         "540464",
         "71053",
         "WHITE METAL LANTERN",
         8,
         "1/7/11 13:17",
         3.39,
         14298,
         "United Kingdom"
        ],
        [
         "538012",
         "71053",
         "WHITE METAL LANTERN",
         3,
         "12/9/10 12:32",
         3.75,
         14527,
         "United Kingdom"
        ],
        [
         "539002",
         "71053",
         "WHITE METAL LANTERN",
         1,
         "12/15/10 12:30",
         3.75,
         14527,
         "United Kingdom"
        ],
        [
         "539326",
         "71053",
         "WHITE METAL LANTERN",
         4,
         "12/17/10 9:22",
         3.75,
         14560,
         "United Kingdom"
        ],
        [
         "540955",
         "71053",
         "WHITE METAL LANTERN",
         2,
         "1/12/11 13:27",
         3.75,
         14715,
         "United Kingdom"
        ],
        [
         "540493",
         "71053",
         "WHITE METAL LANTERN",
         4,
         "1/7/11 16:34",
         3.75,
         14867,
         "United Kingdom"
        ],
        [
         "540184",
         "71053",
         "WHITE METAL LANTERN",
         4,
         "1/5/11 13:40",
         3.75,
         15266,
         "United Kingdom"
        ]
       ],
       "datasetInfos": [],
       "dbfsResultPath": null,
       "isJsonSchema": true,
       "metadata": {},
       "overflow": false,
       "plotOptions": {
        "customPlotOptions": {},
        "displayType": "table",
        "pivotAggregation": null,
        "pivotColumns": null,
        "xColumns": null,
        "yColumns": null
       },
       "removedWidgets": [],
       "schema": [
        {
         "metadata": "{}",
         "name": "InvoiceNo",
         "type": "\"string\""
        },
        {
         "metadata": "{}",
         "name": "StockCode",
         "type": "\"string\""
        },
        {
         "metadata": "{}",
         "name": "Description",
         "type": "\"string\""
        },
        {
         "metadata": "{}",
         "name": "Quantity",
         "type": "\"integer\""
        },
        {
         "metadata": "{}",
         "name": "InvoiceDate",
         "type": "\"string\""
        },
        {
         "metadata": "{}",
         "name": "UnitPrice",
         "type": "\"double\""
        },
        {
         "metadata": "{}",
         "name": "CustomerID",
         "type": "\"integer\""
        },
        {
         "metadata": "{}",
         "name": "Country",
         "type": "\"string\""
        }
       ],
       "type": "table"
      }
     },
     "output_type": "display_data"
    }
   ],
   "source": [
    "display(df.filter(\"stockcode = 71053\"). \\\n",
    "    orderBy(col('CustomerId').asc_nulls_last()). \\\n",
    "    limit(10)\n",
    ")"
   ]
  },
  {
   "cell_type": "code",
   "execution_count": 0,
   "metadata": {
    "application/vnd.databricks.v1+cell": {
     "cellMetadata": {
      "byteLimit": 2048000,
      "rowLimit": 10000
     },
     "inputWidgets": {},
     "nuid": "83be8fab-a342-43e1-939b-7a2ccdf19d89",
     "showTitle": false,
     "title": ""
    }
   },
   "outputs": [
    {
     "output_type": "display_data",
     "data": {
      "text/html": [
       "<style scoped>\n",
       "  .table-result-container {\n",
       "    max-height: 300px;\n",
       "    overflow: auto;\n",
       "  }\n",
       "  table, th, td {\n",
       "    border: 1px solid black;\n",
       "    border-collapse: collapse;\n",
       "  }\n",
       "  th, td {\n",
       "    padding: 5px;\n",
       "  }\n",
       "  th {\n",
       "    text-align: left;\n",
       "  }\n",
       "</style><div class='table-result-container'><table class='table-result'><thead style='background-color: white'><tr><th>InvoiceNo</th><th>StockCode</th><th>Description</th><th>Quantity</th><th>InvoiceDate</th><th>UnitPrice</th><th>CustomerID</th><th>Country</th></tr></thead><tbody><tr><td>536544</td><td>71053</td><td>WHITE METAL LANTERN</td><td>1</td><td>12/1/10 14:32</td><td>8.47</td><td>null</td><td>United Kingdom</td></tr><tr><td>539736</td><td>71053</td><td>WHITE METAL LANTERN</td><td>1</td><td>12/21/10 15:18</td><td>8.47</td><td>null</td><td>United Kingdom</td></tr><tr><td>536865</td><td>71053</td><td>WHITE METAL LANTERN</td><td>1</td><td>12/3/10 11:28</td><td>8.47</td><td>null</td><td>United Kingdom</td></tr><tr><td>537237</td><td>71053</td><td>WHITE METAL LANTERN</td><td>1</td><td>12/6/10 9:58</td><td>8.47</td><td>null</td><td>United Kingdom</td></tr><tr><td>537240</td><td>71053</td><td>WHITE METAL LANTERN</td><td>1</td><td>12/6/10 10:08</td><td>8.47</td><td>null</td><td>United Kingdom</td></tr><tr><td>537434</td><td>71053</td><td>WHITE METAL LANTERN</td><td>2</td><td>12/6/10 16:57</td><td>8.47</td><td>null</td><td>United Kingdom</td></tr><tr><td>537642</td><td>71053</td><td>WHITE METAL LANTERN</td><td>1</td><td>12/7/10 15:33</td><td>8.47</td><td>null</td><td>United Kingdom</td></tr><tr><td>539437</td><td>71053</td><td>WHITE METAL LANTERN</td><td>1</td><td>12/17/10 14:54</td><td>8.47</td><td>null</td><td>United Kingdom</td></tr><tr><td>539453</td><td>71053</td><td>WHITE METAL LANTERN</td><td>1</td><td>12/17/10 17:08</td><td>8.47</td><td>null</td><td>United Kingdom</td></tr><tr><td>539737</td><td>71053</td><td>WHITE METAL LANTERN</td><td>1</td><td>12/21/10 15:19</td><td>8.47</td><td>null</td><td>United Kingdom</td></tr></tbody></table></div>"
      ]
     },
     "metadata": {
      "application/vnd.databricks.v1+output": {
       "addedWidgets": {},
       "aggData": [],
       "aggError": "",
       "aggOverflow": false,
       "aggSchema": [],
       "aggSeriesLimitReached": false,
       "aggType": "",
       "arguments": {},
       "columnCustomDisplayInfos": {},
       "data": [
        [
         "536544",
         "71053",
         "WHITE METAL LANTERN",
         1,
         "12/1/10 14:32",
         8.47,
         null,
         "United Kingdom"
        ],
        [
         "539736",
         "71053",
         "WHITE METAL LANTERN",
         1,
         "12/21/10 15:18",
         8.47,
         null,
         "United Kingdom"
        ],
        [
         "536865",
         "71053",
         "WHITE METAL LANTERN",
         1,
         "12/3/10 11:28",
         8.47,
         null,
         "United Kingdom"
        ],
        [
         "537237",
         "71053",
         "WHITE METAL LANTERN",
         1,
         "12/6/10 9:58",
         8.47,
         null,
         "United Kingdom"
        ],
        [
         "537240",
         "71053",
         "WHITE METAL LANTERN",
         1,
         "12/6/10 10:08",
         8.47,
         null,
         "United Kingdom"
        ],
        [
         "537434",
         "71053",
         "WHITE METAL LANTERN",
         2,
         "12/6/10 16:57",
         8.47,
         null,
         "United Kingdom"
        ],
        [
         "537642",
         "71053",
         "WHITE METAL LANTERN",
         1,
         "12/7/10 15:33",
         8.47,
         null,
         "United Kingdom"
        ],
        [
         "539437",
         "71053",
         "WHITE METAL LANTERN",
         1,
         "12/17/10 14:54",
         8.47,
         null,
         "United Kingdom"
        ],
        [
         "539453",
         "71053",
         "WHITE METAL LANTERN",
         1,
         "12/17/10 17:08",
         8.47,
         null,
         "United Kingdom"
        ],
        [
         "539737",
         "71053",
         "WHITE METAL LANTERN",
         1,
         "12/21/10 15:19",
         8.47,
         null,
         "United Kingdom"
        ]
       ],
       "datasetInfos": [],
       "dbfsResultPath": null,
       "isJsonSchema": true,
       "metadata": {},
       "overflow": false,
       "plotOptions": {
        "customPlotOptions": {},
        "displayType": "table",
        "pivotAggregation": null,
        "pivotColumns": null,
        "xColumns": null,
        "yColumns": null
       },
       "removedWidgets": [],
       "schema": [
        {
         "metadata": "{}",
         "name": "InvoiceNo",
         "type": "\"string\""
        },
        {
         "metadata": "{}",
         "name": "StockCode",
         "type": "\"string\""
        },
        {
         "metadata": "{}",
         "name": "Description",
         "type": "\"string\""
        },
        {
         "metadata": "{}",
         "name": "Quantity",
         "type": "\"integer\""
        },
        {
         "metadata": "{}",
         "name": "InvoiceDate",
         "type": "\"string\""
        },
        {
         "metadata": "{}",
         "name": "UnitPrice",
         "type": "\"double\""
        },
        {
         "metadata": "{}",
         "name": "CustomerID",
         "type": "\"integer\""
        },
        {
         "metadata": "{}",
         "name": "Country",
         "type": "\"string\""
        }
       ],
       "type": "table"
      }
     },
     "output_type": "display_data"
    }
   ],
   "source": [
    "display(df.filter(\"stockcode = 71053\"). \\\n",
    "    orderBy(col('CustomerId').desc_nulls_first()). \\\n",
    "    limit(10)\n",
    ")"
   ]
  },
  {
   "cell_type": "code",
   "execution_count": 0,
   "metadata": {
    "application/vnd.databricks.v1+cell": {
     "cellMetadata": {
      "byteLimit": 2048000,
      "rowLimit": 10000
     },
     "inputWidgets": {},
     "nuid": "90b43281-9c53-4fc1-a77b-d1fe830edd01",
     "showTitle": false,
     "title": ""
    }
   },
   "outputs": [],
   "source": [
    "order_details_df = orders_df.join(order_items_df, orders_df['order_id'] == order_items_df['order_item_order_id'])"
   ]
  },
  {
   "cell_type": "code",
   "execution_count": 0,
   "metadata": {
    "application/vnd.databricks.v1+cell": {
     "cellMetadata": {
      "byteLimit": 2048000,
      "rowLimit": 10000
     },
     "inputWidgets": {},
     "nuid": "5f7a4be8-6cbd-4a55-aff1-f8f2c57613ed",
     "showTitle": false,
     "title": ""
    }
   },
   "outputs": [
    {
     "output_type": "display_data",
     "data": {
      "text/html": [
       "<style scoped>\n",
       "  .table-result-container {\n",
       "    max-height: 300px;\n",
       "    overflow: auto;\n",
       "  }\n",
       "  table, th, td {\n",
       "    border: 1px solid black;\n",
       "    border-collapse: collapse;\n",
       "  }\n",
       "  th, td {\n",
       "    padding: 5px;\n",
       "  }\n",
       "  th {\n",
       "    text-align: left;\n",
       "  }\n",
       "</style><div class='table-result-container'><table class='table-result'><thead style='background-color: white'><tr><th>order_id</th><th>order_date</th><th>order_customer_id</th><th>order_status</th><th>order_id</th><th>order_item_order_id</th><th>order_item_product_id</th><th>order_item_quantity</th><th>order_item_subtotal</th><th>order_item_product_price</th></tr></thead><tbody><tr><td>1</td><td>2013-07-25</td><td>11599</td><td>CLOSED</td><td>1</td><td>1</td><td>957</td><td>1</td><td>299.98</td><td>299.98</td></tr><tr><td>2</td><td>2013-07-25</td><td>256</td><td>PENDING_PAYMENT</td><td>2</td><td>2</td><td>1073</td><td>1</td><td>199.99</td><td>199.99</td></tr><tr><td>2</td><td>2013-07-25</td><td>256</td><td>PENDING_PAYMENT</td><td>3</td><td>2</td><td>502</td><td>5</td><td>250.0</td><td>50.0</td></tr><tr><td>2</td><td>2013-07-25</td><td>256</td><td>PENDING_PAYMENT</td><td>4</td><td>2</td><td>403</td><td>1</td><td>129.99</td><td>129.99</td></tr><tr><td>4</td><td>2013-07-25</td><td>8827</td><td>CLOSED</td><td>5</td><td>4</td><td>897</td><td>2</td><td>49.98</td><td>24.99</td></tr><tr><td>4</td><td>2013-07-25</td><td>8827</td><td>CLOSED</td><td>6</td><td>4</td><td>365</td><td>5</td><td>299.95</td><td>59.99</td></tr><tr><td>4</td><td>2013-07-25</td><td>8827</td><td>CLOSED</td><td>7</td><td>4</td><td>502</td><td>3</td><td>150.0</td><td>50.0</td></tr><tr><td>4</td><td>2013-07-25</td><td>8827</td><td>CLOSED</td><td>8</td><td>4</td><td>1014</td><td>4</td><td>199.92</td><td>49.98</td></tr><tr><td>5</td><td>2013-07-25</td><td>11318</td><td>COMPLETE</td><td>9</td><td>5</td><td>957</td><td>1</td><td>299.98</td><td>299.98</td></tr><tr><td>5</td><td>2013-07-25</td><td>11318</td><td>COMPLETE</td><td>10</td><td>5</td><td>365</td><td>5</td><td>299.95</td><td>59.99</td></tr></tbody></table></div>"
      ]
     },
     "metadata": {
      "application/vnd.databricks.v1+output": {
       "addedWidgets": {},
       "aggData": [],
       "aggError": "",
       "aggOverflow": false,
       "aggSchema": [],
       "aggSeriesLimitReached": false,
       "aggType": "",
       "arguments": {},
       "columnCustomDisplayInfos": {},
       "data": [
        [
         1,
         "2013-07-25",
         11599,
         "CLOSED",
         1,
         1,
         957,
         1,
         299.98,
         299.98
        ],
        [
         2,
         "2013-07-25",
         256,
         "PENDING_PAYMENT",
         2,
         2,
         1073,
         1,
         199.99,
         199.99
        ],
        [
         2,
         "2013-07-25",
         256,
         "PENDING_PAYMENT",
         3,
         2,
         502,
         5,
         250.0,
         50.0
        ],
        [
         2,
         "2013-07-25",
         256,
         "PENDING_PAYMENT",
         4,
         2,
         403,
         1,
         129.99,
         129.99
        ],
        [
         4,
         "2013-07-25",
         8827,
         "CLOSED",
         5,
         4,
         897,
         2,
         49.98,
         24.99
        ],
        [
         4,
         "2013-07-25",
         8827,
         "CLOSED",
         6,
         4,
         365,
         5,
         299.95,
         59.99
        ],
        [
         4,
         "2013-07-25",
         8827,
         "CLOSED",
         7,
         4,
         502,
         3,
         150.0,
         50.0
        ],
        [
         4,
         "2013-07-25",
         8827,
         "CLOSED",
         8,
         4,
         1014,
         4,
         199.92,
         49.98
        ],
        [
         5,
         "2013-07-25",
         11318,
         "COMPLETE",
         9,
         5,
         957,
         1,
         299.98,
         299.98
        ],
        [
         5,
         "2013-07-25",
         11318,
         "COMPLETE",
         10,
         5,
         365,
         5,
         299.95,
         59.99
        ]
       ],
       "datasetInfos": [],
       "dbfsResultPath": null,
       "isJsonSchema": true,
       "metadata": {},
       "overflow": false,
       "plotOptions": {
        "customPlotOptions": {},
        "displayType": "table",
        "pivotAggregation": null,
        "pivotColumns": null,
        "xColumns": null,
        "yColumns": null
       },
       "removedWidgets": [],
       "schema": [
        {
         "metadata": "{}",
         "name": "order_id",
         "type": "\"integer\""
        },
        {
         "metadata": "{}",
         "name": "order_date",
         "type": "\"date\""
        },
        {
         "metadata": "{}",
         "name": "order_customer_id",
         "type": "\"integer\""
        },
        {
         "metadata": "{}",
         "name": "order_status",
         "type": "\"string\""
        },
        {
         "metadata": "{}",
         "name": "order_id",
         "type": "\"integer\""
        },
        {
         "metadata": "{}",
         "name": "order_item_order_id",
         "type": "\"integer\""
        },
        {
         "metadata": "{}",
         "name": "order_item_product_id",
         "type": "\"integer\""
        },
        {
         "metadata": "{}",
         "name": "order_item_quantity",
         "type": "\"integer\""
        },
        {
         "metadata": "{}",
         "name": "order_item_subtotal",
         "type": "\"float\""
        },
        {
         "metadata": "{}",
         "name": "order_item_product_price",
         "type": "\"float\""
        }
       ],
       "type": "table"
      }
     },
     "output_type": "display_data"
    }
   ],
   "source": [
    "display(order_details_df.limit(10))"
   ]
  },
  {
   "cell_type": "code",
   "execution_count": 0,
   "metadata": {
    "application/vnd.databricks.v1+cell": {
     "cellMetadata": {
      "byteLimit": 2048000,
      "rowLimit": 10000
     },
     "inputWidgets": {},
     "nuid": "3be3075c-477e-4661-97fc-0775ab125c19",
     "showTitle": false,
     "title": ""
    }
   },
   "outputs": [
    {
     "output_type": "display_data",
     "data": {
      "text/html": [
       "<style scoped>\n",
       "  .table-result-container {\n",
       "    max-height: 300px;\n",
       "    overflow: auto;\n",
       "  }\n",
       "  table, th, td {\n",
       "    border: 1px solid black;\n",
       "    border-collapse: collapse;\n",
       "  }\n",
       "  th, td {\n",
       "    padding: 5px;\n",
       "  }\n",
       "  th {\n",
       "    text-align: left;\n",
       "  }\n",
       "</style><div class='table-result-container'><table class='table-result'><thead style='background-color: white'><tr><th>order_id</th><th>order_Date</th><th>order_customer_id</th><th>order_item_subtotal</th></tr></thead><tbody><tr><td>1</td><td>2013-07-25</td><td>11599</td><td>299.98</td></tr><tr><td>2</td><td>2013-07-25</td><td>256</td><td>199.99</td></tr><tr><td>2</td><td>2013-07-25</td><td>256</td><td>250.0</td></tr><tr><td>2</td><td>2013-07-25</td><td>256</td><td>129.99</td></tr><tr><td>4</td><td>2013-07-25</td><td>8827</td><td>49.98</td></tr><tr><td>4</td><td>2013-07-25</td><td>8827</td><td>299.95</td></tr><tr><td>4</td><td>2013-07-25</td><td>8827</td><td>150.0</td></tr><tr><td>4</td><td>2013-07-25</td><td>8827</td><td>199.92</td></tr><tr><td>5</td><td>2013-07-25</td><td>11318</td><td>299.98</td></tr><tr><td>5</td><td>2013-07-25</td><td>11318</td><td>299.95</td></tr></tbody></table></div>"
      ]
     },
     "metadata": {
      "application/vnd.databricks.v1+output": {
       "addedWidgets": {},
       "aggData": [],
       "aggError": "",
       "aggOverflow": false,
       "aggSchema": [],
       "aggSeriesLimitReached": false,
       "aggType": "",
       "arguments": {},
       "columnCustomDisplayInfos": {},
       "data": [
        [
         1,
         "2013-07-25",
         11599,
         299.98
        ],
        [
         2,
         "2013-07-25",
         256,
         199.99
        ],
        [
         2,
         "2013-07-25",
         256,
         250.0
        ],
        [
         2,
         "2013-07-25",
         256,
         129.99
        ],
        [
         4,
         "2013-07-25",
         8827,
         49.98
        ],
        [
         4,
         "2013-07-25",
         8827,
         299.95
        ],
        [
         4,
         "2013-07-25",
         8827,
         150.0
        ],
        [
         4,
         "2013-07-25",
         8827,
         199.92
        ],
        [
         5,
         "2013-07-25",
         11318,
         299.98
        ],
        [
         5,
         "2013-07-25",
         11318,
         299.95
        ]
       ],
       "datasetInfos": [],
       "dbfsResultPath": null,
       "isJsonSchema": true,
       "metadata": {},
       "overflow": false,
       "plotOptions": {
        "customPlotOptions": {},
        "displayType": "table",
        "pivotAggregation": null,
        "pivotColumns": null,
        "xColumns": null,
        "yColumns": null
       },
       "removedWidgets": [],
       "schema": [
        {
         "metadata": "{}",
         "name": "order_id",
         "type": "\"integer\""
        },
        {
         "metadata": "{}",
         "name": "order_Date",
         "type": "\"date\""
        },
        {
         "metadata": "{}",
         "name": "order_customer_id",
         "type": "\"integer\""
        },
        {
         "metadata": "{}",
         "name": "order_item_subtotal",
         "type": "\"float\""
        }
       ],
       "type": "table"
      }
     },
     "output_type": "display_data"
    }
   ],
   "source": [
    "display(order_details_df.select(orders_df['order_id'], 'order_Date', 'order_customer_id', 'order_item_subtotal').limit(10))"
   ]
  },
  {
   "cell_type": "code",
   "execution_count": 0,
   "metadata": {
    "application/vnd.databricks.v1+cell": {
     "cellMetadata": {
      "byteLimit": 2048000,
      "rowLimit": 10000
     },
     "inputWidgets": {},
     "nuid": "c3900833-f2e2-4d2a-b0f7-891f8b59ae39",
     "showTitle": false,
     "title": ""
    }
   },
   "outputs": [
    {
     "output_type": "display_data",
     "data": {
      "text/html": [
       "<style scoped>\n",
       "  .table-result-container {\n",
       "    max-height: 300px;\n",
       "    overflow: auto;\n",
       "  }\n",
       "  table, th, td {\n",
       "    border: 1px solid black;\n",
       "    border-collapse: collapse;\n",
       "  }\n",
       "  th, td {\n",
       "    padding: 5px;\n",
       "  }\n",
       "  th {\n",
       "    text-align: left;\n",
       "  }\n",
       "</style><div class='table-result-container'><table class='table-result'><thead style='background-color: white'><tr><th>order_id</th><th>order_date</th><th>order_customer_id</th><th>order_status</th></tr></thead><tbody><tr><td>1</td><td>2013-07-25</td><td>11599</td><td>CLOSED</td></tr><tr><td>2</td><td>2013-07-25</td><td>256</td><td>PENDING_PAYMENT</td></tr><tr><td>2</td><td>2013-07-25</td><td>256</td><td>PENDING_PAYMENT</td></tr><tr><td>2</td><td>2013-07-25</td><td>256</td><td>PENDING_PAYMENT</td></tr><tr><td>4</td><td>2013-07-25</td><td>8827</td><td>CLOSED</td></tr><tr><td>4</td><td>2013-07-25</td><td>8827</td><td>CLOSED</td></tr><tr><td>4</td><td>2013-07-25</td><td>8827</td><td>CLOSED</td></tr><tr><td>4</td><td>2013-07-25</td><td>8827</td><td>CLOSED</td></tr><tr><td>5</td><td>2013-07-25</td><td>11318</td><td>COMPLETE</td></tr><tr><td>5</td><td>2013-07-25</td><td>11318</td><td>COMPLETE</td></tr></tbody></table></div>"
      ]
     },
     "metadata": {
      "application/vnd.databricks.v1+output": {
       "addedWidgets": {},
       "aggData": [],
       "aggError": "",
       "aggOverflow": false,
       "aggSchema": [],
       "aggSeriesLimitReached": false,
       "aggType": "",
       "arguments": {},
       "columnCustomDisplayInfos": {},
       "data": [
        [
         1,
         "2013-07-25",
         11599,
         "CLOSED"
        ],
        [
         2,
         "2013-07-25",
         256,
         "PENDING_PAYMENT"
        ],
        [
         2,
         "2013-07-25",
         256,
         "PENDING_PAYMENT"
        ],
        [
         2,
         "2013-07-25",
         256,
         "PENDING_PAYMENT"
        ],
        [
         4,
         "2013-07-25",
         8827,
         "CLOSED"
        ],
        [
         4,
         "2013-07-25",
         8827,
         "CLOSED"
        ],
        [
         4,
         "2013-07-25",
         8827,
         "CLOSED"
        ],
        [
         4,
         "2013-07-25",
         8827,
         "CLOSED"
        ],
        [
         5,
         "2013-07-25",
         11318,
         "COMPLETE"
        ],
        [
         5,
         "2013-07-25",
         11318,
         "COMPLETE"
        ]
       ],
       "datasetInfos": [],
       "dbfsResultPath": null,
       "isJsonSchema": true,
       "metadata": {},
       "overflow": false,
       "plotOptions": {
        "customPlotOptions": {},
        "displayType": "table",
        "pivotAggregation": null,
        "pivotColumns": null,
        "xColumns": null,
        "yColumns": null
       },
       "removedWidgets": [],
       "schema": [
        {
         "metadata": "{}",
         "name": "order_id",
         "type": "\"integer\""
        },
        {
         "metadata": "{}",
         "name": "order_date",
         "type": "\"date\""
        },
        {
         "metadata": "{}",
         "name": "order_customer_id",
         "type": "\"integer\""
        },
        {
         "metadata": "{}",
         "name": "order_status",
         "type": "\"string\""
        }
       ],
       "type": "table"
      }
     },
     "output_type": "display_data"
    }
   ],
   "source": [
    "display(order_details_df.select(orders_df['*']).limit(10))"
   ]
  },
  {
   "cell_type": "code",
   "execution_count": 0,
   "metadata": {
    "application/vnd.databricks.v1+cell": {
     "cellMetadata": {
      "byteLimit": 2048000,
      "rowLimit": 10000
     },
     "inputWidgets": {},
     "nuid": "0668fa0a-7e67-47a7-bd86-1856c9443086",
     "showTitle": false,
     "title": ""
    }
   },
   "outputs": [
    {
     "output_type": "display_data",
     "data": {
      "text/html": [
       "<style scoped>\n",
       "  .table-result-container {\n",
       "    max-height: 300px;\n",
       "    overflow: auto;\n",
       "  }\n",
       "  table, th, td {\n",
       "    border: 1px solid black;\n",
       "    border-collapse: collapse;\n",
       "  }\n",
       "  th, td {\n",
       "    padding: 5px;\n",
       "  }\n",
       "  th {\n",
       "    text-align: left;\n",
       "  }\n",
       "</style><div class='table-result-container'><table class='table-result'><thead style='background-color: white'><tr><th>order_id</th><th>order_date</th><th>order_customer_id</th><th>order_status</th><th>order_item_subtotal</th></tr></thead><tbody><tr><td>1</td><td>2013-07-25</td><td>11599</td><td>CLOSED</td><td>299.98</td></tr><tr><td>2</td><td>2013-07-25</td><td>256</td><td>PENDING_PAYMENT</td><td>129.99</td></tr><tr><td>2</td><td>2013-07-25</td><td>256</td><td>PENDING_PAYMENT</td><td>250.0</td></tr><tr><td>2</td><td>2013-07-25</td><td>256</td><td>PENDING_PAYMENT</td><td>199.99</td></tr><tr><td>4</td><td>2013-07-25</td><td>8827</td><td>CLOSED</td><td>199.92</td></tr><tr><td>4</td><td>2013-07-25</td><td>8827</td><td>CLOSED</td><td>150.0</td></tr><tr><td>4</td><td>2013-07-25</td><td>8827</td><td>CLOSED</td><td>299.95</td></tr><tr><td>4</td><td>2013-07-25</td><td>8827</td><td>CLOSED</td><td>49.98</td></tr><tr><td>5</td><td>2013-07-25</td><td>11318</td><td>COMPLETE</td><td>129.99</td></tr><tr><td>5</td><td>2013-07-25</td><td>11318</td><td>COMPLETE</td><td>299.98</td></tr></tbody></table></div>"
      ]
     },
     "metadata": {
      "application/vnd.databricks.v1+output": {
       "addedWidgets": {},
       "aggData": [],
       "aggError": "",
       "aggOverflow": false,
       "aggSchema": [],
       "aggSeriesLimitReached": false,
       "aggType": "",
       "arguments": {},
       "columnCustomDisplayInfos": {},
       "data": [
        [
         1,
         "2013-07-25",
         11599,
         "CLOSED",
         299.98
        ],
        [
         2,
         "2013-07-25",
         256,
         "PENDING_PAYMENT",
         129.99
        ],
        [
         2,
         "2013-07-25",
         256,
         "PENDING_PAYMENT",
         250.0
        ],
        [
         2,
         "2013-07-25",
         256,
         "PENDING_PAYMENT",
         199.99
        ],
        [
         4,
         "2013-07-25",
         8827,
         "CLOSED",
         199.92
        ],
        [
         4,
         "2013-07-25",
         8827,
         "CLOSED",
         150.0
        ],
        [
         4,
         "2013-07-25",
         8827,
         "CLOSED",
         299.95
        ],
        [
         4,
         "2013-07-25",
         8827,
         "CLOSED",
         49.98
        ],
        [
         5,
         "2013-07-25",
         11318,
         "COMPLETE",
         129.99
        ],
        [
         5,
         "2013-07-25",
         11318,
         "COMPLETE",
         299.98
        ]
       ],
       "datasetInfos": [],
       "dbfsResultPath": null,
       "isJsonSchema": true,
       "metadata": {},
       "overflow": false,
       "plotOptions": {
        "customPlotOptions": {},
        "displayType": "table",
        "pivotAggregation": null,
        "pivotColumns": null,
        "xColumns": null,
        "yColumns": null
       },
       "removedWidgets": [],
       "schema": [
        {
         "metadata": "{}",
         "name": "order_id",
         "type": "\"integer\""
        },
        {
         "metadata": "{}",
         "name": "order_date",
         "type": "\"date\""
        },
        {
         "metadata": "{}",
         "name": "order_customer_id",
         "type": "\"integer\""
        },
        {
         "metadata": "{}",
         "name": "order_status",
         "type": "\"string\""
        },
        {
         "metadata": "{}",
         "name": "order_item_subtotal",
         "type": "\"float\""
        }
       ],
       "type": "table"
      }
     },
     "output_type": "display_data"
    }
   ],
   "source": [
    "display(order_details_df.select(orders_df['*'], 'order_item_subtotal').limit(10))"
   ]
  },
  {
   "cell_type": "markdown",
   "metadata": {
    "application/vnd.databricks.v1+cell": {
     "cellMetadata": {},
     "inputWidgets": {},
     "nuid": "53b6b54d-b122-42a9-ae7b-147cbc9c5887",
     "showTitle": false,
     "title": ""
    }
   },
   "source": [
    "compute daily revenue for orders which are placed in 2014 january and alse the order status is in complete or close"
   ]
  },
  {
   "cell_type": "code",
   "execution_count": 0,
   "metadata": {
    "application/vnd.databricks.v1+cell": {
     "cellMetadata": {},
     "inputWidgets": {},
     "nuid": "3622d872-4f52-4e39-a544-f09dd8b6dea3",
     "showTitle": false,
     "title": ""
    }
   },
   "outputs": [],
   "source": [
    "from pyspark.sql.functions import year, month"
   ]
  },
  {
   "cell_type": "code",
   "execution_count": 0,
   "metadata": {
    "application/vnd.databricks.v1+cell": {
     "cellMetadata": {
      "byteLimit": 2048000,
      "rowLimit": 10000
     },
     "inputWidgets": {},
     "nuid": "fe980264-7326-486c-8a31-191f497e3ddb",
     "showTitle": false,
     "title": ""
    }
   },
   "outputs": [
    {
     "output_type": "display_data",
     "data": {
      "text/html": [
       "<style scoped>\n",
       "  .table-result-container {\n",
       "    max-height: 300px;\n",
       "    overflow: auto;\n",
       "  }\n",
       "  table, th, td {\n",
       "    border: 1px solid black;\n",
       "    border-collapse: collapse;\n",
       "  }\n",
       "  th, td {\n",
       "    padding: 5px;\n",
       "  }\n",
       "  th {\n",
       "    text-align: left;\n",
       "  }\n",
       "</style><div class='table-result-container'><table class='table-result'><thead style='background-color: white'><tr><th>order_date</th><th>revenue</th></tr></thead><tbody><tr><td>2014-01-05</td><td>59093.58</td></tr><tr><td>2014-01-11</td><td>58913.51</td></tr><tr><td>2014-01-30</td><td>58597.63</td></tr><tr><td>2014-01-21</td><td>56125.68</td></tr><tr><td>2014-01-03</td><td>53080.1</td></tr><tr><td>2014-01-10</td><td>52781.11</td></tr><tr><td>2014-01-15</td><td>50622.14</td></tr><tr><td>2014-01-22</td><td>49359.94</td></tr><tr><td>2014-01-20</td><td>43416.32</td></tr><tr><td>2014-01-16</td><td>42362.41</td></tr><tr><td>2014-01-12</td><td>41235.96</td></tr><tr><td>2014-01-19</td><td>41023.1</td></tr><tr><td>2014-01-23</td><td>39708.67</td></tr><tr><td>2014-01-31</td><td>39644.18</td></tr><tr><td>2014-01-29</td><td>39289.22</td></tr><tr><td>2014-01-09</td><td>38871.87</td></tr><tr><td>2014-01-07</td><td>38545.64</td></tr><tr><td>2014-01-28</td><td>38419.64</td></tr><tr><td>2014-01-14</td><td>37722.19</td></tr><tr><td>2014-01-13</td><td>35398.77</td></tr><tr><td>2014-01-24</td><td>33855.51</td></tr><tr><td>2014-01-18</td><td>32200.4</td></tr><tr><td>2014-01-27</td><td>31953.46</td></tr><tr><td>2014-01-04</td><td>31780.81</td></tr><tr><td>2014-01-17</td><td>30960.35</td></tr><tr><td>2014-01-26</td><td>29745.37</td></tr><tr><td>2014-01-01</td><td>29071.78</td></tr><tr><td>2014-01-06</td><td>28852.45</td></tr><tr><td>2014-01-25</td><td>24904.59</td></tr><tr><td>2014-01-02</td><td>21872.7</td></tr><tr><td>2014-01-08</td><td>20812.66</td></tr></tbody></table></div>"
      ]
     },
     "metadata": {
      "application/vnd.databricks.v1+output": {
       "addedWidgets": {},
       "aggData": [],
       "aggError": "",
       "aggOverflow": false,
       "aggSchema": [],
       "aggSeriesLimitReached": false,
       "aggType": "",
       "arguments": {},
       "columnCustomDisplayInfos": {},
       "data": [
        [
         "2014-01-05",
         59093.58
        ],
        [
         "2014-01-11",
         58913.51
        ],
        [
         "2014-01-30",
         58597.63
        ],
        [
         "2014-01-21",
         56125.68
        ],
        [
         "2014-01-03",
         53080.1
        ],
        [
         "2014-01-10",
         52781.11
        ],
        [
         "2014-01-15",
         50622.14
        ],
        [
         "2014-01-22",
         49359.94
        ],
        [
         "2014-01-20",
         43416.32
        ],
        [
         "2014-01-16",
         42362.41
        ],
        [
         "2014-01-12",
         41235.96
        ],
        [
         "2014-01-19",
         41023.1
        ],
        [
         "2014-01-23",
         39708.67
        ],
        [
         "2014-01-31",
         39644.18
        ],
        [
         "2014-01-29",
         39289.22
        ],
        [
         "2014-01-09",
         38871.87
        ],
        [
         "2014-01-07",
         38545.64
        ],
        [
         "2014-01-28",
         38419.64
        ],
        [
         "2014-01-14",
         37722.19
        ],
        [
         "2014-01-13",
         35398.77
        ],
        [
         "2014-01-24",
         33855.51
        ],
        [
         "2014-01-18",
         32200.4
        ],
        [
         "2014-01-27",
         31953.46
        ],
        [
         "2014-01-04",
         31780.81
        ],
        [
         "2014-01-17",
         30960.35
        ],
        [
         "2014-01-26",
         29745.37
        ],
        [
         "2014-01-01",
         29071.78
        ],
        [
         "2014-01-06",
         28852.45
        ],
        [
         "2014-01-25",
         24904.59
        ],
        [
         "2014-01-02",
         21872.7
        ],
        [
         "2014-01-08",
         20812.66
        ]
       ],
       "datasetInfos": [],
       "dbfsResultPath": null,
       "isJsonSchema": true,
       "metadata": {},
       "overflow": false,
       "plotOptions": {
        "customPlotOptions": {},
        "displayType": "table",
        "pivotAggregation": null,
        "pivotColumns": null,
        "xColumns": null,
        "yColumns": null
       },
       "removedWidgets": [],
       "schema": [
        {
         "metadata": "{}",
         "name": "order_date",
         "type": "\"date\""
        },
        {
         "metadata": "{}",
         "name": "revenue",
         "type": "\"double\""
        }
       ],
       "type": "table"
      }
     },
     "output_type": "display_data"
    }
   ],
   "source": [
    "display(order_details_df.filter(\"order_status in ('COMPLETE', 'CLOSED') and year(order_date) = 2014 and month(order_date) = 1\"). \\\n",
    "    groupBy('order_date'). \\\n",
    "    agg(round(sum('order_item_subtotal'), 2).alias('revenue')). \\\n",
    "    orderBy(col('revenue').desc())\n",
    ")"
   ]
  },
  {
   "cell_type": "code",
   "execution_count": 0,
   "metadata": {
    "application/vnd.databricks.v1+cell": {
     "cellMetadata": {
      "byteLimit": 2048000,
      "rowLimit": 10000
     },
     "inputWidgets": {},
     "nuid": "b5b203e1-8d13-4c81-b593-62919c59f169",
     "showTitle": false,
     "title": ""
    }
   },
   "outputs": [
    {
     "output_type": "display_data",
     "data": {
      "text/html": [
       "<style scoped>\n",
       "  .table-result-container {\n",
       "    max-height: 300px;\n",
       "    overflow: auto;\n",
       "  }\n",
       "  table, th, td {\n",
       "    border: 1px solid black;\n",
       "    border-collapse: collapse;\n",
       "  }\n",
       "  th, td {\n",
       "    padding: 5px;\n",
       "  }\n",
       "  th {\n",
       "    text-align: left;\n",
       "  }\n",
       "</style><div class='table-result-container'><table class='table-result'><thead style='background-color: white'><tr><th>order_id</th><th>order_date</th><th>order_customer_id</th><th>order_status</th><th>order_item_subtotal</th></tr></thead><tbody><tr><td>1</td><td>2013-07-25</td><td>11599</td><td>CLOSED</td><td>299.98</td></tr><tr><td>2</td><td>2013-07-25</td><td>256</td><td>PENDING_PAYMENT</td><td>129.99</td></tr><tr><td>2</td><td>2013-07-25</td><td>256</td><td>PENDING_PAYMENT</td><td>250.0</td></tr><tr><td>2</td><td>2013-07-25</td><td>256</td><td>PENDING_PAYMENT</td><td>199.99</td></tr><tr><td>3</td><td>2013-07-25</td><td>12111</td><td>COMPLETE</td><td>null</td></tr><tr><td>4</td><td>2013-07-25</td><td>8827</td><td>CLOSED</td><td>199.92</td></tr><tr><td>4</td><td>2013-07-25</td><td>8827</td><td>CLOSED</td><td>150.0</td></tr><tr><td>4</td><td>2013-07-25</td><td>8827</td><td>CLOSED</td><td>299.95</td></tr><tr><td>4</td><td>2013-07-25</td><td>8827</td><td>CLOSED</td><td>49.98</td></tr><tr><td>5</td><td>2013-07-25</td><td>11318</td><td>COMPLETE</td><td>129.99</td></tr></tbody></table></div>"
      ]
     },
     "metadata": {
      "application/vnd.databricks.v1+output": {
       "addedWidgets": {},
       "aggData": [],
       "aggError": "",
       "aggOverflow": false,
       "aggSchema": [],
       "aggSeriesLimitReached": false,
       "aggType": "",
       "arguments": {},
       "columnCustomDisplayInfos": {},
       "data": [
        [
         1,
         "2013-07-25",
         11599,
         "CLOSED",
         299.98
        ],
        [
         2,
         "2013-07-25",
         256,
         "PENDING_PAYMENT",
         129.99
        ],
        [
         2,
         "2013-07-25",
         256,
         "PENDING_PAYMENT",
         250.0
        ],
        [
         2,
         "2013-07-25",
         256,
         "PENDING_PAYMENT",
         199.99
        ],
        [
         3,
         "2013-07-25",
         12111,
         "COMPLETE",
         null
        ],
        [
         4,
         "2013-07-25",
         8827,
         "CLOSED",
         199.92
        ],
        [
         4,
         "2013-07-25",
         8827,
         "CLOSED",
         150.0
        ],
        [
         4,
         "2013-07-25",
         8827,
         "CLOSED",
         299.95
        ],
        [
         4,
         "2013-07-25",
         8827,
         "CLOSED",
         49.98
        ],
        [
         5,
         "2013-07-25",
         11318,
         "COMPLETE",
         129.99
        ]
       ],
       "datasetInfos": [],
       "dbfsResultPath": null,
       "isJsonSchema": true,
       "metadata": {},
       "overflow": false,
       "plotOptions": {
        "customPlotOptions": {},
        "displayType": "table",
        "pivotAggregation": null,
        "pivotColumns": null,
        "xColumns": null,
        "yColumns": null
       },
       "removedWidgets": [],
       "schema": [
        {
         "metadata": "{}",
         "name": "order_id",
         "type": "\"integer\""
        },
        {
         "metadata": "{}",
         "name": "order_date",
         "type": "\"date\""
        },
        {
         "metadata": "{}",
         "name": "order_customer_id",
         "type": "\"integer\""
        },
        {
         "metadata": "{}",
         "name": "order_status",
         "type": "\"string\""
        },
        {
         "metadata": "{}",
         "name": "order_item_subtotal",
         "type": "\"float\""
        }
       ],
       "type": "table"
      }
     },
     "output_type": "display_data"
    }
   ],
   "source": [
    "display(orders_df.join(order_items_df,  orders_df['order_id'] == order_items_df['order_item_order_id'], 'left'). \\\n",
    "    select(orders_df['*'], order_items_df['order_item_subtotal']). \\\n",
    "    orderBy('order_id').limit(10))"
   ]
  },
  {
   "cell_type": "code",
   "execution_count": 0,
   "metadata": {
    "application/vnd.databricks.v1+cell": {
     "cellMetadata": {
      "byteLimit": 2048000,
      "rowLimit": 10000
     },
     "inputWidgets": {},
     "nuid": "43f4655d-e9b9-41b1-aa43-b84c6abc4a88",
     "showTitle": false,
     "title": ""
    }
   },
   "outputs": [
    {
     "output_type": "display_data",
     "data": {
      "text/plain": [
       "172198"
      ]
     },
     "metadata": {},
     "output_type": "display_data"
    }
   ],
   "source": [
    "display(orders_df.join(order_items_df,  orders_df['order_id'] == order_items_df['order_item_order_id']).count())"
   ]
  },
  {
   "cell_type": "code",
   "execution_count": 0,
   "metadata": {
    "application/vnd.databricks.v1+cell": {
     "cellMetadata": {
      "byteLimit": 2048000,
      "rowLimit": 10000
     },
     "inputWidgets": {},
     "nuid": "c10cff26-ad17-46c2-a7ed-c9ce777bc373",
     "showTitle": false,
     "title": ""
    }
   },
   "outputs": [
    {
     "output_type": "display_data",
     "data": {
      "text/plain": [
       "183650"
      ]
     },
     "metadata": {},
     "output_type": "display_data"
    }
   ],
   "source": [
    "display(orders_df.join(order_items_df,  orders_df['order_id'] == order_items_df['order_item_order_id'], 'left').count())"
   ]
  },
  {
   "cell_type": "code",
   "execution_count": 0,
   "metadata": {
    "application/vnd.databricks.v1+cell": {
     "cellMetadata": {
      "byteLimit": 2048000,
      "rowLimit": 10000
     },
     "inputWidgets": {},
     "nuid": "50219b3a-3d93-4eb0-b0e4-aa5cef192f1e",
     "showTitle": false,
     "title": ""
    }
   },
   "outputs": [
    {
     "output_type": "display_data",
     "data": {
      "text/html": [
       "<style scoped>\n",
       "  .table-result-container {\n",
       "    max-height: 300px;\n",
       "    overflow: auto;\n",
       "  }\n",
       "  table, th, td {\n",
       "    border: 1px solid black;\n",
       "    border-collapse: collapse;\n",
       "  }\n",
       "  th, td {\n",
       "    padding: 5px;\n",
       "  }\n",
       "  th {\n",
       "    text-align: left;\n",
       "  }\n",
       "</style><div class='table-result-container'><table class='table-result'><thead style='background-color: white'><tr><th>order_id</th><th>order_item_order_id</th><th>order_item_product_id</th><th>order_item_quantity</th><th>order_item_subtotal</th><th>order_item_product_price</th></tr></thead><tbody></tbody></table></div>"
      ]
     },
     "metadata": {
      "application/vnd.databricks.v1+output": {
       "addedWidgets": {},
       "aggData": [],
       "aggError": "",
       "aggOverflow": false,
       "aggSchema": [],
       "aggSeriesLimitReached": false,
       "aggType": "",
       "arguments": {},
       "columnCustomDisplayInfos": {},
       "data": [],
       "datasetInfos": [],
       "dbfsResultPath": null,
       "isJsonSchema": true,
       "metadata": {},
       "overflow": false,
       "plotOptions": {
        "customPlotOptions": {},
        "displayType": "table",
        "pivotAggregation": null,
        "pivotColumns": null,
        "xColumns": null,
        "yColumns": null
       },
       "removedWidgets": [],
       "schema": [
        {
         "metadata": "{}",
         "name": "order_id",
         "type": "\"integer\""
        },
        {
         "metadata": "{}",
         "name": "order_item_order_id",
         "type": "\"integer\""
        },
        {
         "metadata": "{}",
         "name": "order_item_product_id",
         "type": "\"integer\""
        },
        {
         "metadata": "{}",
         "name": "order_item_quantity",
         "type": "\"integer\""
        },
        {
         "metadata": "{}",
         "name": "order_item_subtotal",
         "type": "\"float\""
        },
        {
         "metadata": "{}",
         "name": "order_item_product_price",
         "type": "\"float\""
        }
       ],
       "type": "table"
      }
     },
     "output_type": "display_data"
    }
   ],
   "source": [
    "display(order_items_df.filter(\"order_item_order_id = 26\"))"
   ]
  },
  {
   "cell_type": "code",
   "execution_count": 0,
   "metadata": {
    "application/vnd.databricks.v1+cell": {
     "cellMetadata": {
      "byteLimit": 2048000,
      "rowLimit": 10000
     },
     "inputWidgets": {},
     "nuid": "3a988a57-5fe0-47e8-bf10-983b18c2f8af",
     "showTitle": false,
     "title": ""
    }
   },
   "outputs": [
    {
     "output_type": "display_data",
     "data": {
      "text/plain": [
       "68883"
      ]
     },
     "metadata": {},
     "output_type": "display_data"
    }
   ],
   "source": [
    "display(orders_df.count())"
   ]
  },
  {
   "cell_type": "code",
   "execution_count": 0,
   "metadata": {
    "application/vnd.databricks.v1+cell": {
     "cellMetadata": {
      "byteLimit": 2048000,
      "rowLimit": 10000
     },
     "inputWidgets": {},
     "nuid": "fd245b1c-a7c4-463a-800b-ce70658c7e36",
     "showTitle": false,
     "title": ""
    }
   },
   "outputs": [
    {
     "output_type": "display_data",
     "data": {
      "text/plain": [
       "172198"
      ]
     },
     "metadata": {},
     "output_type": "display_data"
    }
   ],
   "source": [
    "display(order_items_df.count())"
   ]
  },
  {
   "cell_type": "code",
   "execution_count": 0,
   "metadata": {
    "application/vnd.databricks.v1+cell": {
     "cellMetadata": {},
     "inputWidgets": {},
     "nuid": "5f080dc3-e419-48ce-a006-17cb35c94c05",
     "showTitle": false,
     "title": ""
    }
   },
   "outputs": [],
   "source": []
  }
 ],
 "metadata": {
  "application/vnd.databricks.v1+notebook": {
   "dashboards": [],
   "language": "python",
   "notebookMetadata": {
    "mostRecentlyExecutedCommandWithImplicitDF": {
     "commandId": 925183189413693,
     "dataframes": [
      "_sqldf"
     ]
    },
    "pythonIndentUnit": 4
   },
   "notebookName": "Baseic transformations unsing pyspark dataframe APIs",
   "widgets": {}
  }
 },
 "nbformat": 4,
 "nbformat_minor": 0
}
